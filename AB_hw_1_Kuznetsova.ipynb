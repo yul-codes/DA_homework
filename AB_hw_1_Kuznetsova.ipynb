{
  "cells": [
    {
      "cell_type": "markdown",
      "metadata": {
        "id": "view-in-github",
        "colab_type": "text"
      },
      "source": [
        "<a href=\"https://colab.research.google.com/github/yul-codes/DA_homework/blob/main/AB_hw_1_Kuznetsova.ipynb\" target=\"_parent\"><img src=\"https://colab.research.google.com/assets/colab-badge.svg\" alt=\"Open In Colab\"/></a>"
      ]
    },
    {
      "cell_type": "markdown",
      "metadata": {
        "id": "mfK0xI6BOYNa"
      },
      "source": [
        "##**Часть 1. Вопросы**"
      ]
    },
    {
      "cell_type": "markdown",
      "metadata": {
        "id": "_R-uIdo_IBiJ"
      },
      "source": [
        "<font color='darkcyan'>*1. Перечислите 3-4 статистических критерия, о которых вы знаете или слышали. Напишите названия через запятую.*</font>\n",
        "\n",
        "\n",
        "t-критерий, z-критерий, критерий хи-квадрат, критерий Манна-Уитни"
      ]
    },
    {
      "cell_type": "markdown",
      "metadata": {
        "id": "dTdOnYcsJoeq"
      },
      "source": [
        "---\n",
        "<font color='darkcyan'>*2. Что такое контрольная и тестовая группа в парадигме A/B-тестирования?*\n",
        "\n",
        "В A/B тестировании тестовая группа - группа пользователей, для которых выкатывают обновленную экспериментальную версию продукта/интерфейса/функционала, контрольная группа - группа пользователей, которые продолжают пользоваться текущей версией без нововведений, на основании дальнейшей оценки изменения поведения пользователей по итогам тестирования принимается решение о целесообразности повсеместного внедрения новой версии."
      ]
    },
    {
      "cell_type": "markdown",
      "metadata": {
        "id": "PeNCizSSKziJ"
      },
      "source": [
        "---\n",
        "<font color='darkcyan'>*3. Если мы сформулируем нулевую гипотезу следующим образом:*\n",
        "\n",
        "*Мужчинам и женщинам в среднем выдаются одинаковые по размеру кредиты.*</font>\n",
        "\n",
        "<font color='darkcyan'>*Сформулируйте альтернативную гипотезу.*</font>\n",
        "\n",
        "\n",
        "Двусторонняя альтернатива: Средний размер кредитов, выдаваемых мужчинам и женщинам, различен.\n",
        "\n",
        "Односторонние альтернативные гипотезы, сформулированные с фокусом на женщин (girl power):\n",
        "\n",
        "Левосторонняя альтернатива: В среднем женщинам выдают кредиты в меньшем размере, чем мужчинам.\n",
        "\n",
        "Правосторонняя альтернатива: В среднем женщинам выдают кредиты в большем размере, чем мужчинам."
      ]
    },
    {
      "cell_type": "markdown",
      "metadata": {
        "id": "qUcLGekfNiyK"
      },
      "source": [
        "---\n",
        "<font color='darkcyan'>*4. Что такое A/A-тест? Приведите пример его использования.*</font>\n",
        "\n",
        "Это тестирование, при котором, в отличие от А/Б теста, где контрольная группа получает текущую версию продукта, а тестовая - новую, происходит наблюдение за поведением пользователей 2-х групп из одной генеральной совокупности на одной и той же версии продукта. Целью такого теста может являться проверка корректности работы продукта и его настроек и/или стабильности получаемых результатов на 2-х группах до перехода к проведению теста по внедрению обновленного функционала. От данного теста ожидается (в идеале) получение идентичных результатов. Существенные различия могут свидетельствовать об некорректной работе продукта/функционала или некорректном проведении эксперимента (например, пользователи были распределены по группам неоднородно и, соответственно, выборки нерепрезентативны).\n",
        "\n",
        "Например, с помощью А/А теста на сайте маркетплейса можно проверить уровень конверсии просмотров рекомендуемых товаров в покупки. Тест поможет выявить, есть ли и какая может быть погрешность в конверсии перед проведением А/Б теста с обновленным расположением рекомендаций на экране сайта/приложения."
      ]
    },
    {
      "cell_type": "markdown",
      "metadata": {
        "id": "UpGlfEUTQ6pS"
      },
      "source": [
        "---\n",
        "<font color='darkcyan'>*5. Что такое ухудшающий эксперимент? Приведите пример его использования.*</font>\n",
        "\n",
        "A/Б эксперимент, при котором тестовая группа получает версию хуже текущей по неким характеристикам (замедленная скорость работы, менее интуитивный интерфейс и т.п.) с целью оценки отрицательного влияния таких изменений на поведение пользователей. Если статистически значимых показателей не было выявлено, это может означать, что внесенные изменения не влияют на пользовательский опыт или ключевые метрики продукта. Может использоваться как один из этапов тестирования для того, чтобы определиться, приступать ли к запуску внедрения неких улучшений в продукт или нет или не тратить на это всевозможные ресурсы.\n",
        "\n",
        "Например, можно провести эксперимент, где тестовая группа получит версию приложения с небольшой замедленной загрузкой некоторых или всех разделов. Если не будет выявлено статистически значимых различий в поведении пользователей разных групп, то, например, можно говорить о том, что небольшие изменения в скорости работы приложения не оказают существенного влияния на пользовательский опыт. И, возможно, увеличивать мощности и скорости приложения на данном этапе нет смысла.\n",
        "\n",
        "\n",
        "\n",
        "\n",
        "\n"
      ]
    },
    {
      "cell_type": "markdown",
      "metadata": {
        "id": "VIJnBFHqQ7oJ"
      },
      "source": [
        "---\n",
        "<font color='darkcyan'>*6. Если увеличить размер выборки, то сильные отклонения выборочных средних от истинного среднего будут возникать:*</font>\n",
        "\n",
        "а) реже, распределение выборочных средних станет более узким\n"
      ]
    },
    {
      "cell_type": "markdown",
      "metadata": {
        "id": "NA0Bk0__Q8GY"
      },
      "source": [
        "---\n",
        "<font color='darkcyan'>*7. Если мы рассчитали 95% доверительный интервал для среднего значения, то какое из следующих утверждений верно:*</font>\n",
        "\n",
        "а) Если многократно повторять эксперимент, для каждой выборки рассчитывать свой доверительный интервал, то в 95 % случаев истинное среднее будет находиться внутри доверительного интервала.\n"
      ]
    },
    {
      "cell_type": "markdown",
      "metadata": {
        "id": "S3KmGirBQ8gf"
      },
      "source": [
        "---\n",
        "<font color='darkcyan'>*8. Рассмотрим пример тестирования нового препарата из кейса, который рассматривали в классе. Все вводные остаются те же.*\n",
        "\n",
        "*В классе мы рассчитали z-значение и посчитали p-value. Использование доверительных интервалов зачастую рассматривают как альтернативный способ проверки гипотез. В нашем случае, если значение 20 (предполагаемое среднее значение в генеральной совокупности) не будет принадлежать 95% доверительному интервалу, рассчитанному по выборочным данным, то у нас будет достаточно оснований отклонить нулевую гипотезу. Проверьте, согласуются ли результаты двух этих подходов: рассчитайте 95% доверительный интервал для среднего значения на примере с тестированием нового препарата. Параметры: n=64, sd=4, X=18.5. (Нужные формулы для расчета добавлены в презентацию).*</font>\n",
        "\n"
      ]
    },
    {
      "cell_type": "markdown",
      "source": [
        "$$\\bar{X} \\pm Z \\times \\frac{sd}{\\sqrt{n}} $$"
      ],
      "metadata": {
        "id": "nqKLw5tobFnc"
      }
    },
    {
      "cell_type": "code",
      "source": [
        "import numpy as np\n",
        "\n",
        "confint_left = 18.5 - 1.96 * (4 / np.sqrt(64))\n",
        "confint_right = 18.5 + 1.96 * (4 / np.sqrt(64))\n",
        "\n",
        "print(f\"Границы доверительного интервала: {confint_left}, {confint_right}\")"
      ],
      "metadata": {
        "colab": {
          "base_uri": "https://localhost:8080/"
        },
        "id": "iBfbx_1_bvAR",
        "outputId": "8f3f1fb8-54cc-4987-8d9f-3bc3762620de"
      },
      "execution_count": null,
      "outputs": [
        {
          "output_type": "stream",
          "name": "stdout",
          "text": [
            "Границы доверительного интервала: 17.52, 19.48\n"
          ]
        }
      ]
    },
    {
      "cell_type": "markdown",
      "source": [
        "Предполагаемое среднее значение ГС не входит в доверительный интервал, т.е. есть основания отвергнуть нулевую гипотезу.\n",
        "\n",
        "На занятии было подсчитано p-value ≈ 0.003, что показывает вероятность получения рассчитанного (полученное выборочное среднее 18.5 vs предполагаемое среднее ГС 20) или большего отклонения от предполагаемого. Вероятность низкая, что можно трактовать таким образом, что вероятность того, что отличие возникло случайно, очень низкая, т.е. оно статистически значимо, на основании чего можно отвернуть нулевую гипотезу.\n",
        "\n",
        "Таким образом, результаты двух способов согласуются между собой - оба демонстрируют наличие статистически значимого различия между средним сроком выздоровления от болезни и сроком выздоровления при использовании нового препарата, и при обоих способах есть основания отвергнуть нулевую гипотезу.\n",
        "\n",
        "Но это не точно =)"
      ],
      "metadata": {
        "id": "BUDnOyWCfl7j"
      }
    },
    {
      "cell_type": "markdown",
      "metadata": {
        "id": "2tE0lAwVR7kW"
      },
      "source": [
        "---\n",
        "<font color='darkcyan'>*9. При p < 0.05, нулевая гипотеза обычно отклоняется, и различия считаются статистически значимыми. Однако часто в статистике используется более строгий уровень значимости, например, p < 0.01. Может ли случиться так, что при выбранном уровне значимости α = 0.05 у нас будет обнаружен статистически значимый результат, в то время как при α = 0.01 этот результат не будет считаться статистически значимым? Ответьте - да или нет.*</cyan>\n",
        "\n",
        "Да\n",
        "\n"
      ]
    },
    {
      "cell_type": "markdown",
      "metadata": {
        "id": "Hf6P-DsPR-xx"
      },
      "source": [
        "---\n",
        "<font color='darkcyan'>*10. Рандомизация - это важное условие для проведения A/B-теста. Это означает, что пользователей необходимо случайным образом распределять так, чтобы каждый из них имел равные шансы быть в любой из групп. Какой из предложенных вариантов НЕ может быть использован в качестве статистической единицы для случайного разделения на группы А и В?*</font>\n",
        "\n",
        "c) Выплаченная клиентом сумма за подписку\n",
        "(не уверена, я запуталась, но как будто бы идентификатор клиента или заказа могут быть просто набором символов, а выплаченная сумма - уже конкретная величина, которая может быть зависимой от финансовых возможностей клиента и т.п.)"
      ]
    },
    {
      "cell_type": "markdown",
      "metadata": {
        "id": "yLdd8TUiSh8r"
      },
      "source": [
        "##**Часть 2. Практика**"
      ]
    },
    {
      "cell_type": "markdown",
      "metadata": {
        "id": "ZTpawAHOS3x9"
      },
      "source": [
        "###*Задание*"
      ]
    },
    {
      "cell_type": "markdown",
      "metadata": {
        "id": "DUexZuEUTciD"
      },
      "source": [
        "ссылка на дата сет: https://docs.google.com/spreadsheets/d/1gR_-K5F6lo2kEMW30Fd9n3rHq8ZnTFXY_yWRFpj-2Fk/edit?usp=sharing\n",
        "\n",
        "\n",
        "\n",
        "Вы — небольшой интернет-магазин, который проводит A/B-тест двух вариантов вашего сайта. Датасет содержит следующие данные:\n",
        "\n",
        "\n",
        "\n",
        "- **event_date** - дата\n",
        "\n",
        "- **id_client** - ID клиента\n",
        "\n",
        "- **group** - контрольная или тестовая группа\n",
        "\n",
        "- **flag_auth** - залогиненный пользователь сайта или нет\n",
        "\n",
        "- **flag_success** - результат (была совершена покупка или нет)"
      ]
    },
    {
      "cell_type": "markdown",
      "metadata": {
        "id": "gCKuwlhTTNdb"
      },
      "source": [
        "Проанализируйте датасет и ответьте на следующие вопросы:\n",
        "\n",
        "\n",
        "\n",
        "1. Посчитайте количество уникальных клиентов в тестовой и контрольной группах. Какой вывод можно сделать из этого?\n",
        "\n",
        "2. Постройте линейный график количества покупок и покупателей по дням, используя библиотеку Python (Matplotlib, Seaborn, Plotly). Ответьте на вопрос: есть ли недельная сезонность в магазине?\n",
        "\n",
        "3. Посчитайте конверсию в успех для контрольной и тестовой групп. Это количество успешных деленное на количество всех попыток. В контрольной или тестовой группе конверсия выше?\n",
        "\n",
        "4. Используя калькулятор Эванса-Миллера (Chi-Squared Test), проверьте, является ли разница между конверсиями в успех статистически значимой при α=0.05 (то есть уровень доверия = 95%), а при α=0.10 (то есть уровень доверия = 90%).\n",
        "\n",
        "5. Рассчитайте теперь Z-тест в Python, например, так:\n",
        "\n",
        "\n",
        "\n",
        "import numpy as np\n",
        "\n",
        "import statsmodels.api as sm\n",
        "\n",
        "\n",
        "\n",
        "Данные для группы A\n",
        "\n",
        "trials_A =\n",
        "\n",
        "successes_A =\n",
        "\n",
        "\n",
        "\n",
        "Данные для группы B\n",
        "\n",
        "trials_B =\n",
        "\n",
        "successes_B =\n",
        "\n",
        "\n",
        "\n",
        "Z-тест для долей\n",
        "\n",
        "z_score, p_value = sm.stats.proportions_ztest([successes_A, successes_B], [trials_A, trials_B])\n",
        "\n",
        "\n",
        "\n",
        "print(f\"Z-score: {z_score}\")\n",
        "\n",
        "print(f\"P-value: {p_value:.3f}\")\n",
        "\n",
        "\n",
        "\n",
        "Сравните P-value из калькулятора с расчетом в Python. (Округлите значение P-value до трех знаков после запятой)\n",
        "\n",
        "\n",
        "\n",
        "Дополнительный вопрос: предположите, с чем может быть связан всплеск покупок в определенные даты.\n",
        "\n",
        "\n",
        "\n",
        "Все графики и расчеты должны быть сделаны в питоне."
      ]
    },
    {
      "cell_type": "markdown",
      "metadata": {
        "id": "4W2dyGrLS1D2"
      },
      "source": [
        "### *0. Загрузка и обработка датасета*"
      ]
    },
    {
      "cell_type": "code",
      "execution_count": null,
      "metadata": {
        "id": "2QBYo8wET1VI"
      },
      "outputs": [],
      "source": [
        "import pandas as pd"
      ]
    },
    {
      "cell_type": "code",
      "execution_count": null,
      "metadata": {
        "id": "HZQ6P3VeWYMy"
      },
      "outputs": [],
      "source": [
        "# аутентификация в google colab\n",
        "from google.colab import auth\n",
        "auth.authenticate_user()\n",
        "\n",
        "# получение login data и авторизация в gspread для получения доступа к файлам на гугл диске\n",
        "import gspread\n",
        "from google.auth import default\n",
        "creds, _ = default()\n",
        "\n",
        "gc = gspread.authorize(creds)"
      ]
    },
    {
      "cell_type": "code",
      "execution_count": null,
      "metadata": {
        "id": "AL8En5MfZS85"
      },
      "outputs": [],
      "source": [
        "# создание pandas dataframe из гугл-таблицы\n",
        "url = 'https://docs.google.com/spreadsheets/d/1gR_-K5F6lo2kEMW30Fd9n3rHq8ZnTFXY_yWRFpj-2Fk/edit?usp=sharing'\n",
        "\n",
        "data = gc.open_by_url(url).worksheet('Дата сет').get_all_values()\n",
        "\n",
        "df = pd.DataFrame(data[1:], columns=data[0])"
      ]
    },
    {
      "cell_type": "code",
      "execution_count": null,
      "metadata": {
        "colab": {
          "base_uri": "https://localhost:8080/",
          "height": 423
        },
        "id": "gYvwc0lWZtsc",
        "outputId": "80ee56e7-d231-4e11-ba92-f51eb3f75376"
      },
      "outputs": [
        {
          "output_type": "execute_result",
          "data": {
            "text/plain": [
              "      event_date id_client    group flag_auth flag_success\n",
              "0     02.03.2024   1023490  control         0            0\n",
              "1     02.03.2024   1023509  control         1            0\n",
              "2     02.03.2024   1023515  control         0            0\n",
              "3     02.03.2024   1023562  control         1            1\n",
              "4     02.03.2024   1023570  control         1            0\n",
              "...          ...       ...      ...       ...          ...\n",
              "5186  31.03.2024   1025073     test         1            1\n",
              "5187  31.03.2024   1025091     test         0            0\n",
              "5188  31.03.2024   1025102     test         1            1\n",
              "5189  31.03.2024   1025127     test         0            1\n",
              "5190  31.03.2024   1025174     test         0            0\n",
              "\n",
              "[5191 rows x 5 columns]"
            ],
            "text/html": [
              "\n",
              "  <div id=\"df-cf07b406-b5d2-4f3b-ba69-c0c96a7d10fd\" class=\"colab-df-container\">\n",
              "    <div>\n",
              "<style scoped>\n",
              "    .dataframe tbody tr th:only-of-type {\n",
              "        vertical-align: middle;\n",
              "    }\n",
              "\n",
              "    .dataframe tbody tr th {\n",
              "        vertical-align: top;\n",
              "    }\n",
              "\n",
              "    .dataframe thead th {\n",
              "        text-align: right;\n",
              "    }\n",
              "</style>\n",
              "<table border=\"1\" class=\"dataframe\">\n",
              "  <thead>\n",
              "    <tr style=\"text-align: right;\">\n",
              "      <th></th>\n",
              "      <th>event_date</th>\n",
              "      <th>id_client</th>\n",
              "      <th>group</th>\n",
              "      <th>flag_auth</th>\n",
              "      <th>flag_success</th>\n",
              "    </tr>\n",
              "  </thead>\n",
              "  <tbody>\n",
              "    <tr>\n",
              "      <th>0</th>\n",
              "      <td>02.03.2024</td>\n",
              "      <td>1023490</td>\n",
              "      <td>control</td>\n",
              "      <td>0</td>\n",
              "      <td>0</td>\n",
              "    </tr>\n",
              "    <tr>\n",
              "      <th>1</th>\n",
              "      <td>02.03.2024</td>\n",
              "      <td>1023509</td>\n",
              "      <td>control</td>\n",
              "      <td>1</td>\n",
              "      <td>0</td>\n",
              "    </tr>\n",
              "    <tr>\n",
              "      <th>2</th>\n",
              "      <td>02.03.2024</td>\n",
              "      <td>1023515</td>\n",
              "      <td>control</td>\n",
              "      <td>0</td>\n",
              "      <td>0</td>\n",
              "    </tr>\n",
              "    <tr>\n",
              "      <th>3</th>\n",
              "      <td>02.03.2024</td>\n",
              "      <td>1023562</td>\n",
              "      <td>control</td>\n",
              "      <td>1</td>\n",
              "      <td>1</td>\n",
              "    </tr>\n",
              "    <tr>\n",
              "      <th>4</th>\n",
              "      <td>02.03.2024</td>\n",
              "      <td>1023570</td>\n",
              "      <td>control</td>\n",
              "      <td>1</td>\n",
              "      <td>0</td>\n",
              "    </tr>\n",
              "    <tr>\n",
              "      <th>...</th>\n",
              "      <td>...</td>\n",
              "      <td>...</td>\n",
              "      <td>...</td>\n",
              "      <td>...</td>\n",
              "      <td>...</td>\n",
              "    </tr>\n",
              "    <tr>\n",
              "      <th>5186</th>\n",
              "      <td>31.03.2024</td>\n",
              "      <td>1025073</td>\n",
              "      <td>test</td>\n",
              "      <td>1</td>\n",
              "      <td>1</td>\n",
              "    </tr>\n",
              "    <tr>\n",
              "      <th>5187</th>\n",
              "      <td>31.03.2024</td>\n",
              "      <td>1025091</td>\n",
              "      <td>test</td>\n",
              "      <td>0</td>\n",
              "      <td>0</td>\n",
              "    </tr>\n",
              "    <tr>\n",
              "      <th>5188</th>\n",
              "      <td>31.03.2024</td>\n",
              "      <td>1025102</td>\n",
              "      <td>test</td>\n",
              "      <td>1</td>\n",
              "      <td>1</td>\n",
              "    </tr>\n",
              "    <tr>\n",
              "      <th>5189</th>\n",
              "      <td>31.03.2024</td>\n",
              "      <td>1025127</td>\n",
              "      <td>test</td>\n",
              "      <td>0</td>\n",
              "      <td>1</td>\n",
              "    </tr>\n",
              "    <tr>\n",
              "      <th>5190</th>\n",
              "      <td>31.03.2024</td>\n",
              "      <td>1025174</td>\n",
              "      <td>test</td>\n",
              "      <td>0</td>\n",
              "      <td>0</td>\n",
              "    </tr>\n",
              "  </tbody>\n",
              "</table>\n",
              "<p>5191 rows × 5 columns</p>\n",
              "</div>\n",
              "    <div class=\"colab-df-buttons\">\n",
              "\n",
              "  <div class=\"colab-df-container\">\n",
              "    <button class=\"colab-df-convert\" onclick=\"convertToInteractive('df-cf07b406-b5d2-4f3b-ba69-c0c96a7d10fd')\"\n",
              "            title=\"Convert this dataframe to an interactive table.\"\n",
              "            style=\"display:none;\">\n",
              "\n",
              "  <svg xmlns=\"http://www.w3.org/2000/svg\" height=\"24px\" viewBox=\"0 -960 960 960\">\n",
              "    <path d=\"M120-120v-720h720v720H120Zm60-500h600v-160H180v160Zm220 220h160v-160H400v160Zm0 220h160v-160H400v160ZM180-400h160v-160H180v160Zm440 0h160v-160H620v160ZM180-180h160v-160H180v160Zm440 0h160v-160H620v160Z\"/>\n",
              "  </svg>\n",
              "    </button>\n",
              "\n",
              "  <style>\n",
              "    .colab-df-container {\n",
              "      display:flex;\n",
              "      gap: 12px;\n",
              "    }\n",
              "\n",
              "    .colab-df-convert {\n",
              "      background-color: #E8F0FE;\n",
              "      border: none;\n",
              "      border-radius: 50%;\n",
              "      cursor: pointer;\n",
              "      display: none;\n",
              "      fill: #1967D2;\n",
              "      height: 32px;\n",
              "      padding: 0 0 0 0;\n",
              "      width: 32px;\n",
              "    }\n",
              "\n",
              "    .colab-df-convert:hover {\n",
              "      background-color: #E2EBFA;\n",
              "      box-shadow: 0px 1px 2px rgba(60, 64, 67, 0.3), 0px 1px 3px 1px rgba(60, 64, 67, 0.15);\n",
              "      fill: #174EA6;\n",
              "    }\n",
              "\n",
              "    .colab-df-buttons div {\n",
              "      margin-bottom: 4px;\n",
              "    }\n",
              "\n",
              "    [theme=dark] .colab-df-convert {\n",
              "      background-color: #3B4455;\n",
              "      fill: #D2E3FC;\n",
              "    }\n",
              "\n",
              "    [theme=dark] .colab-df-convert:hover {\n",
              "      background-color: #434B5C;\n",
              "      box-shadow: 0px 1px 3px 1px rgba(0, 0, 0, 0.15);\n",
              "      filter: drop-shadow(0px 1px 2px rgba(0, 0, 0, 0.3));\n",
              "      fill: #FFFFFF;\n",
              "    }\n",
              "  </style>\n",
              "\n",
              "    <script>\n",
              "      const buttonEl =\n",
              "        document.querySelector('#df-cf07b406-b5d2-4f3b-ba69-c0c96a7d10fd button.colab-df-convert');\n",
              "      buttonEl.style.display =\n",
              "        google.colab.kernel.accessAllowed ? 'block' : 'none';\n",
              "\n",
              "      async function convertToInteractive(key) {\n",
              "        const element = document.querySelector('#df-cf07b406-b5d2-4f3b-ba69-c0c96a7d10fd');\n",
              "        const dataTable =\n",
              "          await google.colab.kernel.invokeFunction('convertToInteractive',\n",
              "                                                    [key], {});\n",
              "        if (!dataTable) return;\n",
              "\n",
              "        const docLinkHtml = 'Like what you see? Visit the ' +\n",
              "          '<a target=\"_blank\" href=https://colab.research.google.com/notebooks/data_table.ipynb>data table notebook</a>'\n",
              "          + ' to learn more about interactive tables.';\n",
              "        element.innerHTML = '';\n",
              "        dataTable['output_type'] = 'display_data';\n",
              "        await google.colab.output.renderOutput(dataTable, element);\n",
              "        const docLink = document.createElement('div');\n",
              "        docLink.innerHTML = docLinkHtml;\n",
              "        element.appendChild(docLink);\n",
              "      }\n",
              "    </script>\n",
              "  </div>\n",
              "\n",
              "\n",
              "<div id=\"df-f71e763f-de4a-4a86-95f4-b920c002e4bd\">\n",
              "  <button class=\"colab-df-quickchart\" onclick=\"quickchart('df-f71e763f-de4a-4a86-95f4-b920c002e4bd')\"\n",
              "            title=\"Suggest charts\"\n",
              "            style=\"display:none;\">\n",
              "\n",
              "<svg xmlns=\"http://www.w3.org/2000/svg\" height=\"24px\"viewBox=\"0 0 24 24\"\n",
              "     width=\"24px\">\n",
              "    <g>\n",
              "        <path d=\"M19 3H5c-1.1 0-2 .9-2 2v14c0 1.1.9 2 2 2h14c1.1 0 2-.9 2-2V5c0-1.1-.9-2-2-2zM9 17H7v-7h2v7zm4 0h-2V7h2v10zm4 0h-2v-4h2v4z\"/>\n",
              "    </g>\n",
              "</svg>\n",
              "  </button>\n",
              "\n",
              "<style>\n",
              "  .colab-df-quickchart {\n",
              "      --bg-color: #E8F0FE;\n",
              "      --fill-color: #1967D2;\n",
              "      --hover-bg-color: #E2EBFA;\n",
              "      --hover-fill-color: #174EA6;\n",
              "      --disabled-fill-color: #AAA;\n",
              "      --disabled-bg-color: #DDD;\n",
              "  }\n",
              "\n",
              "  [theme=dark] .colab-df-quickchart {\n",
              "      --bg-color: #3B4455;\n",
              "      --fill-color: #D2E3FC;\n",
              "      --hover-bg-color: #434B5C;\n",
              "      --hover-fill-color: #FFFFFF;\n",
              "      --disabled-bg-color: #3B4455;\n",
              "      --disabled-fill-color: #666;\n",
              "  }\n",
              "\n",
              "  .colab-df-quickchart {\n",
              "    background-color: var(--bg-color);\n",
              "    border: none;\n",
              "    border-radius: 50%;\n",
              "    cursor: pointer;\n",
              "    display: none;\n",
              "    fill: var(--fill-color);\n",
              "    height: 32px;\n",
              "    padding: 0;\n",
              "    width: 32px;\n",
              "  }\n",
              "\n",
              "  .colab-df-quickchart:hover {\n",
              "    background-color: var(--hover-bg-color);\n",
              "    box-shadow: 0 1px 2px rgba(60, 64, 67, 0.3), 0 1px 3px 1px rgba(60, 64, 67, 0.15);\n",
              "    fill: var(--button-hover-fill-color);\n",
              "  }\n",
              "\n",
              "  .colab-df-quickchart-complete:disabled,\n",
              "  .colab-df-quickchart-complete:disabled:hover {\n",
              "    background-color: var(--disabled-bg-color);\n",
              "    fill: var(--disabled-fill-color);\n",
              "    box-shadow: none;\n",
              "  }\n",
              "\n",
              "  .colab-df-spinner {\n",
              "    border: 2px solid var(--fill-color);\n",
              "    border-color: transparent;\n",
              "    border-bottom-color: var(--fill-color);\n",
              "    animation:\n",
              "      spin 1s steps(1) infinite;\n",
              "  }\n",
              "\n",
              "  @keyframes spin {\n",
              "    0% {\n",
              "      border-color: transparent;\n",
              "      border-bottom-color: var(--fill-color);\n",
              "      border-left-color: var(--fill-color);\n",
              "    }\n",
              "    20% {\n",
              "      border-color: transparent;\n",
              "      border-left-color: var(--fill-color);\n",
              "      border-top-color: var(--fill-color);\n",
              "    }\n",
              "    30% {\n",
              "      border-color: transparent;\n",
              "      border-left-color: var(--fill-color);\n",
              "      border-top-color: var(--fill-color);\n",
              "      border-right-color: var(--fill-color);\n",
              "    }\n",
              "    40% {\n",
              "      border-color: transparent;\n",
              "      border-right-color: var(--fill-color);\n",
              "      border-top-color: var(--fill-color);\n",
              "    }\n",
              "    60% {\n",
              "      border-color: transparent;\n",
              "      border-right-color: var(--fill-color);\n",
              "    }\n",
              "    80% {\n",
              "      border-color: transparent;\n",
              "      border-right-color: var(--fill-color);\n",
              "      border-bottom-color: var(--fill-color);\n",
              "    }\n",
              "    90% {\n",
              "      border-color: transparent;\n",
              "      border-bottom-color: var(--fill-color);\n",
              "    }\n",
              "  }\n",
              "</style>\n",
              "\n",
              "  <script>\n",
              "    async function quickchart(key) {\n",
              "      const quickchartButtonEl =\n",
              "        document.querySelector('#' + key + ' button');\n",
              "      quickchartButtonEl.disabled = true;  // To prevent multiple clicks.\n",
              "      quickchartButtonEl.classList.add('colab-df-spinner');\n",
              "      try {\n",
              "        const charts = await google.colab.kernel.invokeFunction(\n",
              "            'suggestCharts', [key], {});\n",
              "      } catch (error) {\n",
              "        console.error('Error during call to suggestCharts:', error);\n",
              "      }\n",
              "      quickchartButtonEl.classList.remove('colab-df-spinner');\n",
              "      quickchartButtonEl.classList.add('colab-df-quickchart-complete');\n",
              "    }\n",
              "    (() => {\n",
              "      let quickchartButtonEl =\n",
              "        document.querySelector('#df-f71e763f-de4a-4a86-95f4-b920c002e4bd button');\n",
              "      quickchartButtonEl.style.display =\n",
              "        google.colab.kernel.accessAllowed ? 'block' : 'none';\n",
              "    })();\n",
              "  </script>\n",
              "</div>\n",
              "    </div>\n",
              "  </div>\n"
            ],
            "application/vnd.google.colaboratory.intrinsic+json": {
              "type": "dataframe",
              "variable_name": "df",
              "summary": "{\n  \"name\": \"df\",\n  \"rows\": 5191,\n  \"fields\": [\n    {\n      \"column\": \"event_date\",\n      \"properties\": {\n        \"dtype\": \"object\",\n        \"num_unique_values\": 30,\n        \"samples\": [\n          \"29.03.2024\",\n          \"17.03.2024\",\n          \"25.03.2024\"\n        ],\n        \"semantic_type\": \"\",\n        \"description\": \"\"\n      }\n    },\n    {\n      \"column\": \"id_client\",\n      \"properties\": {\n        \"dtype\": \"category\",\n        \"num_unique_values\": 1721,\n        \"samples\": [\n          \"1023934\",\n          \"1024561\",\n          \"1023489\"\n        ],\n        \"semantic_type\": \"\",\n        \"description\": \"\"\n      }\n    },\n    {\n      \"column\": \"group\",\n      \"properties\": {\n        \"dtype\": \"category\",\n        \"num_unique_values\": 2,\n        \"samples\": [\n          \"test\",\n          \"control\"\n        ],\n        \"semantic_type\": \"\",\n        \"description\": \"\"\n      }\n    },\n    {\n      \"column\": \"flag_auth\",\n      \"properties\": {\n        \"dtype\": \"category\",\n        \"num_unique_values\": 2,\n        \"samples\": [\n          \"1\",\n          \"0\"\n        ],\n        \"semantic_type\": \"\",\n        \"description\": \"\"\n      }\n    },\n    {\n      \"column\": \"flag_success\",\n      \"properties\": {\n        \"dtype\": \"category\",\n        \"num_unique_values\": 2,\n        \"samples\": [\n          \"1\",\n          \"0\"\n        ],\n        \"semantic_type\": \"\",\n        \"description\": \"\"\n      }\n    }\n  ]\n}"
            }
          },
          "metadata": {},
          "execution_count": 5
        }
      ],
      "source": [
        "df"
      ]
    },
    {
      "cell_type": "code",
      "execution_count": null,
      "metadata": {
        "colab": {
          "base_uri": "https://localhost:8080/"
        },
        "id": "KcUOZeSBl9pT",
        "outputId": "f0364a8e-d7db-43c8-85ca-35f0889d223e"
      },
      "outputs": [
        {
          "output_type": "stream",
          "name": "stdout",
          "text": [
            "<class 'pandas.core.frame.DataFrame'>\n",
            "RangeIndex: 5191 entries, 0 to 5190\n",
            "Data columns (total 5 columns):\n",
            " #   Column        Non-Null Count  Dtype \n",
            "---  ------        --------------  ----- \n",
            " 0   event_date    5191 non-null   object\n",
            " 1   id_client     5191 non-null   object\n",
            " 2   group         5191 non-null   object\n",
            " 3   flag_auth     5191 non-null   object\n",
            " 4   flag_success  5191 non-null   object\n",
            "dtypes: object(5)\n",
            "memory usage: 202.9+ KB\n"
          ]
        }
      ],
      "source": [
        "df.info()"
      ]
    },
    {
      "cell_type": "code",
      "execution_count": null,
      "metadata": {
        "colab": {
          "base_uri": "https://localhost:8080/"
        },
        "id": "zzk889wCmDbE",
        "outputId": "b078e52d-5e6b-45bd-c9e0-145cde4c595a"
      },
      "outputs": [
        {
          "output_type": "stream",
          "name": "stderr",
          "text": [
            "<ipython-input-7-09bc5970864f>:2: UserWarning: Parsing dates in DD/MM/YYYY format when dayfirst=False (the default) was specified. This may lead to inconsistently parsed dates! Specify a format to ensure consistent parsing.\n",
            "  df['event_date'] = pd.to_datetime(df['event_date'])\n"
          ]
        }
      ],
      "source": [
        "# приведение столбцов к релеватным форматам из формата object\n",
        "df['event_date'] = pd.to_datetime(df['event_date'])\n",
        "df['id_client'] = df['id_client'].astype('int32')\n",
        "df['group'] = df['group'].astype('category')\n",
        "df['flag_auth'] = df['flag_auth'].astype('int8')\n",
        "df['flag_success'] = df['flag_success'].astype('int8')"
      ]
    },
    {
      "cell_type": "code",
      "execution_count": null,
      "metadata": {
        "colab": {
          "base_uri": "https://localhost:8080/"
        },
        "id": "cJsLsa0onG2C",
        "outputId": "6966a406-b48e-4efc-a5f0-487696097f2c"
      },
      "outputs": [
        {
          "output_type": "execute_result",
          "data": {
            "text/plain": [
              "2024-02-03    188\n",
              "2024-03-03    168\n",
              "2024-03-13    166\n",
              "2024-03-14    184\n",
              "2024-03-15    172\n",
              "2024-03-16    189\n",
              "2024-03-17    187\n",
              "2024-03-18    172\n",
              "2024-03-19    173\n",
              "2024-03-20    167\n",
              "2024-03-21    166\n",
              "2024-03-22    175\n",
              "2024-03-23    161\n",
              "2024-03-24    173\n",
              "2024-03-25    187\n",
              "2024-03-26    169\n",
              "2024-03-27    171\n",
              "2024-03-28    177\n",
              "2024-03-29    150\n",
              "2024-03-30    172\n",
              "2024-03-31    179\n",
              "2024-04-03    164\n",
              "2024-05-03    181\n",
              "2024-06-03    186\n",
              "2024-07-03    173\n",
              "2024-08-03    181\n",
              "2024-09-03    165\n",
              "2024-10-03    158\n",
              "2024-11-03    185\n",
              "2024-12-03    152\n",
              "Name: event_date, dtype: int64"
            ]
          },
          "metadata": {},
          "execution_count": 8
        }
      ],
      "source": [
        "df['event_date'].value_counts().sort_index()\n",
        "\n",
        "# !!! не все даты, как оказалось, были переведены в формат datetime корректно, так, 4-12 марта внезапно стали 3 апреля, мая и т.п."
      ]
    },
    {
      "cell_type": "code",
      "source": [
        "# т.к. в самом датасете только мартовские даты, можно поменять местами число и месяц там, где месяц не март\n",
        "df['event_date'] = df['event_date'].apply(lambda x: x.replace(day=x.month, month=x.day) if x.month != 3 else x)"
      ],
      "metadata": {
        "id": "HyNGLkj7mMuS"
      },
      "execution_count": null,
      "outputs": []
    },
    {
      "cell_type": "code",
      "source": [
        "#проверка\n",
        "df['event_date'].value_counts().sort_index()"
      ],
      "metadata": {
        "colab": {
          "base_uri": "https://localhost:8080/"
        },
        "id": "FeJ6s04Um0-7",
        "outputId": "95c9d1f5-6245-4b8d-f5dd-d2992cc4d057"
      },
      "execution_count": null,
      "outputs": [
        {
          "output_type": "execute_result",
          "data": {
            "text/plain": [
              "2024-03-02    188\n",
              "2024-03-03    168\n",
              "2024-03-04    164\n",
              "2024-03-05    181\n",
              "2024-03-06    186\n",
              "2024-03-07    173\n",
              "2024-03-08    181\n",
              "2024-03-09    165\n",
              "2024-03-10    158\n",
              "2024-03-11    185\n",
              "2024-03-12    152\n",
              "2024-03-13    166\n",
              "2024-03-14    184\n",
              "2024-03-15    172\n",
              "2024-03-16    189\n",
              "2024-03-17    187\n",
              "2024-03-18    172\n",
              "2024-03-19    173\n",
              "2024-03-20    167\n",
              "2024-03-21    166\n",
              "2024-03-22    175\n",
              "2024-03-23    161\n",
              "2024-03-24    173\n",
              "2024-03-25    187\n",
              "2024-03-26    169\n",
              "2024-03-27    171\n",
              "2024-03-28    177\n",
              "2024-03-29    150\n",
              "2024-03-30    172\n",
              "2024-03-31    179\n",
              "Name: event_date, dtype: int64"
            ]
          },
          "metadata": {},
          "execution_count": 10
        }
      ]
    },
    {
      "cell_type": "markdown",
      "metadata": {
        "id": "f6QYiLaWbIKR"
      },
      "source": [
        "###*1. Количество уникальных клиентов в тестовой и контрольной группах*"
      ]
    },
    {
      "cell_type": "code",
      "execution_count": null,
      "metadata": {
        "colab": {
          "base_uri": "https://localhost:8080/"
        },
        "id": "mnnEOb5Fa3fr",
        "outputId": "456b4b10-da4f-4029-ae8b-4fd53f389123"
      },
      "outputs": [
        {
          "output_type": "execute_result",
          "data": {
            "text/plain": [
              "856"
            ]
          },
          "metadata": {},
          "execution_count": 11
        }
      ],
      "source": [
        "ctrl_group = df[df['group'] == 'control']['id_client'].nunique()\n",
        "\n",
        "ctrl_group"
      ]
    },
    {
      "cell_type": "code",
      "execution_count": null,
      "metadata": {
        "colab": {
          "base_uri": "https://localhost:8080/"
        },
        "id": "wiudiER4b7pT",
        "outputId": "dae4d5f2-fc25-4e7d-c08e-e7c022bf94ba"
      },
      "outputs": [
        {
          "output_type": "execute_result",
          "data": {
            "text/plain": [
              "865"
            ]
          },
          "metadata": {},
          "execution_count": 12
        }
      ],
      "source": [
        "test_group = df[df['group'] == 'test']['id_client'].nunique()\n",
        "\n",
        "test_group"
      ]
    },
    {
      "cell_type": "markdown",
      "metadata": {
        "id": "ahQeToQjcUn3"
      },
      "source": [
        "<font color='darkcyan'>Вывод:</font>\n",
        "\n",
        "Количество пользователей в группах не одинаково, но очень близко, полагаю, что такая разница незначительна и не повлияет отрицательно на результаты теста.\n",
        "\n"
      ]
    },
    {
      "cell_type": "markdown",
      "source": [
        "###*2. Линейный график количества покупок и покупателей по дням*"
      ],
      "metadata": {
        "id": "Ml1IkOJNXH8L"
      }
    },
    {
      "cell_type": "markdown",
      "source": [
        "*Создание переменных для графиков*"
      ],
      "metadata": {
        "id": "ghbrB_RYXT_Y"
      }
    },
    {
      "cell_type": "code",
      "execution_count": null,
      "metadata": {
        "id": "Eqi0H0Q_efen"
      },
      "outputs": [],
      "source": [
        "import matplotlib.pyplot as plt\n",
        "import seaborn as sns"
      ]
    },
    {
      "cell_type": "code",
      "execution_count": null,
      "metadata": {
        "id": "Nah38MqEzxg8"
      },
      "outputs": [],
      "source": [
        "# добавление столбца weekday для фильтрации по дням недели, чтобы взглянуть на недельную сезонность\n",
        "df['weekday'] = df['event_date'].dt.day_name()\n",
        "day_order = ['Monday', 'Tuesday', 'Wednesday', 'Thursday', 'Friday', 'Saturday', 'Sunday']"
      ]
    },
    {
      "cell_type": "code",
      "execution_count": null,
      "metadata": {
        "id": "qpDaA5iTeM5a"
      },
      "outputs": [],
      "source": [
        "purchases = df[df['flag_success'] == 1]\n",
        "data_per_date = purchases['event_date'].value_counts().sort_index()\n",
        "data_per_day = purchases['weekday'].value_counts().reindex(day_order)\n",
        "\n",
        "customers_per_date = purchases.groupby('event_date')['id_client'].nunique()\n",
        "customers_per_day = purchases.groupby('weekday')['id_client'].nunique().reindex(day_order)"
      ]
    },
    {
      "cell_type": "code",
      "source": [
        "customers_per_date"
      ],
      "metadata": {
        "colab": {
          "base_uri": "https://localhost:8080/"
        },
        "id": "NbNbntMhk0U0",
        "outputId": "89d0574c-e4c2-4400-d232-282cad54c312"
      },
      "execution_count": null,
      "outputs": [
        {
          "output_type": "execute_result",
          "data": {
            "text/plain": [
              "event_date\n",
              "2024-03-02     87\n",
              "2024-03-03     82\n",
              "2024-03-04     88\n",
              "2024-03-05     98\n",
              "2024-03-06    108\n",
              "2024-03-07    134\n",
              "2024-03-08    115\n",
              "2024-03-09     79\n",
              "2024-03-10     88\n",
              "2024-03-11     90\n",
              "2024-03-12     80\n",
              "2024-03-13     81\n",
              "2024-03-14     82\n",
              "2024-03-15     88\n",
              "2024-03-16     93\n",
              "2024-03-17     97\n",
              "2024-03-18     88\n",
              "2024-03-19     94\n",
              "2024-03-20     76\n",
              "2024-03-21     89\n",
              "2024-03-22     87\n",
              "2024-03-23     85\n",
              "2024-03-24     82\n",
              "2024-03-25     93\n",
              "2024-03-26     81\n",
              "2024-03-27     73\n",
              "2024-03-28     95\n",
              "2024-03-29     75\n",
              "2024-03-30     79\n",
              "2024-03-31     85\n",
              "Name: id_client, dtype: int64"
            ]
          },
          "metadata": {},
          "execution_count": 16
        }
      ]
    },
    {
      "cell_type": "markdown",
      "metadata": {
        "id": "--YcC6VReISe"
      },
      "source": [
        "###*2.1. Линейный график количества покупок по дням в Matplotlib*"
      ]
    },
    {
      "cell_type": "markdown",
      "source": [
        "*Для себя для отработки кода*"
      ],
      "metadata": {
        "id": "yaCeU9_bXkoU"
      }
    },
    {
      "cell_type": "code",
      "execution_count": null,
      "metadata": {
        "colab": {
          "base_uri": "https://localhost:8080/",
          "height": 514
        },
        "id": "uThc8uD7oOvt",
        "outputId": "5b38fa7f-a1b9-4535-a0bc-394c711a59f6"
      },
      "outputs": [
        {
          "output_type": "display_data",
          "data": {
            "text/plain": [
              "<Figure size 1700x500 with 2 Axes>"
            ],
            "image/png": "[encoded data removed]"
          },
          "metadata": {}
        }
      ],
      "source": [
        "fig, ax = plt.subplots(1, 2, figsize = (17, 5))\n",
        "\n",
        "ax[0].plot(data_per_date.index, data_per_date.values, marker='o', color='darkcyan')\n",
        "ax[0].set_title('Покупки по датам')\n",
        "ax[0].set_xlabel('Дата')\n",
        "ax[0].set_ylabel('Кол-во покупок')\n",
        "ax[0].tick_params(axis='x', labelrotation=20)\n",
        "\n",
        "ax[1].plot(data_per_day.index, data_per_day.values, marker='o', color='purple')\n",
        "ax[1].set_title('Покупки по дням недели')\n",
        "ax[1].set_xlabel('День недели')\n",
        "ax[1].set_ylabel('Кол-во покупок')\n",
        "ax[1].tick_params(axis='x', labelrotation=20)"
      ]
    },
    {
      "cell_type": "markdown",
      "source": [
        "###*2.2. Линейный график количества покупок и покупателей по дням в Plotly*"
      ],
      "metadata": {
        "id": "q0Ttlfw1W7jc"
      }
    },
    {
      "cell_type": "markdown",
      "metadata": {
        "id": "fPTQjX3_-1Vn"
      },
      "source": [
        "*Построение интерактивных графиков в Plotly, просто потому что они красивее*"
      ]
    },
    {
      "cell_type": "code",
      "execution_count": null,
      "metadata": {
        "colab": {
          "base_uri": "https://localhost:8080/",
          "height": 517
        },
        "id": "gBi2Q5yW4Gos",
        "outputId": "06a5e179-62c2-444c-aa0e-359711362677"
      },
      "outputs": [
        {
          "output_type": "display_data",
          "data": {
            "text/html": [
              "<html>\n",
              "<head><meta charset=\"utf-8\" /></head>\n",
              "<body>\n",
              "    <div>            <script src=\"https://cdnjs.cloudflare.com/ajax/libs/mathjax/2.7.5/MathJax.js?config=TeX-AMS-MML_SVG\"></script><script type=\"text/javascript\">if (window.MathJax && window.MathJax.Hub && window.MathJax.Hub.Config) {window.MathJax.Hub.Config({SVG: {font: \"STIX-Web\"}});}</script>                <script type=\"text/javascript\">window.PlotlyConfig = {MathJaxConfig: 'local'};</script>\n",
              "        <script charset=\"utf-8\" src=\"https://cdn.plot.ly/plotly-2.24.1.min.js\"></script>                <div id=\"7470b46c-a3d2-4c5b-bdf5-c8b0a2cc23e1\" class=\"plotly-graph-div\" style=\"height:500px; width:1400px;\"></div>            <script type=\"text/javascript\">                                    window.PLOTLYENV=window.PLOTLYENV || {};                                    if (document.getElementById(\"7470b46c-a3d2-4c5b-bdf5-c8b0a2cc23e1\")) {                    Plotly.newPlot(                        \"7470b46c-a3d2-4c5b-bdf5-c8b0a2cc23e1\",                        [{\"marker\":{\"color\":\"darkcyan\"},\"mode\":\"lines+markers\",\"name\":\"\",\"x\":[\"2024-03-02T00:00:00\",\"2024-03-03T00:00:00\",\"2024-03-04T00:00:00\",\"2024-03-05T00:00:00\",\"2024-03-06T00:00:00\",\"2024-03-07T00:00:00\",\"2024-03-08T00:00:00\",\"2024-03-09T00:00:00\",\"2024-03-10T00:00:00\",\"2024-03-11T00:00:00\",\"2024-03-12T00:00:00\",\"2024-03-13T00:00:00\",\"2024-03-14T00:00:00\",\"2024-03-15T00:00:00\",\"2024-03-16T00:00:00\",\"2024-03-17T00:00:00\",\"2024-03-18T00:00:00\",\"2024-03-19T00:00:00\",\"2024-03-20T00:00:00\",\"2024-03-21T00:00:00\",\"2024-03-22T00:00:00\",\"2024-03-23T00:00:00\",\"2024-03-24T00:00:00\",\"2024-03-25T00:00:00\",\"2024-03-26T00:00:00\",\"2024-03-27T00:00:00\",\"2024-03-28T00:00:00\",\"2024-03-29T00:00:00\",\"2024-03-30T00:00:00\",\"2024-03-31T00:00:00\"],\"y\":[89,83,90,100,112,136,117,80,90,92,81,81,86,89,94,98,88,96,78,90,87,86,83,93,84,74,95,76,80,86],\"type\":\"scatter\",\"xaxis\":\"x\",\"yaxis\":\"y\"},{\"marker\":{\"color\":\"purple\"},\"mode\":\"lines+markers\",\"name\":\"\",\"x\":[\"Monday\",\"Tuesday\",\"Wednesday\",\"Thursday\",\"Friday\",\"Saturday\",\"Sunday\"],\"y\":[363,361,345,407,369,429,440],\"type\":\"scatter\",\"xaxis\":\"x2\",\"yaxis\":\"y2\"}],                        {\"template\":{\"data\":{\"histogram2dcontour\":[{\"type\":\"histogram2dcontour\",\"colorbar\":{\"outlinewidth\":0,\"ticks\":\"\"},\"colorscale\":[[0.0,\"#0d0887\"],[0.1111111111111111,\"#46039f\"],[0.2222222222222222,\"#7201a8\"],[0.3333333333333333,\"#9c179e\"],[0.4444444444444444,\"#bd3786\"],[0.5555555555555556,\"#d8576b\"],[0.6666666666666666,\"#ed7953\"],[0.7777777777777778,\"#fb9f3a\"],[0.8888888888888888,\"#fdca26\"],[1.0,\"#f0f921\"]]}],\"choropleth\":[{\"type\":\"choropleth\",\"colorbar\":{\"outlinewidth\":0,\"ticks\":\"\"}}],\"histogram2d\":[{\"type\":\"histogram2d\",\"colorbar\":{\"outlinewidth\":0,\"ticks\":\"\"},\"colorscale\":[[0.0,\"#0d0887\"],[0.1111111111111111,\"#46039f\"],[0.2222222222222222,\"#7201a8\"],[0.3333333333333333,\"#9c179e\"],[0.4444444444444444,\"#bd3786\"],[0.5555555555555556,\"#d8576b\"],[0.6666666666666666,\"#ed7953\"],[0.7777777777777778,\"#fb9f3a\"],[0.8888888888888888,\"#fdca26\"],[1.0,\"#f0f921\"]]}],\"heatmap\":[{\"type\":\"heatmap\",\"colorbar\":{\"outlinewidth\":0,\"ticks\":\"\"},\"colorscale\":[[0.0,\"#0d0887\"],[0.1111111111111111,\"#46039f\"],[0.2222222222222222,\"#7201a8\"],[0.3333333333333333,\"#9c179e\"],[0.4444444444444444,\"#bd3786\"],[0.5555555555555556,\"#d8576b\"],[0.6666666666666666,\"#ed7953\"],[0.7777777777777778,\"#fb9f3a\"],[0.8888888888888888,\"#fdca26\"],[1.0,\"#f0f921\"]]}],\"heatmapgl\":[{\"type\":\"heatmapgl\",\"colorbar\":{\"outlinewidth\":0,\"ticks\":\"\"},\"colorscale\":[[0.0,\"#0d0887\"],[0.1111111111111111,\"#46039f\"],[0.2222222222222222,\"#7201a8\"],[0.3333333333333333,\"#9c179e\"],[0.4444444444444444,\"#bd3786\"],[0.5555555555555556,\"#d8576b\"],[0.6666666666666666,\"#ed7953\"],[0.7777777777777778,\"#fb9f3a\"],[0.8888888888888888,\"#fdca26\"],[1.0,\"#f0f921\"]]}],\"contourcarpet\":[{\"type\":\"contourcarpet\",\"colorbar\":{\"outlinewidth\":0,\"ticks\":\"\"}}],\"contour\":[{\"type\":\"contour\",\"colorbar\":{\"outlinewidth\":0,\"ticks\":\"\"},\"colorscale\":[[0.0,\"#0d0887\"],[0.1111111111111111,\"#46039f\"],[0.2222222222222222,\"#7201a8\"],[0.3333333333333333,\"#9c179e\"],[0.4444444444444444,\"#bd3786\"],[0.5555555555555556,\"#d8576b\"],[0.6666666666666666,\"#ed7953\"],[0.7777777777777778,\"#fb9f3a\"],[0.8888888888888888,\"#fdca26\"],[1.0,\"#f0f921\"]]}],\"surface\":[{\"type\":\"surface\",\"colorbar\":{\"outlinewidth\":0,\"ticks\":\"\"},\"colorscale\":[[0.0,\"#0d0887\"],[0.1111111111111111,\"#46039f\"],[0.2222222222222222,\"#7201a8\"],[0.3333333333333333,\"#9c179e\"],[0.4444444444444444,\"#bd3786\"],[0.5555555555555556,\"#d8576b\"],[0.6666666666666666,\"#ed7953\"],[0.7777777777777778,\"#fb9f3a\"],[0.8888888888888888,\"#fdca26\"],[1.0,\"#f0f921\"]]}],\"mesh3d\":[{\"type\":\"mesh3d\",\"colorbar\":{\"outlinewidth\":0,\"ticks\":\"\"}}],\"scatter\":[{\"fillpattern\":{\"fillmode\":\"overlay\",\"size\":10,\"solidity\":0.2},\"type\":\"scatter\"}],\"parcoords\":[{\"type\":\"parcoords\",\"line\":{\"colorbar\":{\"outlinewidth\":0,\"ticks\":\"\"}}}],\"scatterpolargl\":[{\"type\":\"scatterpolargl\",\"marker\":{\"colorbar\":{\"outlinewidth\":0,\"ticks\":\"\"}}}],\"bar\":[{\"error_x\":{\"color\":\"#2a3f5f\"},\"error_y\":{\"color\":\"#2a3f5f\"},\"marker\":{\"line\":{\"color\":\"#E5ECF6\",\"width\":0.5},\"pattern\":{\"fillmode\":\"overlay\",\"size\":10,\"solidity\":0.2}},\"type\":\"bar\"}],\"scattergeo\":[{\"type\":\"scattergeo\",\"marker\":{\"colorbar\":{\"outlinewidth\":0,\"ticks\":\"\"}}}],\"scatterpolar\":[{\"type\":\"scatterpolar\",\"marker\":{\"colorbar\":{\"outlinewidth\":0,\"ticks\":\"\"}}}],\"histogram\":[{\"marker\":{\"pattern\":{\"fillmode\":\"overlay\",\"size\":10,\"solidity\":0.2}},\"type\":\"histogram\"}],\"scattergl\":[{\"type\":\"scattergl\",\"marker\":{\"colorbar\":{\"outlinewidth\":0,\"ticks\":\"\"}}}],\"scatter3d\":[{\"type\":\"scatter3d\",\"line\":{\"colorbar\":{\"outlinewidth\":0,\"ticks\":\"\"}},\"marker\":{\"colorbar\":{\"outlinewidth\":0,\"ticks\":\"\"}}}],\"scattermapbox\":[{\"type\":\"scattermapbox\",\"marker\":{\"colorbar\":{\"outlinewidth\":0,\"ticks\":\"\"}}}],\"scatterternary\":[{\"type\":\"scatterternary\",\"marker\":{\"colorbar\":{\"outlinewidth\":0,\"ticks\":\"\"}}}],\"scattercarpet\":[{\"type\":\"scattercarpet\",\"marker\":{\"colorbar\":{\"outlinewidth\":0,\"ticks\":\"\"}}}],\"carpet\":[{\"aaxis\":{\"endlinecolor\":\"#2a3f5f\",\"gridcolor\":\"white\",\"linecolor\":\"white\",\"minorgridcolor\":\"white\",\"startlinecolor\":\"#2a3f5f\"},\"baxis\":{\"endlinecolor\":\"#2a3f5f\",\"gridcolor\":\"white\",\"linecolor\":\"white\",\"minorgridcolor\":\"white\",\"startlinecolor\":\"#2a3f5f\"},\"type\":\"carpet\"}],\"table\":[{\"cells\":{\"fill\":{\"color\":\"#EBF0F8\"},\"line\":{\"color\":\"white\"}},\"header\":{\"fill\":{\"color\":\"#C8D4E3\"},\"line\":{\"color\":\"white\"}},\"type\":\"table\"}],\"barpolar\":[{\"marker\":{\"line\":{\"color\":\"#E5ECF6\",\"width\":0.5},\"pattern\":{\"fillmode\":\"overlay\",\"size\":10,\"solidity\":0.2}},\"type\":\"barpolar\"}],\"pie\":[{\"automargin\":true,\"type\":\"pie\"}]},\"layout\":{\"autotypenumbers\":\"strict\",\"colorway\":[\"#636efa\",\"#EF553B\",\"#00cc96\",\"#ab63fa\",\"#FFA15A\",\"#19d3f3\",\"#FF6692\",\"#B6E880\",\"#FF97FF\",\"#FECB52\"],\"font\":{\"color\":\"#2a3f5f\"},\"hovermode\":\"closest\",\"hoverlabel\":{\"align\":\"left\"},\"paper_bgcolor\":\"white\",\"plot_bgcolor\":\"#E5ECF6\",\"polar\":{\"bgcolor\":\"#E5ECF6\",\"angularaxis\":{\"gridcolor\":\"white\",\"linecolor\":\"white\",\"ticks\":\"\"},\"radialaxis\":{\"gridcolor\":\"white\",\"linecolor\":\"white\",\"ticks\":\"\"}},\"ternary\":{\"bgcolor\":\"#E5ECF6\",\"aaxis\":{\"gridcolor\":\"white\",\"linecolor\":\"white\",\"ticks\":\"\"},\"baxis\":{\"gridcolor\":\"white\",\"linecolor\":\"white\",\"ticks\":\"\"},\"caxis\":{\"gridcolor\":\"white\",\"linecolor\":\"white\",\"ticks\":\"\"}},\"coloraxis\":{\"colorbar\":{\"outlinewidth\":0,\"ticks\":\"\"}},\"colorscale\":{\"sequential\":[[0.0,\"#0d0887\"],[0.1111111111111111,\"#46039f\"],[0.2222222222222222,\"#7201a8\"],[0.3333333333333333,\"#9c179e\"],[0.4444444444444444,\"#bd3786\"],[0.5555555555555556,\"#d8576b\"],[0.6666666666666666,\"#ed7953\"],[0.7777777777777778,\"#fb9f3a\"],[0.8888888888888888,\"#fdca26\"],[1.0,\"#f0f921\"]],\"sequentialminus\":[[0.0,\"#0d0887\"],[0.1111111111111111,\"#46039f\"],[0.2222222222222222,\"#7201a8\"],[0.3333333333333333,\"#9c179e\"],[0.4444444444444444,\"#bd3786\"],[0.5555555555555556,\"#d8576b\"],[0.6666666666666666,\"#ed7953\"],[0.7777777777777778,\"#fb9f3a\"],[0.8888888888888888,\"#fdca26\"],[1.0,\"#f0f921\"]],\"diverging\":[[0,\"#8e0152\"],[0.1,\"#c51b7d\"],[0.2,\"#de77ae\"],[0.3,\"#f1b6da\"],[0.4,\"#fde0ef\"],[0.5,\"#f7f7f7\"],[0.6,\"#e6f5d0\"],[0.7,\"#b8e186\"],[0.8,\"#7fbc41\"],[0.9,\"#4d9221\"],[1,\"#276419\"]]},\"xaxis\":{\"gridcolor\":\"white\",\"linecolor\":\"white\",\"ticks\":\"\",\"title\":{\"standoff\":15},\"zerolinecolor\":\"white\",\"automargin\":true,\"zerolinewidth\":2},\"yaxis\":{\"gridcolor\":\"white\",\"linecolor\":\"white\",\"ticks\":\"\",\"title\":{\"standoff\":15},\"zerolinecolor\":\"white\",\"automargin\":true,\"zerolinewidth\":2},\"scene\":{\"xaxis\":{\"backgroundcolor\":\"#E5ECF6\",\"gridcolor\":\"white\",\"linecolor\":\"white\",\"showbackground\":true,\"ticks\":\"\",\"zerolinecolor\":\"white\",\"gridwidth\":2},\"yaxis\":{\"backgroundcolor\":\"#E5ECF6\",\"gridcolor\":\"white\",\"linecolor\":\"white\",\"showbackground\":true,\"ticks\":\"\",\"zerolinecolor\":\"white\",\"gridwidth\":2},\"zaxis\":{\"backgroundcolor\":\"#E5ECF6\",\"gridcolor\":\"white\",\"linecolor\":\"white\",\"showbackground\":true,\"ticks\":\"\",\"zerolinecolor\":\"white\",\"gridwidth\":2}},\"shapedefaults\":{\"line\":{\"color\":\"#2a3f5f\"}},\"annotationdefaults\":{\"arrowcolor\":\"#2a3f5f\",\"arrowhead\":0,\"arrowwidth\":1},\"geo\":{\"bgcolor\":\"white\",\"landcolor\":\"#E5ECF6\",\"subunitcolor\":\"white\",\"showland\":true,\"showlakes\":true,\"lakecolor\":\"white\"},\"title\":{\"x\":0.05},\"mapbox\":{\"style\":\"light\"}}},\"xaxis\":{\"anchor\":\"y\",\"domain\":[0.0,0.45],\"title\":{\"text\":\"\\u0414\\u0430\\u0442\\u0430\"},\"tickangle\":-20,\"tickformat\":\"%d-%m-%Y\"},\"yaxis\":{\"anchor\":\"x\",\"domain\":[0.0,1.0],\"title\":{\"text\":\"\\u041a\\u043e\\u043b-\\u0432\\u043e \\u043f\\u043e\\u043a\\u0443\\u043f\\u043e\\u043a\"}},\"xaxis2\":{\"anchor\":\"y2\",\"domain\":[0.55,1.0],\"title\":{\"text\":\"\\u0414\\u0435\\u043d\\u044c \\u043d\\u0435\\u0434\\u0435\\u043b\\u0438\"},\"tickangle\":-20},\"yaxis2\":{\"anchor\":\"x2\",\"domain\":[0.0,1.0],\"title\":{\"text\":\"\\u041a\\u043e\\u043b-\\u0432\\u043e \\u043f\\u043e\\u043a\\u0443\\u043f\\u043e\\u043a\"}},\"annotations\":[{\"font\":{\"size\":16},\"showarrow\":false,\"text\":\"\\u041f\\u043e \\u0434\\u0430\\u0442\\u0435\",\"x\":0.225,\"xanchor\":\"center\",\"xref\":\"paper\",\"y\":1.0,\"yanchor\":\"bottom\",\"yref\":\"paper\"},{\"font\":{\"size\":16},\"showarrow\":false,\"text\":\"\\u041f\\u043e \\u0434\\u043d\\u044f\\u043c \\u043d\\u0435\\u0434\\u0435\\u043b\\u0438\",\"x\":0.775,\"xanchor\":\"center\",\"xref\":\"paper\",\"y\":1.0,\"yanchor\":\"bottom\",\"yref\":\"paper\"}],\"title\":{\"text\":\"\\u041f\\u043e\\u043a\\u0443\\u043f\\u043a\\u0438\",\"x\":0.5},\"showlegend\":false,\"height\":500,\"width\":1400},                        {\"responsive\": true}                    ).then(function(){\n",
              "                            \n",
              "var gd = document.getElementById('7470b46c-a3d2-4c5b-bdf5-c8b0a2cc23e1');\n",
              "var x = new MutationObserver(function (mutations, observer) {{\n",
              "        var display = window.getComputedStyle(gd).display;\n",
              "        if (!display || display === 'none') {{\n",
              "            console.log([gd, 'removed!']);\n",
              "            Plotly.purge(gd);\n",
              "            observer.disconnect();\n",
              "        }}\n",
              "}});\n",
              "\n",
              "// Listen for the removal of the full notebook cells\n",
              "var notebookContainer = gd.closest('#notebook-container');\n",
              "if (notebookContainer) {{\n",
              "    x.observe(notebookContainer, {childList: true});\n",
              "}}\n",
              "\n",
              "// Listen for the clearing of the current output cell\n",
              "var outputEl = gd.closest('.output');\n",
              "if (outputEl) {{\n",
              "    x.observe(outputEl, {childList: true});\n",
              "}}\n",
              "\n",
              "                        })                };                            </script>        </div>\n",
              "</body>\n",
              "</html>"
            ]
          },
          "metadata": {}
        }
      ],
      "source": [
        "import plotly.graph_objects as go\n",
        "from plotly.subplots import make_subplots\n",
        "\n",
        "fig = make_subplots(rows=1, cols=2, subplot_titles=('По дате', 'По дням недели', 'Покупатели по дате', 'Покупатели по дням недели'))\n",
        "\n",
        "fig.add_trace(go.Scatter(x=data_per_date.index, y=data_per_date.values, mode='lines+markers', name='', marker_color='darkcyan'), row=1, col=1)\n",
        "\n",
        "fig.add_trace(go.Scatter(x=data_per_day.index, y=data_per_day.values, mode='lines+markers', name='', marker_color='purple'), row=1, col=2)\n",
        "\n",
        "fig.update_xaxes(title_text='Дата', row=1, col=1, tickangle=-20, tickformat='%d-%m-%Y')\n",
        "fig.update_xaxes(title_text='День недели', row=1, col=2, tickangle=-20)\n",
        "fig.update_yaxes(title_text='Кол-во покупок', row=1, col=1)\n",
        "fig.update_yaxes(title_text='Кол-во покупок', row=1, col=2)\n",
        "fig.update_layout(title='Покупки', title_x=0.5, showlegend=False, height=500, width=1400)\n",
        "\n",
        "fig.show()"
      ]
    },
    {
      "cell_type": "markdown",
      "metadata": {
        "id": "x35k-AGEAQAP"
      },
      "source": [
        "<font color='darkcyan'>*Есть ли недельная сезонность в магазине?*</font>\n",
        "\n",
        "Наблюдается тенденция скачка активности совершения покупок в выходные дни, особенно по субботам, также достаточно высокая активность покупок отмечается по четвергам. Четверговую активность можно считать аномальной и статистически незначимой, т.к. на четверг 7 марта пришелся пик покупок накануне праздника.\n",
        "\n",
        "Если рассматривать график по датам, то очевидно, что в связи с праздником произошел резкий скачок активности в период с 5 по 8 марта."
      ]
    },
    {
      "cell_type": "markdown",
      "source": [
        "---\n",
        "*Т.к. в задании указан график по покупкам и покупателям, строю график уникальных покупателей ради галочки. На самом деле, графики по форме практически идентичны графикам покупок, незначительно отличается лишь количество, т.к. время от времени покупатель мог совершить несколько покупок в день - так, например, согласно правому графику выше по средам было совершено в общем 407 покупок, а в правом графике ниже отображается 376 уникальных покупателей.*\n",
        "\n",
        "*Полагаю, что эти графики ниже излишни, так как не приносят ничего существенно нового, но на всякий случай =)*"
      ],
      "metadata": {
        "id": "pZ4-e-dDZMQQ"
      }
    },
    {
      "cell_type": "code",
      "source": [
        "fig = make_subplots(rows=1, cols=2, subplot_titles=('По дате', 'По дням недели', 'Покупатели по дате', 'Покупатели по дням недели'))\n",
        "\n",
        "fig.add_trace(go.Scatter(x=customers_per_date.index, y=customers_per_date.values, mode='lines+markers', name='', marker_color='darkcyan'), row=1, col=1)\n",
        "\n",
        "fig.add_trace(go.Scatter(x=customers_per_day.index, y=customers_per_day.values, mode='lines+markers', name='', marker_color='purple'), row=1, col=2)\n",
        "\n",
        "fig.update_xaxes(title_text='Дата', row=1, col=1, tickangle=-20)\n",
        "fig.update_xaxes(title_text='День недели', row=1, col=2, tickangle=-20)\n",
        "fig.update_yaxes(title_text='Кол-во покупателей', row=1, col=1)\n",
        "fig.update_yaxes(title_text='Кол-во покупателей', row=1, col=2)\n",
        "fig.update_layout(title='Уникальные покупатели', title_x=0.5, showlegend=False, height=500, width=1400)\n",
        "\n",
        "fig.show()"
      ],
      "metadata": {
        "colab": {
          "base_uri": "https://localhost:8080/",
          "height": 517
        },
        "id": "DUUxMeZiZLUR",
        "outputId": "a299d345-975d-4d84-863e-ae3331ae4cd7"
      },
      "execution_count": null,
      "outputs": [
        {
          "output_type": "display_data",
          "data": {
            "text/html": [
              "<html>\n",
              "<head><meta charset=\"utf-8\" /></head>\n",
              "<body>\n",
              "    <div>            <script src=\"https://cdnjs.cloudflare.com/ajax/libs/mathjax/2.7.5/MathJax.js?config=TeX-AMS-MML_SVG\"></script><script type=\"text/javascript\">if (window.MathJax && window.MathJax.Hub && window.MathJax.Hub.Config) {window.MathJax.Hub.Config({SVG: {font: \"STIX-Web\"}});}</script>                <script type=\"text/javascript\">window.PlotlyConfig = {MathJaxConfig: 'local'};</script>\n",
              "        <script charset=\"utf-8\" src=\"https://cdn.plot.ly/plotly-2.24.1.min.js\"></script>                <div id=\"86adcb6f-8291-405b-baee-f5fa4ed329f5\" class=\"plotly-graph-div\" style=\"height:500px; width:1400px;\"></div>            <script type=\"text/javascript\">                                    window.PLOTLYENV=window.PLOTLYENV || {};                                    if (document.getElementById(\"86adcb6f-8291-405b-baee-f5fa4ed329f5\")) {                    Plotly.newPlot(                        \"86adcb6f-8291-405b-baee-f5fa4ed329f5\",                        [{\"marker\":{\"color\":\"darkcyan\"},\"mode\":\"lines+markers\",\"name\":\"\",\"x\":[\"2024-03-02T00:00:00\",\"2024-03-03T00:00:00\",\"2024-03-04T00:00:00\",\"2024-03-05T00:00:00\",\"2024-03-06T00:00:00\",\"2024-03-07T00:00:00\",\"2024-03-08T00:00:00\",\"2024-03-09T00:00:00\",\"2024-03-10T00:00:00\",\"2024-03-11T00:00:00\",\"2024-03-12T00:00:00\",\"2024-03-13T00:00:00\",\"2024-03-14T00:00:00\",\"2024-03-15T00:00:00\",\"2024-03-16T00:00:00\",\"2024-03-17T00:00:00\",\"2024-03-18T00:00:00\",\"2024-03-19T00:00:00\",\"2024-03-20T00:00:00\",\"2024-03-21T00:00:00\",\"2024-03-22T00:00:00\",\"2024-03-23T00:00:00\",\"2024-03-24T00:00:00\",\"2024-03-25T00:00:00\",\"2024-03-26T00:00:00\",\"2024-03-27T00:00:00\",\"2024-03-28T00:00:00\",\"2024-03-29T00:00:00\",\"2024-03-30T00:00:00\",\"2024-03-31T00:00:00\"],\"y\":[87,82,88,98,108,134,115,79,88,90,80,81,82,88,93,97,88,94,76,89,87,85,82,93,81,73,95,75,79,85],\"type\":\"scatter\",\"xaxis\":\"x\",\"yaxis\":\"y\"},{\"marker\":{\"color\":\"purple\"},\"mode\":\"lines+markers\",\"name\":\"\",\"x\":[\"Monday\",\"Tuesday\",\"Wednesday\",\"Thursday\",\"Friday\",\"Saturday\",\"Sunday\"],\"y\":[340,339,323,376,341,394,404],\"type\":\"scatter\",\"xaxis\":\"x2\",\"yaxis\":\"y2\"}],                        {\"template\":{\"data\":{\"histogram2dcontour\":[{\"type\":\"histogram2dcontour\",\"colorbar\":{\"outlinewidth\":0,\"ticks\":\"\"},\"colorscale\":[[0.0,\"#0d0887\"],[0.1111111111111111,\"#46039f\"],[0.2222222222222222,\"#7201a8\"],[0.3333333333333333,\"#9c179e\"],[0.4444444444444444,\"#bd3786\"],[0.5555555555555556,\"#d8576b\"],[0.6666666666666666,\"#ed7953\"],[0.7777777777777778,\"#fb9f3a\"],[0.8888888888888888,\"#fdca26\"],[1.0,\"#f0f921\"]]}],\"choropleth\":[{\"type\":\"choropleth\",\"colorbar\":{\"outlinewidth\":0,\"ticks\":\"\"}}],\"histogram2d\":[{\"type\":\"histogram2d\",\"colorbar\":{\"outlinewidth\":0,\"ticks\":\"\"},\"colorscale\":[[0.0,\"#0d0887\"],[0.1111111111111111,\"#46039f\"],[0.2222222222222222,\"#7201a8\"],[0.3333333333333333,\"#9c179e\"],[0.4444444444444444,\"#bd3786\"],[0.5555555555555556,\"#d8576b\"],[0.6666666666666666,\"#ed7953\"],[0.7777777777777778,\"#fb9f3a\"],[0.8888888888888888,\"#fdca26\"],[1.0,\"#f0f921\"]]}],\"heatmap\":[{\"type\":\"heatmap\",\"colorbar\":{\"outlinewidth\":0,\"ticks\":\"\"},\"colorscale\":[[0.0,\"#0d0887\"],[0.1111111111111111,\"#46039f\"],[0.2222222222222222,\"#7201a8\"],[0.3333333333333333,\"#9c179e\"],[0.4444444444444444,\"#bd3786\"],[0.5555555555555556,\"#d8576b\"],[0.6666666666666666,\"#ed7953\"],[0.7777777777777778,\"#fb9f3a\"],[0.8888888888888888,\"#fdca26\"],[1.0,\"#f0f921\"]]}],\"heatmapgl\":[{\"type\":\"heatmapgl\",\"colorbar\":{\"outlinewidth\":0,\"ticks\":\"\"},\"colorscale\":[[0.0,\"#0d0887\"],[0.1111111111111111,\"#46039f\"],[0.2222222222222222,\"#7201a8\"],[0.3333333333333333,\"#9c179e\"],[0.4444444444444444,\"#bd3786\"],[0.5555555555555556,\"#d8576b\"],[0.6666666666666666,\"#ed7953\"],[0.7777777777777778,\"#fb9f3a\"],[0.8888888888888888,\"#fdca26\"],[1.0,\"#f0f921\"]]}],\"contourcarpet\":[{\"type\":\"contourcarpet\",\"colorbar\":{\"outlinewidth\":0,\"ticks\":\"\"}}],\"contour\":[{\"type\":\"contour\",\"colorbar\":{\"outlinewidth\":0,\"ticks\":\"\"},\"colorscale\":[[0.0,\"#0d0887\"],[0.1111111111111111,\"#46039f\"],[0.2222222222222222,\"#7201a8\"],[0.3333333333333333,\"#9c179e\"],[0.4444444444444444,\"#bd3786\"],[0.5555555555555556,\"#d8576b\"],[0.6666666666666666,\"#ed7953\"],[0.7777777777777778,\"#fb9f3a\"],[0.8888888888888888,\"#fdca26\"],[1.0,\"#f0f921\"]]}],\"surface\":[{\"type\":\"surface\",\"colorbar\":{\"outlinewidth\":0,\"ticks\":\"\"},\"colorscale\":[[0.0,\"#0d0887\"],[0.1111111111111111,\"#46039f\"],[0.2222222222222222,\"#7201a8\"],[0.3333333333333333,\"#9c179e\"],[0.4444444444444444,\"#bd3786\"],[0.5555555555555556,\"#d8576b\"],[0.6666666666666666,\"#ed7953\"],[0.7777777777777778,\"#fb9f3a\"],[0.8888888888888888,\"#fdca26\"],[1.0,\"#f0f921\"]]}],\"mesh3d\":[{\"type\":\"mesh3d\",\"colorbar\":{\"outlinewidth\":0,\"ticks\":\"\"}}],\"scatter\":[{\"fillpattern\":{\"fillmode\":\"overlay\",\"size\":10,\"solidity\":0.2},\"type\":\"scatter\"}],\"parcoords\":[{\"type\":\"parcoords\",\"line\":{\"colorbar\":{\"outlinewidth\":0,\"ticks\":\"\"}}}],\"scatterpolargl\":[{\"type\":\"scatterpolargl\",\"marker\":{\"colorbar\":{\"outlinewidth\":0,\"ticks\":\"\"}}}],\"bar\":[{\"error_x\":{\"color\":\"#2a3f5f\"},\"error_y\":{\"color\":\"#2a3f5f\"},\"marker\":{\"line\":{\"color\":\"#E5ECF6\",\"width\":0.5},\"pattern\":{\"fillmode\":\"overlay\",\"size\":10,\"solidity\":0.2}},\"type\":\"bar\"}],\"scattergeo\":[{\"type\":\"scattergeo\",\"marker\":{\"colorbar\":{\"outlinewidth\":0,\"ticks\":\"\"}}}],\"scatterpolar\":[{\"type\":\"scatterpolar\",\"marker\":{\"colorbar\":{\"outlinewidth\":0,\"ticks\":\"\"}}}],\"histogram\":[{\"marker\":{\"pattern\":{\"fillmode\":\"overlay\",\"size\":10,\"solidity\":0.2}},\"type\":\"histogram\"}],\"scattergl\":[{\"type\":\"scattergl\",\"marker\":{\"colorbar\":{\"outlinewidth\":0,\"ticks\":\"\"}}}],\"scatter3d\":[{\"type\":\"scatter3d\",\"line\":{\"colorbar\":{\"outlinewidth\":0,\"ticks\":\"\"}},\"marker\":{\"colorbar\":{\"outlinewidth\":0,\"ticks\":\"\"}}}],\"scattermapbox\":[{\"type\":\"scattermapbox\",\"marker\":{\"colorbar\":{\"outlinewidth\":0,\"ticks\":\"\"}}}],\"scatterternary\":[{\"type\":\"scatterternary\",\"marker\":{\"colorbar\":{\"outlinewidth\":0,\"ticks\":\"\"}}}],\"scattercarpet\":[{\"type\":\"scattercarpet\",\"marker\":{\"colorbar\":{\"outlinewidth\":0,\"ticks\":\"\"}}}],\"carpet\":[{\"aaxis\":{\"endlinecolor\":\"#2a3f5f\",\"gridcolor\":\"white\",\"linecolor\":\"white\",\"minorgridcolor\":\"white\",\"startlinecolor\":\"#2a3f5f\"},\"baxis\":{\"endlinecolor\":\"#2a3f5f\",\"gridcolor\":\"white\",\"linecolor\":\"white\",\"minorgridcolor\":\"white\",\"startlinecolor\":\"#2a3f5f\"},\"type\":\"carpet\"}],\"table\":[{\"cells\":{\"fill\":{\"color\":\"#EBF0F8\"},\"line\":{\"color\":\"white\"}},\"header\":{\"fill\":{\"color\":\"#C8D4E3\"},\"line\":{\"color\":\"white\"}},\"type\":\"table\"}],\"barpolar\":[{\"marker\":{\"line\":{\"color\":\"#E5ECF6\",\"width\":0.5},\"pattern\":{\"fillmode\":\"overlay\",\"size\":10,\"solidity\":0.2}},\"type\":\"barpolar\"}],\"pie\":[{\"automargin\":true,\"type\":\"pie\"}]},\"layout\":{\"autotypenumbers\":\"strict\",\"colorway\":[\"#636efa\",\"#EF553B\",\"#00cc96\",\"#ab63fa\",\"#FFA15A\",\"#19d3f3\",\"#FF6692\",\"#B6E880\",\"#FF97FF\",\"#FECB52\"],\"font\":{\"color\":\"#2a3f5f\"},\"hovermode\":\"closest\",\"hoverlabel\":{\"align\":\"left\"},\"paper_bgcolor\":\"white\",\"plot_bgcolor\":\"#E5ECF6\",\"polar\":{\"bgcolor\":\"#E5ECF6\",\"angularaxis\":{\"gridcolor\":\"white\",\"linecolor\":\"white\",\"ticks\":\"\"},\"radialaxis\":{\"gridcolor\":\"white\",\"linecolor\":\"white\",\"ticks\":\"\"}},\"ternary\":{\"bgcolor\":\"#E5ECF6\",\"aaxis\":{\"gridcolor\":\"white\",\"linecolor\":\"white\",\"ticks\":\"\"},\"baxis\":{\"gridcolor\":\"white\",\"linecolor\":\"white\",\"ticks\":\"\"},\"caxis\":{\"gridcolor\":\"white\",\"linecolor\":\"white\",\"ticks\":\"\"}},\"coloraxis\":{\"colorbar\":{\"outlinewidth\":0,\"ticks\":\"\"}},\"colorscale\":{\"sequential\":[[0.0,\"#0d0887\"],[0.1111111111111111,\"#46039f\"],[0.2222222222222222,\"#7201a8\"],[0.3333333333333333,\"#9c179e\"],[0.4444444444444444,\"#bd3786\"],[0.5555555555555556,\"#d8576b\"],[0.6666666666666666,\"#ed7953\"],[0.7777777777777778,\"#fb9f3a\"],[0.8888888888888888,\"#fdca26\"],[1.0,\"#f0f921\"]],\"sequentialminus\":[[0.0,\"#0d0887\"],[0.1111111111111111,\"#46039f\"],[0.2222222222222222,\"#7201a8\"],[0.3333333333333333,\"#9c179e\"],[0.4444444444444444,\"#bd3786\"],[0.5555555555555556,\"#d8576b\"],[0.6666666666666666,\"#ed7953\"],[0.7777777777777778,\"#fb9f3a\"],[0.8888888888888888,\"#fdca26\"],[1.0,\"#f0f921\"]],\"diverging\":[[0,\"#8e0152\"],[0.1,\"#c51b7d\"],[0.2,\"#de77ae\"],[0.3,\"#f1b6da\"],[0.4,\"#fde0ef\"],[0.5,\"#f7f7f7\"],[0.6,\"#e6f5d0\"],[0.7,\"#b8e186\"],[0.8,\"#7fbc41\"],[0.9,\"#4d9221\"],[1,\"#276419\"]]},\"xaxis\":{\"gridcolor\":\"white\",\"linecolor\":\"white\",\"ticks\":\"\",\"title\":{\"standoff\":15},\"zerolinecolor\":\"white\",\"automargin\":true,\"zerolinewidth\":2},\"yaxis\":{\"gridcolor\":\"white\",\"linecolor\":\"white\",\"ticks\":\"\",\"title\":{\"standoff\":15},\"zerolinecolor\":\"white\",\"automargin\":true,\"zerolinewidth\":2},\"scene\":{\"xaxis\":{\"backgroundcolor\":\"#E5ECF6\",\"gridcolor\":\"white\",\"linecolor\":\"white\",\"showbackground\":true,\"ticks\":\"\",\"zerolinecolor\":\"white\",\"gridwidth\":2},\"yaxis\":{\"backgroundcolor\":\"#E5ECF6\",\"gridcolor\":\"white\",\"linecolor\":\"white\",\"showbackground\":true,\"ticks\":\"\",\"zerolinecolor\":\"white\",\"gridwidth\":2},\"zaxis\":{\"backgroundcolor\":\"#E5ECF6\",\"gridcolor\":\"white\",\"linecolor\":\"white\",\"showbackground\":true,\"ticks\":\"\",\"zerolinecolor\":\"white\",\"gridwidth\":2}},\"shapedefaults\":{\"line\":{\"color\":\"#2a3f5f\"}},\"annotationdefaults\":{\"arrowcolor\":\"#2a3f5f\",\"arrowhead\":0,\"arrowwidth\":1},\"geo\":{\"bgcolor\":\"white\",\"landcolor\":\"#E5ECF6\",\"subunitcolor\":\"white\",\"showland\":true,\"showlakes\":true,\"lakecolor\":\"white\"},\"title\":{\"x\":0.05},\"mapbox\":{\"style\":\"light\"}}},\"xaxis\":{\"anchor\":\"y\",\"domain\":[0.0,0.45],\"title\":{\"text\":\"\\u0414\\u0430\\u0442\\u0430\"},\"tickangle\":-20},\"yaxis\":{\"anchor\":\"x\",\"domain\":[0.0,1.0],\"title\":{\"text\":\"\\u041a\\u043e\\u043b-\\u0432\\u043e \\u043f\\u043e\\u043a\\u0443\\u043f\\u0430\\u0442\\u0435\\u043b\\u0435\\u0439\"}},\"xaxis2\":{\"anchor\":\"y2\",\"domain\":[0.55,1.0],\"title\":{\"text\":\"\\u0414\\u0435\\u043d\\u044c \\u043d\\u0435\\u0434\\u0435\\u043b\\u0438\"},\"tickangle\":-20},\"yaxis2\":{\"anchor\":\"x2\",\"domain\":[0.0,1.0],\"title\":{\"text\":\"\\u041a\\u043e\\u043b-\\u0432\\u043e \\u043f\\u043e\\u043a\\u0443\\u043f\\u0430\\u0442\\u0435\\u043b\\u0435\\u0439\"}},\"annotations\":[{\"font\":{\"size\":16},\"showarrow\":false,\"text\":\"\\u041f\\u043e \\u0434\\u0430\\u0442\\u0435\",\"x\":0.225,\"xanchor\":\"center\",\"xref\":\"paper\",\"y\":1.0,\"yanchor\":\"bottom\",\"yref\":\"paper\"},{\"font\":{\"size\":16},\"showarrow\":false,\"text\":\"\\u041f\\u043e \\u0434\\u043d\\u044f\\u043c \\u043d\\u0435\\u0434\\u0435\\u043b\\u0438\",\"x\":0.775,\"xanchor\":\"center\",\"xref\":\"paper\",\"y\":1.0,\"yanchor\":\"bottom\",\"yref\":\"paper\"}],\"title\":{\"text\":\"\\u0423\\u043d\\u0438\\u043a\\u0430\\u043b\\u044c\\u043d\\u044b\\u0435 \\u043f\\u043e\\u043a\\u0443\\u043f\\u0430\\u0442\\u0435\\u043b\\u0438\",\"x\":0.5},\"showlegend\":false,\"height\":500,\"width\":1400},                        {\"responsive\": true}                    ).then(function(){\n",
              "                            \n",
              "var gd = document.getElementById('86adcb6f-8291-405b-baee-f5fa4ed329f5');\n",
              "var x = new MutationObserver(function (mutations, observer) {{\n",
              "        var display = window.getComputedStyle(gd).display;\n",
              "        if (!display || display === 'none') {{\n",
              "            console.log([gd, 'removed!']);\n",
              "            Plotly.purge(gd);\n",
              "            observer.disconnect();\n",
              "        }}\n",
              "}});\n",
              "\n",
              "// Listen for the removal of the full notebook cells\n",
              "var notebookContainer = gd.closest('#notebook-container');\n",
              "if (notebookContainer) {{\n",
              "    x.observe(notebookContainer, {childList: true});\n",
              "}}\n",
              "\n",
              "// Listen for the clearing of the current output cell\n",
              "var outputEl = gd.closest('.output');\n",
              "if (outputEl) {{\n",
              "    x.observe(outputEl, {childList: true});\n",
              "}}\n",
              "\n",
              "                        })                };                            </script>        </div>\n",
              "</body>\n",
              "</html>"
            ]
          },
          "metadata": {}
        }
      ]
    },
    {
      "cell_type": "code",
      "source": [
        "# наложение графиков уникальных покупок и покупателей\n",
        "fig = make_subplots(rows=1, cols=2, subplot_titles=('По дате', 'По дням недели'))\n",
        "\n",
        "# графики по покупкам\n",
        "fig.add_trace(go.Scatter(x=data_per_date.index, y=data_per_date.values, mode='lines+markers', name='Покупки', marker_color='darkcyan', line=dict(width=3)), row=1, col=1)\n",
        "fig.add_trace(go.Scatter(x=data_per_day.index, y=data_per_day.values, mode='lines+markers', name='Покупки', marker_color='purple'), row=1, col=2)\n",
        "\n",
        "# графики по покупателям\n",
        "fig.add_trace(go.Scatter(x=customers_per_date.index, y=customers_per_date.values, mode='lines+markers', name='Покупатели', marker_color='violet'), row=1, col=1)\n",
        "fig.add_trace(go.Scatter(x=customers_per_day.index, y=customers_per_day.values, mode='lines+markers', name='Покупатели', marker_color='steelblue'), row=1, col=2)\n",
        "\n",
        "# Обновляем макет\n",
        "fig.update_xaxes(title_text='Дата', row=1, col=1, tickangle=-20, tickformat='%d-%m-%Y')\n",
        "fig.update_xaxes(title_text='День недели', row=1, col=2, tickangle=-20)\n",
        "fig.update_yaxes(title_text='Кол-во', row=1, col=1)\n",
        "fig.update_yaxes(title_text='Кол-во покупателей', row=1, col=2)\n",
        "fig.update_layout(title='Покупки и Уникальные Покупатели', title_x=0.5, showlegend=True, height=600, width=1450)\n",
        "\n",
        "fig.show()"
      ],
      "metadata": {
        "colab": {
          "base_uri": "https://localhost:8080/",
          "height": 617
        },
        "id": "Qm_q5nouoF03",
        "outputId": "32e8feec-ec63-4b9d-e0db-0fe0f3118bc7"
      },
      "execution_count": null,
      "outputs": [
        {
          "output_type": "display_data",
          "data": {
            "text/html": [
              "<html>\n",
              "<head><meta charset=\"utf-8\" /></head>\n",
              "<body>\n",
              "    <div>            <script src=\"https://cdnjs.cloudflare.com/ajax/libs/mathjax/2.7.5/MathJax.js?config=TeX-AMS-MML_SVG\"></script><script type=\"text/javascript\">if (window.MathJax && window.MathJax.Hub && window.MathJax.Hub.Config) {window.MathJax.Hub.Config({SVG: {font: \"STIX-Web\"}});}</script>                <script type=\"text/javascript\">window.PlotlyConfig = {MathJaxConfig: 'local'};</script>\n",
              "        <script charset=\"utf-8\" src=\"https://cdn.plot.ly/plotly-2.24.1.min.js\"></script>                <div id=\"0036c854-f8b6-4803-9b5f-935dfb53a241\" class=\"plotly-graph-div\" style=\"height:600px; width:1450px;\"></div>            <script type=\"text/javascript\">                                    window.PLOTLYENV=window.PLOTLYENV || {};                                    if (document.getElementById(\"0036c854-f8b6-4803-9b5f-935dfb53a241\")) {                    Plotly.newPlot(                        \"0036c854-f8b6-4803-9b5f-935dfb53a241\",                        [{\"line\":{\"width\":3},\"marker\":{\"color\":\"darkcyan\"},\"mode\":\"lines+markers\",\"name\":\"\\u041f\\u043e\\u043a\\u0443\\u043f\\u043a\\u0438\",\"x\":[\"2024-03-02T00:00:00\",\"2024-03-03T00:00:00\",\"2024-03-04T00:00:00\",\"2024-03-05T00:00:00\",\"2024-03-06T00:00:00\",\"2024-03-07T00:00:00\",\"2024-03-08T00:00:00\",\"2024-03-09T00:00:00\",\"2024-03-10T00:00:00\",\"2024-03-11T00:00:00\",\"2024-03-12T00:00:00\",\"2024-03-13T00:00:00\",\"2024-03-14T00:00:00\",\"2024-03-15T00:00:00\",\"2024-03-16T00:00:00\",\"2024-03-17T00:00:00\",\"2024-03-18T00:00:00\",\"2024-03-19T00:00:00\",\"2024-03-20T00:00:00\",\"2024-03-21T00:00:00\",\"2024-03-22T00:00:00\",\"2024-03-23T00:00:00\",\"2024-03-24T00:00:00\",\"2024-03-25T00:00:00\",\"2024-03-26T00:00:00\",\"2024-03-27T00:00:00\",\"2024-03-28T00:00:00\",\"2024-03-29T00:00:00\",\"2024-03-30T00:00:00\",\"2024-03-31T00:00:00\"],\"y\":[89,83,90,100,112,136,117,80,90,92,81,81,86,89,94,98,88,96,78,90,87,86,83,93,84,74,95,76,80,86],\"type\":\"scatter\",\"xaxis\":\"x\",\"yaxis\":\"y\"},{\"marker\":{\"color\":\"purple\"},\"mode\":\"lines+markers\",\"name\":\"\\u041f\\u043e\\u043a\\u0443\\u043f\\u043a\\u0438\",\"x\":[\"Monday\",\"Tuesday\",\"Wednesday\",\"Thursday\",\"Friday\",\"Saturday\",\"Sunday\"],\"y\":[363,361,345,407,369,429,440],\"type\":\"scatter\",\"xaxis\":\"x2\",\"yaxis\":\"y2\"},{\"marker\":{\"color\":\"violet\"},\"mode\":\"lines+markers\",\"name\":\"\\u041f\\u043e\\u043a\\u0443\\u043f\\u0430\\u0442\\u0435\\u043b\\u0438\",\"x\":[\"2024-03-02T00:00:00\",\"2024-03-03T00:00:00\",\"2024-03-04T00:00:00\",\"2024-03-05T00:00:00\",\"2024-03-06T00:00:00\",\"2024-03-07T00:00:00\",\"2024-03-08T00:00:00\",\"2024-03-09T00:00:00\",\"2024-03-10T00:00:00\",\"2024-03-11T00:00:00\",\"2024-03-12T00:00:00\",\"2024-03-13T00:00:00\",\"2024-03-14T00:00:00\",\"2024-03-15T00:00:00\",\"2024-03-16T00:00:00\",\"2024-03-17T00:00:00\",\"2024-03-18T00:00:00\",\"2024-03-19T00:00:00\",\"2024-03-20T00:00:00\",\"2024-03-21T00:00:00\",\"2024-03-22T00:00:00\",\"2024-03-23T00:00:00\",\"2024-03-24T00:00:00\",\"2024-03-25T00:00:00\",\"2024-03-26T00:00:00\",\"2024-03-27T00:00:00\",\"2024-03-28T00:00:00\",\"2024-03-29T00:00:00\",\"2024-03-30T00:00:00\",\"2024-03-31T00:00:00\"],\"y\":[87,82,88,98,108,134,115,79,88,90,80,81,82,88,93,97,88,94,76,89,87,85,82,93,81,73,95,75,79,85],\"type\":\"scatter\",\"xaxis\":\"x\",\"yaxis\":\"y\"},{\"marker\":{\"color\":\"steelblue\"},\"mode\":\"lines+markers\",\"name\":\"\\u041f\\u043e\\u043a\\u0443\\u043f\\u0430\\u0442\\u0435\\u043b\\u0438\",\"x\":[\"Monday\",\"Tuesday\",\"Wednesday\",\"Thursday\",\"Friday\",\"Saturday\",\"Sunday\"],\"y\":[340,339,323,376,341,394,404],\"type\":\"scatter\",\"xaxis\":\"x2\",\"yaxis\":\"y2\"}],                        {\"template\":{\"data\":{\"histogram2dcontour\":[{\"type\":\"histogram2dcontour\",\"colorbar\":{\"outlinewidth\":0,\"ticks\":\"\"},\"colorscale\":[[0.0,\"#0d0887\"],[0.1111111111111111,\"#46039f\"],[0.2222222222222222,\"#7201a8\"],[0.3333333333333333,\"#9c179e\"],[0.4444444444444444,\"#bd3786\"],[0.5555555555555556,\"#d8576b\"],[0.6666666666666666,\"#ed7953\"],[0.7777777777777778,\"#fb9f3a\"],[0.8888888888888888,\"#fdca26\"],[1.0,\"#f0f921\"]]}],\"choropleth\":[{\"type\":\"choropleth\",\"colorbar\":{\"outlinewidth\":0,\"ticks\":\"\"}}],\"histogram2d\":[{\"type\":\"histogram2d\",\"colorbar\":{\"outlinewidth\":0,\"ticks\":\"\"},\"colorscale\":[[0.0,\"#0d0887\"],[0.1111111111111111,\"#46039f\"],[0.2222222222222222,\"#7201a8\"],[0.3333333333333333,\"#9c179e\"],[0.4444444444444444,\"#bd3786\"],[0.5555555555555556,\"#d8576b\"],[0.6666666666666666,\"#ed7953\"],[0.7777777777777778,\"#fb9f3a\"],[0.8888888888888888,\"#fdca26\"],[1.0,\"#f0f921\"]]}],\"heatmap\":[{\"type\":\"heatmap\",\"colorbar\":{\"outlinewidth\":0,\"ticks\":\"\"},\"colorscale\":[[0.0,\"#0d0887\"],[0.1111111111111111,\"#46039f\"],[0.2222222222222222,\"#7201a8\"],[0.3333333333333333,\"#9c179e\"],[0.4444444444444444,\"#bd3786\"],[0.5555555555555556,\"#d8576b\"],[0.6666666666666666,\"#ed7953\"],[0.7777777777777778,\"#fb9f3a\"],[0.8888888888888888,\"#fdca26\"],[1.0,\"#f0f921\"]]}],\"heatmapgl\":[{\"type\":\"heatmapgl\",\"colorbar\":{\"outlinewidth\":0,\"ticks\":\"\"},\"colorscale\":[[0.0,\"#0d0887\"],[0.1111111111111111,\"#46039f\"],[0.2222222222222222,\"#7201a8\"],[0.3333333333333333,\"#9c179e\"],[0.4444444444444444,\"#bd3786\"],[0.5555555555555556,\"#d8576b\"],[0.6666666666666666,\"#ed7953\"],[0.7777777777777778,\"#fb9f3a\"],[0.8888888888888888,\"#fdca26\"],[1.0,\"#f0f921\"]]}],\"contourcarpet\":[{\"type\":\"contourcarpet\",\"colorbar\":{\"outlinewidth\":0,\"ticks\":\"\"}}],\"contour\":[{\"type\":\"contour\",\"colorbar\":{\"outlinewidth\":0,\"ticks\":\"\"},\"colorscale\":[[0.0,\"#0d0887\"],[0.1111111111111111,\"#46039f\"],[0.2222222222222222,\"#7201a8\"],[0.3333333333333333,\"#9c179e\"],[0.4444444444444444,\"#bd3786\"],[0.5555555555555556,\"#d8576b\"],[0.6666666666666666,\"#ed7953\"],[0.7777777777777778,\"#fb9f3a\"],[0.8888888888888888,\"#fdca26\"],[1.0,\"#f0f921\"]]}],\"surface\":[{\"type\":\"surface\",\"colorbar\":{\"outlinewidth\":0,\"ticks\":\"\"},\"colorscale\":[[0.0,\"#0d0887\"],[0.1111111111111111,\"#46039f\"],[0.2222222222222222,\"#7201a8\"],[0.3333333333333333,\"#9c179e\"],[0.4444444444444444,\"#bd3786\"],[0.5555555555555556,\"#d8576b\"],[0.6666666666666666,\"#ed7953\"],[0.7777777777777778,\"#fb9f3a\"],[0.8888888888888888,\"#fdca26\"],[1.0,\"#f0f921\"]]}],\"mesh3d\":[{\"type\":\"mesh3d\",\"colorbar\":{\"outlinewidth\":0,\"ticks\":\"\"}}],\"scatter\":[{\"fillpattern\":{\"fillmode\":\"overlay\",\"size\":10,\"solidity\":0.2},\"type\":\"scatter\"}],\"parcoords\":[{\"type\":\"parcoords\",\"line\":{\"colorbar\":{\"outlinewidth\":0,\"ticks\":\"\"}}}],\"scatterpolargl\":[{\"type\":\"scatterpolargl\",\"marker\":{\"colorbar\":{\"outlinewidth\":0,\"ticks\":\"\"}}}],\"bar\":[{\"error_x\":{\"color\":\"#2a3f5f\"},\"error_y\":{\"color\":\"#2a3f5f\"},\"marker\":{\"line\":{\"color\":\"#E5ECF6\",\"width\":0.5},\"pattern\":{\"fillmode\":\"overlay\",\"size\":10,\"solidity\":0.2}},\"type\":\"bar\"}],\"scattergeo\":[{\"type\":\"scattergeo\",\"marker\":{\"colorbar\":{\"outlinewidth\":0,\"ticks\":\"\"}}}],\"scatterpolar\":[{\"type\":\"scatterpolar\",\"marker\":{\"colorbar\":{\"outlinewidth\":0,\"ticks\":\"\"}}}],\"histogram\":[{\"marker\":{\"pattern\":{\"fillmode\":\"overlay\",\"size\":10,\"solidity\":0.2}},\"type\":\"histogram\"}],\"scattergl\":[{\"type\":\"scattergl\",\"marker\":{\"colorbar\":{\"outlinewidth\":0,\"ticks\":\"\"}}}],\"scatter3d\":[{\"type\":\"scatter3d\",\"line\":{\"colorbar\":{\"outlinewidth\":0,\"ticks\":\"\"}},\"marker\":{\"colorbar\":{\"outlinewidth\":0,\"ticks\":\"\"}}}],\"scattermapbox\":[{\"type\":\"scattermapbox\",\"marker\":{\"colorbar\":{\"outlinewidth\":0,\"ticks\":\"\"}}}],\"scatterternary\":[{\"type\":\"scatterternary\",\"marker\":{\"colorbar\":{\"outlinewidth\":0,\"ticks\":\"\"}}}],\"scattercarpet\":[{\"type\":\"scattercarpet\",\"marker\":{\"colorbar\":{\"outlinewidth\":0,\"ticks\":\"\"}}}],\"carpet\":[{\"aaxis\":{\"endlinecolor\":\"#2a3f5f\",\"gridcolor\":\"white\",\"linecolor\":\"white\",\"minorgridcolor\":\"white\",\"startlinecolor\":\"#2a3f5f\"},\"baxis\":{\"endlinecolor\":\"#2a3f5f\",\"gridcolor\":\"white\",\"linecolor\":\"white\",\"minorgridcolor\":\"white\",\"startlinecolor\":\"#2a3f5f\"},\"type\":\"carpet\"}],\"table\":[{\"cells\":{\"fill\":{\"color\":\"#EBF0F8\"},\"line\":{\"color\":\"white\"}},\"header\":{\"fill\":{\"color\":\"#C8D4E3\"},\"line\":{\"color\":\"white\"}},\"type\":\"table\"}],\"barpolar\":[{\"marker\":{\"line\":{\"color\":\"#E5ECF6\",\"width\":0.5},\"pattern\":{\"fillmode\":\"overlay\",\"size\":10,\"solidity\":0.2}},\"type\":\"barpolar\"}],\"pie\":[{\"automargin\":true,\"type\":\"pie\"}]},\"layout\":{\"autotypenumbers\":\"strict\",\"colorway\":[\"#636efa\",\"#EF553B\",\"#00cc96\",\"#ab63fa\",\"#FFA15A\",\"#19d3f3\",\"#FF6692\",\"#B6E880\",\"#FF97FF\",\"#FECB52\"],\"font\":{\"color\":\"#2a3f5f\"},\"hovermode\":\"closest\",\"hoverlabel\":{\"align\":\"left\"},\"paper_bgcolor\":\"white\",\"plot_bgcolor\":\"#E5ECF6\",\"polar\":{\"bgcolor\":\"#E5ECF6\",\"angularaxis\":{\"gridcolor\":\"white\",\"linecolor\":\"white\",\"ticks\":\"\"},\"radialaxis\":{\"gridcolor\":\"white\",\"linecolor\":\"white\",\"ticks\":\"\"}},\"ternary\":{\"bgcolor\":\"#E5ECF6\",\"aaxis\":{\"gridcolor\":\"white\",\"linecolor\":\"white\",\"ticks\":\"\"},\"baxis\":{\"gridcolor\":\"white\",\"linecolor\":\"white\",\"ticks\":\"\"},\"caxis\":{\"gridcolor\":\"white\",\"linecolor\":\"white\",\"ticks\":\"\"}},\"coloraxis\":{\"colorbar\":{\"outlinewidth\":0,\"ticks\":\"\"}},\"colorscale\":{\"sequential\":[[0.0,\"#0d0887\"],[0.1111111111111111,\"#46039f\"],[0.2222222222222222,\"#7201a8\"],[0.3333333333333333,\"#9c179e\"],[0.4444444444444444,\"#bd3786\"],[0.5555555555555556,\"#d8576b\"],[0.6666666666666666,\"#ed7953\"],[0.7777777777777778,\"#fb9f3a\"],[0.8888888888888888,\"#fdca26\"],[1.0,\"#f0f921\"]],\"sequentialminus\":[[0.0,\"#0d0887\"],[0.1111111111111111,\"#46039f\"],[0.2222222222222222,\"#7201a8\"],[0.3333333333333333,\"#9c179e\"],[0.4444444444444444,\"#bd3786\"],[0.5555555555555556,\"#d8576b\"],[0.6666666666666666,\"#ed7953\"],[0.7777777777777778,\"#fb9f3a\"],[0.8888888888888888,\"#fdca26\"],[1.0,\"#f0f921\"]],\"diverging\":[[0,\"#8e0152\"],[0.1,\"#c51b7d\"],[0.2,\"#de77ae\"],[0.3,\"#f1b6da\"],[0.4,\"#fde0ef\"],[0.5,\"#f7f7f7\"],[0.6,\"#e6f5d0\"],[0.7,\"#b8e186\"],[0.8,\"#7fbc41\"],[0.9,\"#4d9221\"],[1,\"#276419\"]]},\"xaxis\":{\"gridcolor\":\"white\",\"linecolor\":\"white\",\"ticks\":\"\",\"title\":{\"standoff\":15},\"zerolinecolor\":\"white\",\"automargin\":true,\"zerolinewidth\":2},\"yaxis\":{\"gridcolor\":\"white\",\"linecolor\":\"white\",\"ticks\":\"\",\"title\":{\"standoff\":15},\"zerolinecolor\":\"white\",\"automargin\":true,\"zerolinewidth\":2},\"scene\":{\"xaxis\":{\"backgroundcolor\":\"#E5ECF6\",\"gridcolor\":\"white\",\"linecolor\":\"white\",\"showbackground\":true,\"ticks\":\"\",\"zerolinecolor\":\"white\",\"gridwidth\":2},\"yaxis\":{\"backgroundcolor\":\"#E5ECF6\",\"gridcolor\":\"white\",\"linecolor\":\"white\",\"showbackground\":true,\"ticks\":\"\",\"zerolinecolor\":\"white\",\"gridwidth\":2},\"zaxis\":{\"backgroundcolor\":\"#E5ECF6\",\"gridcolor\":\"white\",\"linecolor\":\"white\",\"showbackground\":true,\"ticks\":\"\",\"zerolinecolor\":\"white\",\"gridwidth\":2}},\"shapedefaults\":{\"line\":{\"color\":\"#2a3f5f\"}},\"annotationdefaults\":{\"arrowcolor\":\"#2a3f5f\",\"arrowhead\":0,\"arrowwidth\":1},\"geo\":{\"bgcolor\":\"white\",\"landcolor\":\"#E5ECF6\",\"subunitcolor\":\"white\",\"showland\":true,\"showlakes\":true,\"lakecolor\":\"white\"},\"title\":{\"x\":0.05},\"mapbox\":{\"style\":\"light\"}}},\"xaxis\":{\"anchor\":\"y\",\"domain\":[0.0,0.45],\"title\":{\"text\":\"\\u0414\\u0430\\u0442\\u0430\"},\"tickangle\":-20,\"tickformat\":\"%d-%m-%Y\"},\"yaxis\":{\"anchor\":\"x\",\"domain\":[0.0,1.0],\"title\":{\"text\":\"\\u041a\\u043e\\u043b-\\u0432\\u043e\"}},\"xaxis2\":{\"anchor\":\"y2\",\"domain\":[0.55,1.0],\"title\":{\"text\":\"\\u0414\\u0435\\u043d\\u044c \\u043d\\u0435\\u0434\\u0435\\u043b\\u0438\"},\"tickangle\":-20},\"yaxis2\":{\"anchor\":\"x2\",\"domain\":[0.0,1.0],\"title\":{\"text\":\"\\u041a\\u043e\\u043b-\\u0432\\u043e \\u043f\\u043e\\u043a\\u0443\\u043f\\u0430\\u0442\\u0435\\u043b\\u0435\\u0439\"}},\"annotations\":[{\"font\":{\"size\":16},\"showarrow\":false,\"text\":\"\\u041f\\u043e \\u0434\\u0430\\u0442\\u0435\",\"x\":0.225,\"xanchor\":\"center\",\"xref\":\"paper\",\"y\":1.0,\"yanchor\":\"bottom\",\"yref\":\"paper\"},{\"font\":{\"size\":16},\"showarrow\":false,\"text\":\"\\u041f\\u043e \\u0434\\u043d\\u044f\\u043c \\u043d\\u0435\\u0434\\u0435\\u043b\\u0438\",\"x\":0.775,\"xanchor\":\"center\",\"xref\":\"paper\",\"y\":1.0,\"yanchor\":\"bottom\",\"yref\":\"paper\"}],\"title\":{\"text\":\"\\u041f\\u043e\\u043a\\u0443\\u043f\\u043a\\u0438 \\u0438 \\u0423\\u043d\\u0438\\u043a\\u0430\\u043b\\u044c\\u043d\\u044b\\u0435 \\u041f\\u043e\\u043a\\u0443\\u043f\\u0430\\u0442\\u0435\\u043b\\u0438\",\"x\":0.5},\"showlegend\":true,\"height\":600,\"width\":1450},                        {\"responsive\": true}                    ).then(function(){\n",
              "                            \n",
              "var gd = document.getElementById('0036c854-f8b6-4803-9b5f-935dfb53a241');\n",
              "var x = new MutationObserver(function (mutations, observer) {{\n",
              "        var display = window.getComputedStyle(gd).display;\n",
              "        if (!display || display === 'none') {{\n",
              "            console.log([gd, 'removed!']);\n",
              "            Plotly.purge(gd);\n",
              "            observer.disconnect();\n",
              "        }}\n",
              "}});\n",
              "\n",
              "// Listen for the removal of the full notebook cells\n",
              "var notebookContainer = gd.closest('#notebook-container');\n",
              "if (notebookContainer) {{\n",
              "    x.observe(notebookContainer, {childList: true});\n",
              "}}\n",
              "\n",
              "// Listen for the clearing of the current output cell\n",
              "var outputEl = gd.closest('.output');\n",
              "if (outputEl) {{\n",
              "    x.observe(outputEl, {childList: true});\n",
              "}}\n",
              "\n",
              "                        })                };                            </script>        </div>\n",
              "</body>\n",
              "</html>"
            ]
          },
          "metadata": {}
        }
      ]
    },
    {
      "cell_type": "markdown",
      "metadata": {
        "id": "wq4Q9mIJAuiC"
      },
      "source": [
        "###*3. Конверсия*"
      ]
    },
    {
      "cell_type": "code",
      "execution_count": null,
      "metadata": {
        "colab": {
          "base_uri": "https://localhost:8080/",
          "height": 143
        },
        "id": "gV7e4qwYBWpH",
        "outputId": "3d04ce4a-2551-414f-e368-f91192508672"
      },
      "outputs": [
        {
          "output_type": "execute_result",
          "data": {
            "text/plain": [
              "         count   sum\n",
              "group               \n",
              "control   2575  1312\n",
              "test      2616  1402"
            ],
            "text/html": [
              "\n",
              "  <div id=\"df-1a723e08-7152-41fd-8db5-6142f9aabf2c\" class=\"colab-df-container\">\n",
              "    <div>\n",
              "<style scoped>\n",
              "    .dataframe tbody tr th:only-of-type {\n",
              "        vertical-align: middle;\n",
              "    }\n",
              "\n",
              "    .dataframe tbody tr th {\n",
              "        vertical-align: top;\n",
              "    }\n",
              "\n",
              "    .dataframe thead th {\n",
              "        text-align: right;\n",
              "    }\n",
              "</style>\n",
              "<table border=\"1\" class=\"dataframe\">\n",
              "  <thead>\n",
              "    <tr style=\"text-align: right;\">\n",
              "      <th></th>\n",
              "      <th>count</th>\n",
              "      <th>sum</th>\n",
              "    </tr>\n",
              "    <tr>\n",
              "      <th>group</th>\n",
              "      <th></th>\n",
              "      <th></th>\n",
              "    </tr>\n",
              "  </thead>\n",
              "  <tbody>\n",
              "    <tr>\n",
              "      <th>control</th>\n",
              "      <td>2575</td>\n",
              "      <td>1312</td>\n",
              "    </tr>\n",
              "    <tr>\n",
              "      <th>test</th>\n",
              "      <td>2616</td>\n",
              "      <td>1402</td>\n",
              "    </tr>\n",
              "  </tbody>\n",
              "</table>\n",
              "</div>\n",
              "    <div class=\"colab-df-buttons\">\n",
              "\n",
              "  <div class=\"colab-df-container\">\n",
              "    <button class=\"colab-df-convert\" onclick=\"convertToInteractive('df-1a723e08-7152-41fd-8db5-6142f9aabf2c')\"\n",
              "            title=\"Convert this dataframe to an interactive table.\"\n",
              "            style=\"display:none;\">\n",
              "\n",
              "  <svg xmlns=\"http://www.w3.org/2000/svg\" height=\"24px\" viewBox=\"0 -960 960 960\">\n",
              "    <path d=\"M120-120v-720h720v720H120Zm60-500h600v-160H180v160Zm220 220h160v-160H400v160Zm0 220h160v-160H400v160ZM180-400h160v-160H180v160Zm440 0h160v-160H620v160ZM180-180h160v-160H180v160Zm440 0h160v-160H620v160Z\"/>\n",
              "  </svg>\n",
              "    </button>\n",
              "\n",
              "  <style>\n",
              "    .colab-df-container {\n",
              "      display:flex;\n",
              "      gap: 12px;\n",
              "    }\n",
              "\n",
              "    .colab-df-convert {\n",
              "      background-color: #E8F0FE;\n",
              "      border: none;\n",
              "      border-radius: 50%;\n",
              "      cursor: pointer;\n",
              "      display: none;\n",
              "      fill: #1967D2;\n",
              "      height: 32px;\n",
              "      padding: 0 0 0 0;\n",
              "      width: 32px;\n",
              "    }\n",
              "\n",
              "    .colab-df-convert:hover {\n",
              "      background-color: #E2EBFA;\n",
              "      box-shadow: 0px 1px 2px rgba(60, 64, 67, 0.3), 0px 1px 3px 1px rgba(60, 64, 67, 0.15);\n",
              "      fill: #174EA6;\n",
              "    }\n",
              "\n",
              "    .colab-df-buttons div {\n",
              "      margin-bottom: 4px;\n",
              "    }\n",
              "\n",
              "    [theme=dark] .colab-df-convert {\n",
              "      background-color: #3B4455;\n",
              "      fill: #D2E3FC;\n",
              "    }\n",
              "\n",
              "    [theme=dark] .colab-df-convert:hover {\n",
              "      background-color: #434B5C;\n",
              "      box-shadow: 0px 1px 3px 1px rgba(0, 0, 0, 0.15);\n",
              "      filter: drop-shadow(0px 1px 2px rgba(0, 0, 0, 0.3));\n",
              "      fill: #FFFFFF;\n",
              "    }\n",
              "  </style>\n",
              "\n",
              "    <script>\n",
              "      const buttonEl =\n",
              "        document.querySelector('#df-1a723e08-7152-41fd-8db5-6142f9aabf2c button.colab-df-convert');\n",
              "      buttonEl.style.display =\n",
              "        google.colab.kernel.accessAllowed ? 'block' : 'none';\n",
              "\n",
              "      async function convertToInteractive(key) {\n",
              "        const element = document.querySelector('#df-1a723e08-7152-41fd-8db5-6142f9aabf2c');\n",
              "        const dataTable =\n",
              "          await google.colab.kernel.invokeFunction('convertToInteractive',\n",
              "                                                    [key], {});\n",
              "        if (!dataTable) return;\n",
              "\n",
              "        const docLinkHtml = 'Like what you see? Visit the ' +\n",
              "          '<a target=\"_blank\" href=https://colab.research.google.com/notebooks/data_table.ipynb>data table notebook</a>'\n",
              "          + ' to learn more about interactive tables.';\n",
              "        element.innerHTML = '';\n",
              "        dataTable['output_type'] = 'display_data';\n",
              "        await google.colab.output.renderOutput(dataTable, element);\n",
              "        const docLink = document.createElement('div');\n",
              "        docLink.innerHTML = docLinkHtml;\n",
              "        element.appendChild(docLink);\n",
              "      }\n",
              "    </script>\n",
              "  </div>\n",
              "\n",
              "\n",
              "<div id=\"df-40903a05-1684-4228-9690-f8f2a0517974\">\n",
              "  <button class=\"colab-df-quickchart\" onclick=\"quickchart('df-40903a05-1684-4228-9690-f8f2a0517974')\"\n",
              "            title=\"Suggest charts\"\n",
              "            style=\"display:none;\">\n",
              "\n",
              "<svg xmlns=\"http://www.w3.org/2000/svg\" height=\"24px\"viewBox=\"0 0 24 24\"\n",
              "     width=\"24px\">\n",
              "    <g>\n",
              "        <path d=\"M19 3H5c-1.1 0-2 .9-2 2v14c0 1.1.9 2 2 2h14c1.1 0 2-.9 2-2V5c0-1.1-.9-2-2-2zM9 17H7v-7h2v7zm4 0h-2V7h2v10zm4 0h-2v-4h2v4z\"/>\n",
              "    </g>\n",
              "</svg>\n",
              "  </button>\n",
              "\n",
              "<style>\n",
              "  .colab-df-quickchart {\n",
              "      --bg-color: #E8F0FE;\n",
              "      --fill-color: #1967D2;\n",
              "      --hover-bg-color: #E2EBFA;\n",
              "      --hover-fill-color: #174EA6;\n",
              "      --disabled-fill-color: #AAA;\n",
              "      --disabled-bg-color: #DDD;\n",
              "  }\n",
              "\n",
              "  [theme=dark] .colab-df-quickchart {\n",
              "      --bg-color: #3B4455;\n",
              "      --fill-color: #D2E3FC;\n",
              "      --hover-bg-color: #434B5C;\n",
              "      --hover-fill-color: #FFFFFF;\n",
              "      --disabled-bg-color: #3B4455;\n",
              "      --disabled-fill-color: #666;\n",
              "  }\n",
              "\n",
              "  .colab-df-quickchart {\n",
              "    background-color: var(--bg-color);\n",
              "    border: none;\n",
              "    border-radius: 50%;\n",
              "    cursor: pointer;\n",
              "    display: none;\n",
              "    fill: var(--fill-color);\n",
              "    height: 32px;\n",
              "    padding: 0;\n",
              "    width: 32px;\n",
              "  }\n",
              "\n",
              "  .colab-df-quickchart:hover {\n",
              "    background-color: var(--hover-bg-color);\n",
              "    box-shadow: 0 1px 2px rgba(60, 64, 67, 0.3), 0 1px 3px 1px rgba(60, 64, 67, 0.15);\n",
              "    fill: var(--button-hover-fill-color);\n",
              "  }\n",
              "\n",
              "  .colab-df-quickchart-complete:disabled,\n",
              "  .colab-df-quickchart-complete:disabled:hover {\n",
              "    background-color: var(--disabled-bg-color);\n",
              "    fill: var(--disabled-fill-color);\n",
              "    box-shadow: none;\n",
              "  }\n",
              "\n",
              "  .colab-df-spinner {\n",
              "    border: 2px solid var(--fill-color);\n",
              "    border-color: transparent;\n",
              "    border-bottom-color: var(--fill-color);\n",
              "    animation:\n",
              "      spin 1s steps(1) infinite;\n",
              "  }\n",
              "\n",
              "  @keyframes spin {\n",
              "    0% {\n",
              "      border-color: transparent;\n",
              "      border-bottom-color: var(--fill-color);\n",
              "      border-left-color: var(--fill-color);\n",
              "    }\n",
              "    20% {\n",
              "      border-color: transparent;\n",
              "      border-left-color: var(--fill-color);\n",
              "      border-top-color: var(--fill-color);\n",
              "    }\n",
              "    30% {\n",
              "      border-color: transparent;\n",
              "      border-left-color: var(--fill-color);\n",
              "      border-top-color: var(--fill-color);\n",
              "      border-right-color: var(--fill-color);\n",
              "    }\n",
              "    40% {\n",
              "      border-color: transparent;\n",
              "      border-right-color: var(--fill-color);\n",
              "      border-top-color: var(--fill-color);\n",
              "    }\n",
              "    60% {\n",
              "      border-color: transparent;\n",
              "      border-right-color: var(--fill-color);\n",
              "    }\n",
              "    80% {\n",
              "      border-color: transparent;\n",
              "      border-right-color: var(--fill-color);\n",
              "      border-bottom-color: var(--fill-color);\n",
              "    }\n",
              "    90% {\n",
              "      border-color: transparent;\n",
              "      border-bottom-color: var(--fill-color);\n",
              "    }\n",
              "  }\n",
              "</style>\n",
              "\n",
              "  <script>\n",
              "    async function quickchart(key) {\n",
              "      const quickchartButtonEl =\n",
              "        document.querySelector('#' + key + ' button');\n",
              "      quickchartButtonEl.disabled = true;  // To prevent multiple clicks.\n",
              "      quickchartButtonEl.classList.add('colab-df-spinner');\n",
              "      try {\n",
              "        const charts = await google.colab.kernel.invokeFunction(\n",
              "            'suggestCharts', [key], {});\n",
              "      } catch (error) {\n",
              "        console.error('Error during call to suggestCharts:', error);\n",
              "      }\n",
              "      quickchartButtonEl.classList.remove('colab-df-spinner');\n",
              "      quickchartButtonEl.classList.add('colab-df-quickchart-complete');\n",
              "    }\n",
              "    (() => {\n",
              "      let quickchartButtonEl =\n",
              "        document.querySelector('#df-40903a05-1684-4228-9690-f8f2a0517974 button');\n",
              "      quickchartButtonEl.style.display =\n",
              "        google.colab.kernel.accessAllowed ? 'block' : 'none';\n",
              "    })();\n",
              "  </script>\n",
              "</div>\n",
              "    </div>\n",
              "  </div>\n"
            ],
            "application/vnd.google.colaboratory.intrinsic+json": {
              "type": "dataframe",
              "variable_name": "conversion",
              "summary": "{\n  \"name\": \"conversion\",\n  \"rows\": 2,\n  \"fields\": [\n    {\n      \"column\": \"group\",\n      \"properties\": {\n        \"dtype\": \"category\",\n        \"num_unique_values\": 2,\n        \"samples\": [\n          \"test\",\n          \"control\"\n        ],\n        \"semantic_type\": \"\",\n        \"description\": \"\"\n      }\n    },\n    {\n      \"column\": \"count\",\n      \"properties\": {\n        \"dtype\": \"number\",\n        \"std\": 28,\n        \"min\": 2575,\n        \"max\": 2616,\n        \"num_unique_values\": 2,\n        \"samples\": [\n          2616,\n          2575\n        ],\n        \"semantic_type\": \"\",\n        \"description\": \"\"\n      }\n    },\n    {\n      \"column\": \"sum\",\n      \"properties\": {\n        \"dtype\": \"number\",\n        \"std\": 63,\n        \"min\": 1312,\n        \"max\": 1402,\n        \"num_unique_values\": 2,\n        \"samples\": [\n          1402,\n          1312\n        ],\n        \"semantic_type\": \"\",\n        \"description\": \"\"\n      }\n    }\n  ]\n}"
            }
          },
          "metadata": {},
          "execution_count": 21
        }
      ],
      "source": [
        "conversion = df.groupby('group')['flag_success'].agg(['count', 'sum'])\n",
        "conversion"
      ]
    },
    {
      "cell_type": "code",
      "execution_count": null,
      "metadata": {
        "colab": {
          "base_uri": "https://localhost:8080/"
        },
        "id": "s2a79g-jCeez",
        "outputId": "7c6f14d3-577f-49b7-ea99-9b65f52149f1"
      },
      "outputs": [
        {
          "output_type": "execute_result",
          "data": {
            "text/plain": [
              "group\n",
              "control    0.509515\n",
              "test       0.535933\n",
              "dtype: float64"
            ]
          },
          "metadata": {},
          "execution_count": 22
        }
      ],
      "source": [
        "conv_rate = conversion['sum'] / conversion['count']\n",
        "conv_rate"
      ]
    },
    {
      "cell_type": "markdown",
      "metadata": {
        "id": "sWU6gYC6C5EN"
      },
      "source": [
        "<font color='darkcyan'>*В какой группе конверсия выше?*</font>\n",
        "\n",
        "\n",
        "Конверсия чуть выше в тестовой группе.\n"
      ]
    },
    {
      "cell_type": "markdown",
      "metadata": {
        "id": "XXvXoxaZD1IW"
      },
      "source": [
        "###*4. Проверка разницы между конверсиями на калькуляторе Эвана Миллера*\n",
        "\n"
      ]
    },
    {
      "cell_type": "code",
      "execution_count": null,
      "metadata": {
        "colab": {
          "base_uri": "https://localhost:8080/"
        },
        "id": "4WNM-huTFCfQ",
        "outputId": "e70bdef3-9631-4a4a-84ba-5f7769ad0ee0"
      },
      "outputs": [
        {
          "output_type": "stream",
          "name": "stdout",
          "text": [
            "Drive already mounted at /content/drive; to attempt to forcibly remount, call drive.mount(\"/content/drive\", force_remount=True).\n"
          ]
        }
      ],
      "source": [
        "from google.colab import drive\n",
        "from PIL import Image\n",
        "\n",
        "drive.mount('/content/drive')"
      ]
    },
    {
      "cell_type": "code",
      "execution_count": null,
      "metadata": {
        "colab": {
          "base_uri": "https://localhost:8080/",
          "height": 310
        },
        "id": "I7NHpEW0FKCX",
        "outputId": "c9c76279-dd06-4d48-c1a2-cec0fd5d68a9"
      },
      "outputs": [
        {
          "output_type": "display_data",
          "data": {
            "text/plain": [
              "<Figure size 640x480 with 1 Axes>"
            ],
            "image/png": "[encoded data removed]"
          },
          "metadata": {}
        }
      ],
      "source": [
        "# на уровне значимости 0.05\n",
        "image_path = '/content/drive/My Drive/Colab Notebooks/a_b_hw1_chi-sqrd test 0.05.bmp'\n",
        "\n",
        "img = Image.open(image_path)\n",
        "plt.imshow(img)\n",
        "plt.axis('off')  # убирает оси координат\n",
        "plt.show()"
      ]
    },
    {
      "cell_type": "code",
      "execution_count": null,
      "metadata": {
        "colab": {
          "base_uri": "https://localhost:8080/",
          "height": 289
        },
        "id": "qE2m4jh0JI33",
        "outputId": "2db4854f-0b60-4a32-89fe-761b37568b7a"
      },
      "outputs": [
        {
          "output_type": "display_data",
          "data": {
            "text/plain": [
              "<Figure size 640x480 with 1 Axes>"
            ],
            "image/png": "[encoded data removed]"
          },
          "metadata": {}
        }
      ],
      "source": [
        "# на уровне значимости 0.1\n",
        "image_path = '/content/drive/My Drive/Colab Notebooks/a_b_hw1_chi-sqrd test 0.1.bmp'\n",
        "\n",
        "img = Image.open(image_path)\n",
        "plt.imshow(img)\n",
        "plt.axis('off')  # убирает оси координат\n",
        "plt.show()"
      ]
    },
    {
      "cell_type": "markdown",
      "source": [
        "<font color='darkcyan'>Вывод:</font>\n",
        "\n",
        "На уровне значимости 0.05 статистически значимая разница не выявлена, тогда как на уровне значимости 0.1 результат статистически значим - конверсия в тестовой группе выше, чем в контрольной."
      ],
      "metadata": {
        "id": "363Qlr88RIyQ"
      }
    },
    {
      "cell_type": "markdown",
      "source": [
        "###*5. Проведение z-теста*"
      ],
      "metadata": {
        "id": "lclhxlywRQVO"
      }
    },
    {
      "cell_type": "code",
      "source": [
        "import statsmodels.api as sm"
      ],
      "metadata": {
        "id": "644YPtnySOKp"
      },
      "execution_count": null,
      "outputs": []
    },
    {
      "cell_type": "code",
      "source": [
        "trials_a = df[df['group'] == 'control']['flag_success'].count()\n",
        "successes_a = df[(df['group'] == 'control') & (df['flag_success'] == 1)].shape[0]\n",
        "\n",
        "trials_b = df[df['group'] == 'test']['flag_success'].count()\n",
        "successes_b = df[(df['group'] == 'test') & (df['flag_success'] == 1)].shape[0]"
      ],
      "metadata": {
        "id": "guIN98bfSazM"
      },
      "execution_count": null,
      "outputs": []
    },
    {
      "cell_type": "code",
      "source": [
        "# данные в переменных\n",
        "print(f'{trials_a}, {successes_a}, {trials_b}, {successes_b}')"
      ],
      "metadata": {
        "colab": {
          "base_uri": "https://localhost:8080/"
        },
        "id": "kApEMdhoUG7T",
        "outputId": "801637dc-cdd3-4033-cc81-160f25399b30"
      },
      "execution_count": null,
      "outputs": [
        {
          "output_type": "stream",
          "name": "stdout",
          "text": [
            "2575, 1312, 2616, 1402\n"
          ]
        }
      ]
    },
    {
      "cell_type": "code",
      "source": [
        "z_score, p_value = sm.stats.proportions_ztest([successes_a, successes_b], [trials_a, trials_b])\n",
        "\n",
        "print(f'Z-score: {z_score}\\nP-value: {p_value:.3f}')"
      ],
      "metadata": {
        "colab": {
          "base_uri": "https://localhost:8080/"
        },
        "id": "9q7zuKfJSozX",
        "outputId": "51c0864c-f020-42ee-fe2b-073e1bfbcb6d"
      },
      "execution_count": null,
      "outputs": [
        {
          "output_type": "stream",
          "name": "stdout",
          "text": [
            "Z-score: -1.9053186530077104\n",
            "P-value: 0.057\n"
          ]
        }
      ]
    },
    {
      "cell_type": "markdown",
      "source": [
        "<font color='darkcyan'>Вывод:</font>\n",
        "\n",
        "P-value совпал со значением из калькулятора, с 95%-ной вероятностью z-тест не был завален кривым кодом =)"
      ],
      "metadata": {
        "id": "LyVu14szFCnF"
      }
    }
  ],
  "metadata": {
    "colab": {
      "provenance": [],
      "include_colab_link": true
    },
    "kernelspec": {
      "display_name": "Python 3",
      "name": "python3"
    },
    "language_info": {
      "name": "python"
    }
  },
  "nbformat": 4,
  "nbformat_minor": 0
}