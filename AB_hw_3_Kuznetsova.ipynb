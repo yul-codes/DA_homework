{
  "nbformat": 4,
  "nbformat_minor": 0,
  "metadata": {
    "colab": {
      "provenance": [],
      "authorship_tag": "ABX9TyMwHivBnrqN9vJLP1/Pn7Os",
      "include_colab_link": true
    },
    "kernelspec": {
      "name": "python3",
      "display_name": "Python 3"
    },
    "language_info": {
      "name": "python"
    }
  },
  "cells": [
    {
      "cell_type": "markdown",
      "metadata": {
        "id": "view-in-github",
        "colab_type": "text"
      },
      "source": [
        "<a href=\"https://colab.research.google.com/github/yul-codes/DA_homework/blob/main/AB_hw3_Kuznetsova.ipynb\" target=\"_parent\"><img src=\"https://colab.research.google.com/assets/colab-badge.svg\" alt=\"Open In Colab\"/></a>"
      ]
    },
    {
      "cell_type": "markdown",
      "source": [
        "##<font color='purple'>*Задание*</font>"
      ],
      "metadata": {
        "id": "JaBsw4jFb8yp"
      }
    },
    {
      "cell_type": "markdown",
      "source": [
        "- Подключитесь к данным через python.\n",
        "\n",
        "- Посмотрите, что это за данные.\n",
        "\n",
        "- Постройте гистограмму для каждого кейса.\n",
        "\n",
        "- Предложите метрику, за которой вы могли бы следить в каждом случае.\n",
        "\n",
        "- К какому дата сету вы бы могли применить t-тест? Сделайте проверку на python аналогично тому, что делали в классе.\n",
        "\n",
        "- К какому дата сету вы бы применили z-test? Почему?\n",
        "\n",
        "- К какому вы бы не стали применять t-test и z-test? Объясните почему и покажите это. Что тогда лучше использовать для таких данных?\n",
        "\n",
        "Домашнее задание присылайте ввиде питоновского файла.\n",
        "\n"
      ],
      "metadata": {
        "id": "ARnnmARXcETs"
      }
    },
    {
      "cell_type": "markdown",
      "source": [
        "##<font color='purple'>*Решение*</font>"
      ],
      "metadata": {
        "id": "IRQw341ccStR"
      }
    },
    {
      "cell_type": "markdown",
      "source": [
        "###<font color='purple'>*Подключение к данным и их обзор*</font>"
      ],
      "metadata": {
        "id": "pyMTR3yvn-Ob"
      }
    },
    {
      "cell_type": "code",
      "execution_count": null,
      "metadata": {
        "id": "EleEdIg9biqo"
      },
      "outputs": [],
      "source": [
        "import pandas as pd\n",
        "import numpy as np\n",
        "import matplotlib.pyplot as plt\n",
        "import seaborn as sns\n",
        "import plotly.graph_objects as go\n",
        "from plotly.subplots import make_subplots\n",
        "import re"
      ]
    },
    {
      "cell_type": "code",
      "source": [
        "# аутентификация в google colab\n",
        "from google.colab import auth\n",
        "auth.authenticate_user()\n",
        "\n",
        "# получение login data и авторизация в gspread для получения доступа к файлам на гугл диске\n",
        "import gspread\n",
        "from google.auth import default\n",
        "creds, _ = default()\n",
        "\n",
        "gc = gspread.authorize(creds)"
      ],
      "metadata": {
        "id": "vrPR0C4UcgiM"
      },
      "execution_count": null,
      "outputs": []
    },
    {
      "cell_type": "code",
      "source": [
        "# создание pandas dataframes из гугл-таблицы\n",
        "url = 'https://docs.google.com/spreadsheets/d/1SX8irgV3d4p9TXEoFm2TjbuBnQDudeYbwa6yestH-E8/edit?usp=sharing'\n",
        "\n",
        "tab_1 = gc.open_by_url(url).worksheet('1').get_all_values()\n",
        "tab_2 = gc.open_by_url(url).worksheet('2').get_all_values()\n",
        "tab_3 = gc.open_by_url(url).worksheet('3').get_all_values()\n",
        "\n",
        "\n",
        "df_1 = pd.DataFrame(tab_1[1:], columns=tab_1[0])\n",
        "df_2 = pd.DataFrame(tab_2[1:], columns=tab_2[0])\n",
        "df_3 = pd.DataFrame(tab_3[1:], columns=tab_3[0])"
      ],
      "metadata": {
        "id": "d8qmT-MVdpdm"
      },
      "execution_count": null,
      "outputs": []
    },
    {
      "cell_type": "markdown",
      "source": [
        "<font color='teal'>**Рассмотрим структуру первого датафрейма и тип данных столбцов**</font>"
      ],
      "metadata": {
        "id": "NNAZdjg0riHN"
      }
    },
    {
      "cell_type": "code",
      "source": [
        "df_1"
      ],
      "metadata": {
        "colab": {
          "base_uri": "https://localhost:8080/",
          "height": 423
        },
        "id": "1n49MddxhSec",
        "outputId": "90e8bdf0-66bf-4a9d-8c1d-7a14eda80f0c"
      },
      "execution_count": null,
      "outputs": [
        {
          "output_type": "execute_result",
          "data": {
            "text/plain": [
              "     user_id   CREDIT\n",
              "0       1483  125 000\n",
              "1       1471  100 000\n",
              "2       1257   75 000\n",
              "3       1485  100 000\n",
              "4       1418  150 000\n",
              "...      ...      ...\n",
              "1655    1015   25 000\n",
              "1656    1311  150 000\n",
              "1657    1106   50 000\n",
              "1658    1027  100 000\n",
              "1659    1357  125 000\n",
              "\n",
              "[1660 rows x 2 columns]"
            ],
            "text/html": [
              "\n",
              "  <div id=\"df-00f46ba8-7092-481e-8345-7354a004f766\" class=\"colab-df-container\">\n",
              "    <div>\n",
              "<style scoped>\n",
              "    .dataframe tbody tr th:only-of-type {\n",
              "        vertical-align: middle;\n",
              "    }\n",
              "\n",
              "    .dataframe tbody tr th {\n",
              "        vertical-align: top;\n",
              "    }\n",
              "\n",
              "    .dataframe thead th {\n",
              "        text-align: right;\n",
              "    }\n",
              "</style>\n",
              "<table border=\"1\" class=\"dataframe\">\n",
              "  <thead>\n",
              "    <tr style=\"text-align: right;\">\n",
              "      <th></th>\n",
              "      <th>user_id</th>\n",
              "      <th>CREDIT</th>\n",
              "    </tr>\n",
              "  </thead>\n",
              "  <tbody>\n",
              "    <tr>\n",
              "      <th>0</th>\n",
              "      <td>1483</td>\n",
              "      <td>125 000</td>\n",
              "    </tr>\n",
              "    <tr>\n",
              "      <th>1</th>\n",
              "      <td>1471</td>\n",
              "      <td>100 000</td>\n",
              "    </tr>\n",
              "    <tr>\n",
              "      <th>2</th>\n",
              "      <td>1257</td>\n",
              "      <td>75 000</td>\n",
              "    </tr>\n",
              "    <tr>\n",
              "      <th>3</th>\n",
              "      <td>1485</td>\n",
              "      <td>100 000</td>\n",
              "    </tr>\n",
              "    <tr>\n",
              "      <th>4</th>\n",
              "      <td>1418</td>\n",
              "      <td>150 000</td>\n",
              "    </tr>\n",
              "    <tr>\n",
              "      <th>...</th>\n",
              "      <td>...</td>\n",
              "      <td>...</td>\n",
              "    </tr>\n",
              "    <tr>\n",
              "      <th>1655</th>\n",
              "      <td>1015</td>\n",
              "      <td>25 000</td>\n",
              "    </tr>\n",
              "    <tr>\n",
              "      <th>1656</th>\n",
              "      <td>1311</td>\n",
              "      <td>150 000</td>\n",
              "    </tr>\n",
              "    <tr>\n",
              "      <th>1657</th>\n",
              "      <td>1106</td>\n",
              "      <td>50 000</td>\n",
              "    </tr>\n",
              "    <tr>\n",
              "      <th>1658</th>\n",
              "      <td>1027</td>\n",
              "      <td>100 000</td>\n",
              "    </tr>\n",
              "    <tr>\n",
              "      <th>1659</th>\n",
              "      <td>1357</td>\n",
              "      <td>125 000</td>\n",
              "    </tr>\n",
              "  </tbody>\n",
              "</table>\n",
              "<p>1660 rows × 2 columns</p>\n",
              "</div>\n",
              "    <div class=\"colab-df-buttons\">\n",
              "\n",
              "  <div class=\"colab-df-container\">\n",
              "    <button class=\"colab-df-convert\" onclick=\"convertToInteractive('df-00f46ba8-7092-481e-8345-7354a004f766')\"\n",
              "            title=\"Convert this dataframe to an interactive table.\"\n",
              "            style=\"display:none;\">\n",
              "\n",
              "  <svg xmlns=\"http://www.w3.org/2000/svg\" height=\"24px\" viewBox=\"0 -960 960 960\">\n",
              "    <path d=\"M120-120v-720h720v720H120Zm60-500h600v-160H180v160Zm220 220h160v-160H400v160Zm0 220h160v-160H400v160ZM180-400h160v-160H180v160Zm440 0h160v-160H620v160ZM180-180h160v-160H180v160Zm440 0h160v-160H620v160Z\"/>\n",
              "  </svg>\n",
              "    </button>\n",
              "\n",
              "  <style>\n",
              "    .colab-df-container {\n",
              "      display:flex;\n",
              "      gap: 12px;\n",
              "    }\n",
              "\n",
              "    .colab-df-convert {\n",
              "      background-color: #E8F0FE;\n",
              "      border: none;\n",
              "      border-radius: 50%;\n",
              "      cursor: pointer;\n",
              "      display: none;\n",
              "      fill: #1967D2;\n",
              "      height: 32px;\n",
              "      padding: 0 0 0 0;\n",
              "      width: 32px;\n",
              "    }\n",
              "\n",
              "    .colab-df-convert:hover {\n",
              "      background-color: #E2EBFA;\n",
              "      box-shadow: 0px 1px 2px rgba(60, 64, 67, 0.3), 0px 1px 3px 1px rgba(60, 64, 67, 0.15);\n",
              "      fill: #174EA6;\n",
              "    }\n",
              "\n",
              "    .colab-df-buttons div {\n",
              "      margin-bottom: 4px;\n",
              "    }\n",
              "\n",
              "    [theme=dark] .colab-df-convert {\n",
              "      background-color: #3B4455;\n",
              "      fill: #D2E3FC;\n",
              "    }\n",
              "\n",
              "    [theme=dark] .colab-df-convert:hover {\n",
              "      background-color: #434B5C;\n",
              "      box-shadow: 0px 1px 3px 1px rgba(0, 0, 0, 0.15);\n",
              "      filter: drop-shadow(0px 1px 2px rgba(0, 0, 0, 0.3));\n",
              "      fill: #FFFFFF;\n",
              "    }\n",
              "  </style>\n",
              "\n",
              "    <script>\n",
              "      const buttonEl =\n",
              "        document.querySelector('#df-00f46ba8-7092-481e-8345-7354a004f766 button.colab-df-convert');\n",
              "      buttonEl.style.display =\n",
              "        google.colab.kernel.accessAllowed ? 'block' : 'none';\n",
              "\n",
              "      async function convertToInteractive(key) {\n",
              "        const element = document.querySelector('#df-00f46ba8-7092-481e-8345-7354a004f766');\n",
              "        const dataTable =\n",
              "          await google.colab.kernel.invokeFunction('convertToInteractive',\n",
              "                                                    [key], {});\n",
              "        if (!dataTable) return;\n",
              "\n",
              "        const docLinkHtml = 'Like what you see? Visit the ' +\n",
              "          '<a target=\"_blank\" href=https://colab.research.google.com/notebooks/data_table.ipynb>data table notebook</a>'\n",
              "          + ' to learn more about interactive tables.';\n",
              "        element.innerHTML = '';\n",
              "        dataTable['output_type'] = 'display_data';\n",
              "        await google.colab.output.renderOutput(dataTable, element);\n",
              "        const docLink = document.createElement('div');\n",
              "        docLink.innerHTML = docLinkHtml;\n",
              "        element.appendChild(docLink);\n",
              "      }\n",
              "    </script>\n",
              "  </div>\n",
              "\n",
              "\n",
              "<div id=\"df-b1e4adc2-ef1c-44e6-ad20-7e0e071a133a\">\n",
              "  <button class=\"colab-df-quickchart\" onclick=\"quickchart('df-b1e4adc2-ef1c-44e6-ad20-7e0e071a133a')\"\n",
              "            title=\"Suggest charts\"\n",
              "            style=\"display:none;\">\n",
              "\n",
              "<svg xmlns=\"http://www.w3.org/2000/svg\" height=\"24px\"viewBox=\"0 0 24 24\"\n",
              "     width=\"24px\">\n",
              "    <g>\n",
              "        <path d=\"M19 3H5c-1.1 0-2 .9-2 2v14c0 1.1.9 2 2 2h14c1.1 0 2-.9 2-2V5c0-1.1-.9-2-2-2zM9 17H7v-7h2v7zm4 0h-2V7h2v10zm4 0h-2v-4h2v4z\"/>\n",
              "    </g>\n",
              "</svg>\n",
              "  </button>\n",
              "\n",
              "<style>\n",
              "  .colab-df-quickchart {\n",
              "      --bg-color: #E8F0FE;\n",
              "      --fill-color: #1967D2;\n",
              "      --hover-bg-color: #E2EBFA;\n",
              "      --hover-fill-color: #174EA6;\n",
              "      --disabled-fill-color: #AAA;\n",
              "      --disabled-bg-color: #DDD;\n",
              "  }\n",
              "\n",
              "  [theme=dark] .colab-df-quickchart {\n",
              "      --bg-color: #3B4455;\n",
              "      --fill-color: #D2E3FC;\n",
              "      --hover-bg-color: #434B5C;\n",
              "      --hover-fill-color: #FFFFFF;\n",
              "      --disabled-bg-color: #3B4455;\n",
              "      --disabled-fill-color: #666;\n",
              "  }\n",
              "\n",
              "  .colab-df-quickchart {\n",
              "    background-color: var(--bg-color);\n",
              "    border: none;\n",
              "    border-radius: 50%;\n",
              "    cursor: pointer;\n",
              "    display: none;\n",
              "    fill: var(--fill-color);\n",
              "    height: 32px;\n",
              "    padding: 0;\n",
              "    width: 32px;\n",
              "  }\n",
              "\n",
              "  .colab-df-quickchart:hover {\n",
              "    background-color: var(--hover-bg-color);\n",
              "    box-shadow: 0 1px 2px rgba(60, 64, 67, 0.3), 0 1px 3px 1px rgba(60, 64, 67, 0.15);\n",
              "    fill: var(--button-hover-fill-color);\n",
              "  }\n",
              "\n",
              "  .colab-df-quickchart-complete:disabled,\n",
              "  .colab-df-quickchart-complete:disabled:hover {\n",
              "    background-color: var(--disabled-bg-color);\n",
              "    fill: var(--disabled-fill-color);\n",
              "    box-shadow: none;\n",
              "  }\n",
              "\n",
              "  .colab-df-spinner {\n",
              "    border: 2px solid var(--fill-color);\n",
              "    border-color: transparent;\n",
              "    border-bottom-color: var(--fill-color);\n",
              "    animation:\n",
              "      spin 1s steps(1) infinite;\n",
              "  }\n",
              "\n",
              "  @keyframes spin {\n",
              "    0% {\n",
              "      border-color: transparent;\n",
              "      border-bottom-color: var(--fill-color);\n",
              "      border-left-color: var(--fill-color);\n",
              "    }\n",
              "    20% {\n",
              "      border-color: transparent;\n",
              "      border-left-color: var(--fill-color);\n",
              "      border-top-color: var(--fill-color);\n",
              "    }\n",
              "    30% {\n",
              "      border-color: transparent;\n",
              "      border-left-color: var(--fill-color);\n",
              "      border-top-color: var(--fill-color);\n",
              "      border-right-color: var(--fill-color);\n",
              "    }\n",
              "    40% {\n",
              "      border-color: transparent;\n",
              "      border-right-color: var(--fill-color);\n",
              "      border-top-color: var(--fill-color);\n",
              "    }\n",
              "    60% {\n",
              "      border-color: transparent;\n",
              "      border-right-color: var(--fill-color);\n",
              "    }\n",
              "    80% {\n",
              "      border-color: transparent;\n",
              "      border-right-color: var(--fill-color);\n",
              "      border-bottom-color: var(--fill-color);\n",
              "    }\n",
              "    90% {\n",
              "      border-color: transparent;\n",
              "      border-bottom-color: var(--fill-color);\n",
              "    }\n",
              "  }\n",
              "</style>\n",
              "\n",
              "  <script>\n",
              "    async function quickchart(key) {\n",
              "      const quickchartButtonEl =\n",
              "        document.querySelector('#' + key + ' button');\n",
              "      quickchartButtonEl.disabled = true;  // To prevent multiple clicks.\n",
              "      quickchartButtonEl.classList.add('colab-df-spinner');\n",
              "      try {\n",
              "        const charts = await google.colab.kernel.invokeFunction(\n",
              "            'suggestCharts', [key], {});\n",
              "      } catch (error) {\n",
              "        console.error('Error during call to suggestCharts:', error);\n",
              "      }\n",
              "      quickchartButtonEl.classList.remove('colab-df-spinner');\n",
              "      quickchartButtonEl.classList.add('colab-df-quickchart-complete');\n",
              "    }\n",
              "    (() => {\n",
              "      let quickchartButtonEl =\n",
              "        document.querySelector('#df-b1e4adc2-ef1c-44e6-ad20-7e0e071a133a button');\n",
              "      quickchartButtonEl.style.display =\n",
              "        google.colab.kernel.accessAllowed ? 'block' : 'none';\n",
              "    })();\n",
              "  </script>\n",
              "</div>\n",
              "    </div>\n",
              "  </div>\n"
            ],
            "application/vnd.google.colaboratory.intrinsic+json": {
              "type": "dataframe",
              "variable_name": "df_1",
              "summary": "{\n  \"name\": \"df_1\",\n  \"rows\": 1660,\n  \"fields\": [\n    {\n      \"column\": \"user_id\",\n      \"properties\": {\n        \"dtype\": \"category\",\n        \"num_unique_values\": 484,\n        \"samples\": [\n          \"1458\",\n          \"1174\",\n          \"1100\"\n        ],\n        \"semantic_type\": \"\",\n        \"description\": \"\"\n      }\n    },\n    {\n      \"column\": \"CREDIT\",\n      \"properties\": {\n        \"dtype\": \"category\",\n        \"num_unique_values\": 7,\n        \"samples\": [\n          \"125\\u00a0000\",\n          \"100\\u00a0000\",\n          \"175\\u00a0000\"\n        ],\n        \"semantic_type\": \"\",\n        \"description\": \"\"\n      }\n    }\n  ]\n}"
            }
          },
          "metadata": {},
          "execution_count": 4
        }
      ]
    },
    {
      "cell_type": "code",
      "source": [
        "df_1.info()"
      ],
      "metadata": {
        "colab": {
          "base_uri": "https://localhost:8080/"
        },
        "id": "_PW_Bo9ohgbn",
        "outputId": "c5a6c4b3-3ff9-4798-d3c2-ad62279c0b9e"
      },
      "execution_count": null,
      "outputs": [
        {
          "output_type": "stream",
          "name": "stdout",
          "text": [
            "<class 'pandas.core.frame.DataFrame'>\n",
            "RangeIndex: 1660 entries, 0 to 1659\n",
            "Data columns (total 2 columns):\n",
            " #   Column   Non-Null Count  Dtype \n",
            "---  ------   --------------  ----- \n",
            " 0   user_id  1660 non-null   object\n",
            " 1   CREDIT   1660 non-null   object\n",
            "dtypes: object(2)\n",
            "memory usage: 26.1+ KB\n"
          ]
        }
      ]
    },
    {
      "cell_type": "markdown",
      "source": [
        "<font color='teal'>Датасет предположительно представляет собой набор данных о сумме кредитов, выданных пользователям.\n",
        "\n",
        "Конвертируем данные. Идентификаторы ползователя представляют собой количественный дискретный тип данных, преобразуем в целые числа. Несмотря на то, что судя по выгрузке суммы кредитов указаны как целые числа, концептуально они относятся к количественному непрерывному типу данных. Удалим пробелы и преобразуем во float.</font>\n",
        "\n",
        "***\n",
        "<font color='teal'>Встретилась такая ошибка:</font>\n",
        "\n",
        "     ValueError: could not convert string to float: '125\\xa0000'\n",
        "\n",
        "<font color='teal'>\\xa0 - неразрывный пробел, добавляем его в код для его корректной работы.</font>"
      ],
      "metadata": {
        "id": "KKmhUfQEo6yF"
      }
    },
    {
      "cell_type": "code",
      "source": [
        "df_1['user_id'] = df_1['user_id'].astype(int)\n",
        "df_1['CREDIT'] = df_1['CREDIT'].apply(lambda x: re.sub(r'[\\s\\xa0]', '', x)).astype(float)"
      ],
      "metadata": {
        "id": "kvEI2CXGoOEl"
      },
      "execution_count": null,
      "outputs": []
    },
    {
      "cell_type": "markdown",
      "source": [
        "<font color='teal'>**Рассмотрим второй датасет**</font>"
      ],
      "metadata": {
        "id": "SKJR3gFjsjT1"
      }
    },
    {
      "cell_type": "code",
      "source": [
        "df_2"
      ],
      "metadata": {
        "colab": {
          "base_uri": "https://localhost:8080/",
          "height": 423
        },
        "id": "n3hJj7iBhVDJ",
        "outputId": "ba927af3-8b86-4c7d-d3f1-45c158c15349"
      },
      "execution_count": null,
      "outputs": [
        {
          "output_type": "execute_result",
          "data": {
            "text/plain": [
              "         № amount\n",
              "0        1    150\n",
              "1        2    220\n",
              "2        3    150\n",
              "3        4    220\n",
              "4        5    150\n",
              "...    ...    ...\n",
              "1036  1037  12000\n",
              "1037  1038    180\n",
              "1038  1039    180\n",
              "1039  1040    220\n",
              "1040  1041  1 620\n",
              "\n",
              "[1041 rows x 2 columns]"
            ],
            "text/html": [
              "\n",
              "  <div id=\"df-06e8392b-3f9a-4c14-8d73-903a5aabeae0\" class=\"colab-df-container\">\n",
              "    <div>\n",
              "<style scoped>\n",
              "    .dataframe tbody tr th:only-of-type {\n",
              "        vertical-align: middle;\n",
              "    }\n",
              "\n",
              "    .dataframe tbody tr th {\n",
              "        vertical-align: top;\n",
              "    }\n",
              "\n",
              "    .dataframe thead th {\n",
              "        text-align: right;\n",
              "    }\n",
              "</style>\n",
              "<table border=\"1\" class=\"dataframe\">\n",
              "  <thead>\n",
              "    <tr style=\"text-align: right;\">\n",
              "      <th></th>\n",
              "      <th>№</th>\n",
              "      <th>amount</th>\n",
              "    </tr>\n",
              "  </thead>\n",
              "  <tbody>\n",
              "    <tr>\n",
              "      <th>0</th>\n",
              "      <td>1</td>\n",
              "      <td>150</td>\n",
              "    </tr>\n",
              "    <tr>\n",
              "      <th>1</th>\n",
              "      <td>2</td>\n",
              "      <td>220</td>\n",
              "    </tr>\n",
              "    <tr>\n",
              "      <th>2</th>\n",
              "      <td>3</td>\n",
              "      <td>150</td>\n",
              "    </tr>\n",
              "    <tr>\n",
              "      <th>3</th>\n",
              "      <td>4</td>\n",
              "      <td>220</td>\n",
              "    </tr>\n",
              "    <tr>\n",
              "      <th>4</th>\n",
              "      <td>5</td>\n",
              "      <td>150</td>\n",
              "    </tr>\n",
              "    <tr>\n",
              "      <th>...</th>\n",
              "      <td>...</td>\n",
              "      <td>...</td>\n",
              "    </tr>\n",
              "    <tr>\n",
              "      <th>1036</th>\n",
              "      <td>1037</td>\n",
              "      <td>12000</td>\n",
              "    </tr>\n",
              "    <tr>\n",
              "      <th>1037</th>\n",
              "      <td>1038</td>\n",
              "      <td>180</td>\n",
              "    </tr>\n",
              "    <tr>\n",
              "      <th>1038</th>\n",
              "      <td>1039</td>\n",
              "      <td>180</td>\n",
              "    </tr>\n",
              "    <tr>\n",
              "      <th>1039</th>\n",
              "      <td>1040</td>\n",
              "      <td>220</td>\n",
              "    </tr>\n",
              "    <tr>\n",
              "      <th>1040</th>\n",
              "      <td>1041</td>\n",
              "      <td>1 620</td>\n",
              "    </tr>\n",
              "  </tbody>\n",
              "</table>\n",
              "<p>1041 rows × 2 columns</p>\n",
              "</div>\n",
              "    <div class=\"colab-df-buttons\">\n",
              "\n",
              "  <div class=\"colab-df-container\">\n",
              "    <button class=\"colab-df-convert\" onclick=\"convertToInteractive('df-06e8392b-3f9a-4c14-8d73-903a5aabeae0')\"\n",
              "            title=\"Convert this dataframe to an interactive table.\"\n",
              "            style=\"display:none;\">\n",
              "\n",
              "  <svg xmlns=\"http://www.w3.org/2000/svg\" height=\"24px\" viewBox=\"0 -960 960 960\">\n",
              "    <path d=\"M120-120v-720h720v720H120Zm60-500h600v-160H180v160Zm220 220h160v-160H400v160Zm0 220h160v-160H400v160ZM180-400h160v-160H180v160Zm440 0h160v-160H620v160ZM180-180h160v-160H180v160Zm440 0h160v-160H620v160Z\"/>\n",
              "  </svg>\n",
              "    </button>\n",
              "\n",
              "  <style>\n",
              "    .colab-df-container {\n",
              "      display:flex;\n",
              "      gap: 12px;\n",
              "    }\n",
              "\n",
              "    .colab-df-convert {\n",
              "      background-color: #E8F0FE;\n",
              "      border: none;\n",
              "      border-radius: 50%;\n",
              "      cursor: pointer;\n",
              "      display: none;\n",
              "      fill: #1967D2;\n",
              "      height: 32px;\n",
              "      padding: 0 0 0 0;\n",
              "      width: 32px;\n",
              "    }\n",
              "\n",
              "    .colab-df-convert:hover {\n",
              "      background-color: #E2EBFA;\n",
              "      box-shadow: 0px 1px 2px rgba(60, 64, 67, 0.3), 0px 1px 3px 1px rgba(60, 64, 67, 0.15);\n",
              "      fill: #174EA6;\n",
              "    }\n",
              "\n",
              "    .colab-df-buttons div {\n",
              "      margin-bottom: 4px;\n",
              "    }\n",
              "\n",
              "    [theme=dark] .colab-df-convert {\n",
              "      background-color: #3B4455;\n",
              "      fill: #D2E3FC;\n",
              "    }\n",
              "\n",
              "    [theme=dark] .colab-df-convert:hover {\n",
              "      background-color: #434B5C;\n",
              "      box-shadow: 0px 1px 3px 1px rgba(0, 0, 0, 0.15);\n",
              "      filter: drop-shadow(0px 1px 2px rgba(0, 0, 0, 0.3));\n",
              "      fill: #FFFFFF;\n",
              "    }\n",
              "  </style>\n",
              "\n",
              "    <script>\n",
              "      const buttonEl =\n",
              "        document.querySelector('#df-06e8392b-3f9a-4c14-8d73-903a5aabeae0 button.colab-df-convert');\n",
              "      buttonEl.style.display =\n",
              "        google.colab.kernel.accessAllowed ? 'block' : 'none';\n",
              "\n",
              "      async function convertToInteractive(key) {\n",
              "        const element = document.querySelector('#df-06e8392b-3f9a-4c14-8d73-903a5aabeae0');\n",
              "        const dataTable =\n",
              "          await google.colab.kernel.invokeFunction('convertToInteractive',\n",
              "                                                    [key], {});\n",
              "        if (!dataTable) return;\n",
              "\n",
              "        const docLinkHtml = 'Like what you see? Visit the ' +\n",
              "          '<a target=\"_blank\" href=https://colab.research.google.com/notebooks/data_table.ipynb>data table notebook</a>'\n",
              "          + ' to learn more about interactive tables.';\n",
              "        element.innerHTML = '';\n",
              "        dataTable['output_type'] = 'display_data';\n",
              "        await google.colab.output.renderOutput(dataTable, element);\n",
              "        const docLink = document.createElement('div');\n",
              "        docLink.innerHTML = docLinkHtml;\n",
              "        element.appendChild(docLink);\n",
              "      }\n",
              "    </script>\n",
              "  </div>\n",
              "\n",
              "\n",
              "<div id=\"df-9cfc151c-6baa-4283-8b2a-aa3f7793c982\">\n",
              "  <button class=\"colab-df-quickchart\" onclick=\"quickchart('df-9cfc151c-6baa-4283-8b2a-aa3f7793c982')\"\n",
              "            title=\"Suggest charts\"\n",
              "            style=\"display:none;\">\n",
              "\n",
              "<svg xmlns=\"http://www.w3.org/2000/svg\" height=\"24px\"viewBox=\"0 0 24 24\"\n",
              "     width=\"24px\">\n",
              "    <g>\n",
              "        <path d=\"M19 3H5c-1.1 0-2 .9-2 2v14c0 1.1.9 2 2 2h14c1.1 0 2-.9 2-2V5c0-1.1-.9-2-2-2zM9 17H7v-7h2v7zm4 0h-2V7h2v10zm4 0h-2v-4h2v4z\"/>\n",
              "    </g>\n",
              "</svg>\n",
              "  </button>\n",
              "\n",
              "<style>\n",
              "  .colab-df-quickchart {\n",
              "      --bg-color: #E8F0FE;\n",
              "      --fill-color: #1967D2;\n",
              "      --hover-bg-color: #E2EBFA;\n",
              "      --hover-fill-color: #174EA6;\n",
              "      --disabled-fill-color: #AAA;\n",
              "      --disabled-bg-color: #DDD;\n",
              "  }\n",
              "\n",
              "  [theme=dark] .colab-df-quickchart {\n",
              "      --bg-color: #3B4455;\n",
              "      --fill-color: #D2E3FC;\n",
              "      --hover-bg-color: #434B5C;\n",
              "      --hover-fill-color: #FFFFFF;\n",
              "      --disabled-bg-color: #3B4455;\n",
              "      --disabled-fill-color: #666;\n",
              "  }\n",
              "\n",
              "  .colab-df-quickchart {\n",
              "    background-color: var(--bg-color);\n",
              "    border: none;\n",
              "    border-radius: 50%;\n",
              "    cursor: pointer;\n",
              "    display: none;\n",
              "    fill: var(--fill-color);\n",
              "    height: 32px;\n",
              "    padding: 0;\n",
              "    width: 32px;\n",
              "  }\n",
              "\n",
              "  .colab-df-quickchart:hover {\n",
              "    background-color: var(--hover-bg-color);\n",
              "    box-shadow: 0 1px 2px rgba(60, 64, 67, 0.3), 0 1px 3px 1px rgba(60, 64, 67, 0.15);\n",
              "    fill: var(--button-hover-fill-color);\n",
              "  }\n",
              "\n",
              "  .colab-df-quickchart-complete:disabled,\n",
              "  .colab-df-quickchart-complete:disabled:hover {\n",
              "    background-color: var(--disabled-bg-color);\n",
              "    fill: var(--disabled-fill-color);\n",
              "    box-shadow: none;\n",
              "  }\n",
              "\n",
              "  .colab-df-spinner {\n",
              "    border: 2px solid var(--fill-color);\n",
              "    border-color: transparent;\n",
              "    border-bottom-color: var(--fill-color);\n",
              "    animation:\n",
              "      spin 1s steps(1) infinite;\n",
              "  }\n",
              "\n",
              "  @keyframes spin {\n",
              "    0% {\n",
              "      border-color: transparent;\n",
              "      border-bottom-color: var(--fill-color);\n",
              "      border-left-color: var(--fill-color);\n",
              "    }\n",
              "    20% {\n",
              "      border-color: transparent;\n",
              "      border-left-color: var(--fill-color);\n",
              "      border-top-color: var(--fill-color);\n",
              "    }\n",
              "    30% {\n",
              "      border-color: transparent;\n",
              "      border-left-color: var(--fill-color);\n",
              "      border-top-color: var(--fill-color);\n",
              "      border-right-color: var(--fill-color);\n",
              "    }\n",
              "    40% {\n",
              "      border-color: transparent;\n",
              "      border-right-color: var(--fill-color);\n",
              "      border-top-color: var(--fill-color);\n",
              "    }\n",
              "    60% {\n",
              "      border-color: transparent;\n",
              "      border-right-color: var(--fill-color);\n",
              "    }\n",
              "    80% {\n",
              "      border-color: transparent;\n",
              "      border-right-color: var(--fill-color);\n",
              "      border-bottom-color: var(--fill-color);\n",
              "    }\n",
              "    90% {\n",
              "      border-color: transparent;\n",
              "      border-bottom-color: var(--fill-color);\n",
              "    }\n",
              "  }\n",
              "</style>\n",
              "\n",
              "  <script>\n",
              "    async function quickchart(key) {\n",
              "      const quickchartButtonEl =\n",
              "        document.querySelector('#' + key + ' button');\n",
              "      quickchartButtonEl.disabled = true;  // To prevent multiple clicks.\n",
              "      quickchartButtonEl.classList.add('colab-df-spinner');\n",
              "      try {\n",
              "        const charts = await google.colab.kernel.invokeFunction(\n",
              "            'suggestCharts', [key], {});\n",
              "      } catch (error) {\n",
              "        console.error('Error during call to suggestCharts:', error);\n",
              "      }\n",
              "      quickchartButtonEl.classList.remove('colab-df-spinner');\n",
              "      quickchartButtonEl.classList.add('colab-df-quickchart-complete');\n",
              "    }\n",
              "    (() => {\n",
              "      let quickchartButtonEl =\n",
              "        document.querySelector('#df-9cfc151c-6baa-4283-8b2a-aa3f7793c982 button');\n",
              "      quickchartButtonEl.style.display =\n",
              "        google.colab.kernel.accessAllowed ? 'block' : 'none';\n",
              "    })();\n",
              "  </script>\n",
              "</div>\n",
              "    </div>\n",
              "  </div>\n"
            ],
            "application/vnd.google.colaboratory.intrinsic+json": {
              "type": "dataframe",
              "variable_name": "df_2",
              "summary": "{\n  \"name\": \"df_2\",\n  \"rows\": 1041,\n  \"fields\": [\n    {\n      \"column\": \"\\u2116\",\n      \"properties\": {\n        \"dtype\": \"string\",\n        \"num_unique_values\": 1041,\n        \"samples\": [\n          \"137\",\n          \"629\",\n          \"185\"\n        ],\n        \"semantic_type\": \"\",\n        \"description\": \"\"\n      }\n    },\n    {\n      \"column\": \"amount\",\n      \"properties\": {\n        \"dtype\": \"category\",\n        \"num_unique_values\": 9,\n        \"samples\": [\n          \"17600\",\n          \"220\",\n          \"1\\u00a0350\"\n        ],\n        \"semantic_type\": \"\",\n        \"description\": \"\"\n      }\n    }\n  ]\n}"
            }
          },
          "metadata": {},
          "execution_count": 7
        }
      ]
    },
    {
      "cell_type": "code",
      "source": [
        "df_2.info()"
      ],
      "metadata": {
        "colab": {
          "base_uri": "https://localhost:8080/"
        },
        "id": "DPqIdNvbhkIt",
        "outputId": "cf26565f-c23d-4675-c5e1-c72448099f48"
      },
      "execution_count": null,
      "outputs": [
        {
          "output_type": "stream",
          "name": "stdout",
          "text": [
            "<class 'pandas.core.frame.DataFrame'>\n",
            "RangeIndex: 1041 entries, 0 to 1040\n",
            "Data columns (total 2 columns):\n",
            " #   Column  Non-Null Count  Dtype \n",
            "---  ------  --------------  ----- \n",
            " 0   №       1041 non-null   object\n",
            " 1   amount  1041 non-null   object\n",
            "dtypes: object(2)\n",
            "memory usage: 16.4+ KB\n"
          ]
        }
      ]
    },
    {
      "cell_type": "markdown",
      "source": [
        "<font color='teal'>Датасет предположительно представляет собой информацию о номере операции (транзакции?) и ее сумме.\n",
        "\n",
        "Конвертируем данные. Номер преобразуем в целое число (дискретный тип данных), сумму - во float (непрерывный тип данных). Для колонки <font color='black'>`amount`</font> перед преобразованием приведем данные в необходимый для преобразования вид без кавычек аналогично первому датасету. Изменим название колонки <font color='black'>`№`</font>, чтобы не менять при написании кода английскую раскладку.</font>"
      ],
      "metadata": {
        "id": "DcqhssVhsvh-"
      }
    },
    {
      "cell_type": "code",
      "source": [
        "df_2.rename(columns={'№': 'no'}, inplace=True)\n",
        "\n",
        "df_2['no'] = df_2['no'].astype(int)\n",
        "df_2['amount'] = df_2['amount'].apply(lambda x: re.sub(r'[\\s\\xa0]', '', x)).astype(float)"
      ],
      "metadata": {
        "id": "rTVcED1YuqNh"
      },
      "execution_count": null,
      "outputs": []
    },
    {
      "cell_type": "markdown",
      "source": [
        "<font color='teal'>**Рассмотрим третий датасет**</font>"
      ],
      "metadata": {
        "id": "gtRCWPfPwBJZ"
      }
    },
    {
      "cell_type": "code",
      "source": [
        "df_3"
      ],
      "metadata": {
        "colab": {
          "base_uri": "https://localhost:8080/",
          "height": 423
        },
        "id": "wCv6YU7BhWvJ",
        "outputId": "cf06b3dd-9b18-4c4c-99e9-c8af3ef69ffa"
      },
      "execution_count": null,
      "outputs": [
        {
          "output_type": "execute_result",
          "data": {
            "text/plain": [
              "             uid          time_reg         time_come     type\n",
              "0     4912391821  22.01.2023 13:13  01.03.2023 16:00      ios\n",
              "1     4912391827  28.01.2023 15:29  01.03.2023 16:01  android\n",
              "2     4912391971   12.01.2023 0:06  01.03.2023 16:00      ios\n",
              "3     4912392018  15.01.2023 12:19   01.01.2000 0:00      ios\n",
              "4     4912392093  12.01.2023 18:15   01.01.2000 0:00  android\n",
              "...          ...               ...               ...      ...\n",
              "7562  4912937247  22.01.2023 11:14  01.03.2023 16:00  android\n",
              "7563  4912937391   23.01.2023 3:47  01.03.2023 16:01  android\n",
              "7564  4912937452   12.01.2023 9:57   01.01.2000 0:00  android\n",
              "7565  4912937464  08.01.2023 12:16   01.01.2000 0:00  android\n",
              "7566  4912937504   06.01.2023 1:15   01.01.2000 0:00      ios\n",
              "\n",
              "[7567 rows x 4 columns]"
            ],
            "text/html": [
              "\n",
              "  <div id=\"df-c125787a-6945-421d-a73e-f16f937fdd5d\" class=\"colab-df-container\">\n",
              "    <div>\n",
              "<style scoped>\n",
              "    .dataframe tbody tr th:only-of-type {\n",
              "        vertical-align: middle;\n",
              "    }\n",
              "\n",
              "    .dataframe tbody tr th {\n",
              "        vertical-align: top;\n",
              "    }\n",
              "\n",
              "    .dataframe thead th {\n",
              "        text-align: right;\n",
              "    }\n",
              "</style>\n",
              "<table border=\"1\" class=\"dataframe\">\n",
              "  <thead>\n",
              "    <tr style=\"text-align: right;\">\n",
              "      <th></th>\n",
              "      <th>uid</th>\n",
              "      <th>time_reg</th>\n",
              "      <th>time_come</th>\n",
              "      <th>type</th>\n",
              "    </tr>\n",
              "  </thead>\n",
              "  <tbody>\n",
              "    <tr>\n",
              "      <th>0</th>\n",
              "      <td>4912391821</td>\n",
              "      <td>22.01.2023 13:13</td>\n",
              "      <td>01.03.2023 16:00</td>\n",
              "      <td>ios</td>\n",
              "    </tr>\n",
              "    <tr>\n",
              "      <th>1</th>\n",
              "      <td>4912391827</td>\n",
              "      <td>28.01.2023 15:29</td>\n",
              "      <td>01.03.2023 16:01</td>\n",
              "      <td>android</td>\n",
              "    </tr>\n",
              "    <tr>\n",
              "      <th>2</th>\n",
              "      <td>4912391971</td>\n",
              "      <td>12.01.2023 0:06</td>\n",
              "      <td>01.03.2023 16:00</td>\n",
              "      <td>ios</td>\n",
              "    </tr>\n",
              "    <tr>\n",
              "      <th>3</th>\n",
              "      <td>4912392018</td>\n",
              "      <td>15.01.2023 12:19</td>\n",
              "      <td>01.01.2000 0:00</td>\n",
              "      <td>ios</td>\n",
              "    </tr>\n",
              "    <tr>\n",
              "      <th>4</th>\n",
              "      <td>4912392093</td>\n",
              "      <td>12.01.2023 18:15</td>\n",
              "      <td>01.01.2000 0:00</td>\n",
              "      <td>android</td>\n",
              "    </tr>\n",
              "    <tr>\n",
              "      <th>...</th>\n",
              "      <td>...</td>\n",
              "      <td>...</td>\n",
              "      <td>...</td>\n",
              "      <td>...</td>\n",
              "    </tr>\n",
              "    <tr>\n",
              "      <th>7562</th>\n",
              "      <td>4912937247</td>\n",
              "      <td>22.01.2023 11:14</td>\n",
              "      <td>01.03.2023 16:00</td>\n",
              "      <td>android</td>\n",
              "    </tr>\n",
              "    <tr>\n",
              "      <th>7563</th>\n",
              "      <td>4912937391</td>\n",
              "      <td>23.01.2023 3:47</td>\n",
              "      <td>01.03.2023 16:01</td>\n",
              "      <td>android</td>\n",
              "    </tr>\n",
              "    <tr>\n",
              "      <th>7564</th>\n",
              "      <td>4912937452</td>\n",
              "      <td>12.01.2023 9:57</td>\n",
              "      <td>01.01.2000 0:00</td>\n",
              "      <td>android</td>\n",
              "    </tr>\n",
              "    <tr>\n",
              "      <th>7565</th>\n",
              "      <td>4912937464</td>\n",
              "      <td>08.01.2023 12:16</td>\n",
              "      <td>01.01.2000 0:00</td>\n",
              "      <td>android</td>\n",
              "    </tr>\n",
              "    <tr>\n",
              "      <th>7566</th>\n",
              "      <td>4912937504</td>\n",
              "      <td>06.01.2023 1:15</td>\n",
              "      <td>01.01.2000 0:00</td>\n",
              "      <td>ios</td>\n",
              "    </tr>\n",
              "  </tbody>\n",
              "</table>\n",
              "<p>7567 rows × 4 columns</p>\n",
              "</div>\n",
              "    <div class=\"colab-df-buttons\">\n",
              "\n",
              "  <div class=\"colab-df-container\">\n",
              "    <button class=\"colab-df-convert\" onclick=\"convertToInteractive('df-c125787a-6945-421d-a73e-f16f937fdd5d')\"\n",
              "            title=\"Convert this dataframe to an interactive table.\"\n",
              "            style=\"display:none;\">\n",
              "\n",
              "  <svg xmlns=\"http://www.w3.org/2000/svg\" height=\"24px\" viewBox=\"0 -960 960 960\">\n",
              "    <path d=\"M120-120v-720h720v720H120Zm60-500h600v-160H180v160Zm220 220h160v-160H400v160Zm0 220h160v-160H400v160ZM180-400h160v-160H180v160Zm440 0h160v-160H620v160ZM180-180h160v-160H180v160Zm440 0h160v-160H620v160Z\"/>\n",
              "  </svg>\n",
              "    </button>\n",
              "\n",
              "  <style>\n",
              "    .colab-df-container {\n",
              "      display:flex;\n",
              "      gap: 12px;\n",
              "    }\n",
              "\n",
              "    .colab-df-convert {\n",
              "      background-color: #E8F0FE;\n",
              "      border: none;\n",
              "      border-radius: 50%;\n",
              "      cursor: pointer;\n",
              "      display: none;\n",
              "      fill: #1967D2;\n",
              "      height: 32px;\n",
              "      padding: 0 0 0 0;\n",
              "      width: 32px;\n",
              "    }\n",
              "\n",
              "    .colab-df-convert:hover {\n",
              "      background-color: #E2EBFA;\n",
              "      box-shadow: 0px 1px 2px rgba(60, 64, 67, 0.3), 0px 1px 3px 1px rgba(60, 64, 67, 0.15);\n",
              "      fill: #174EA6;\n",
              "    }\n",
              "\n",
              "    .colab-df-buttons div {\n",
              "      margin-bottom: 4px;\n",
              "    }\n",
              "\n",
              "    [theme=dark] .colab-df-convert {\n",
              "      background-color: #3B4455;\n",
              "      fill: #D2E3FC;\n",
              "    }\n",
              "\n",
              "    [theme=dark] .colab-df-convert:hover {\n",
              "      background-color: #434B5C;\n",
              "      box-shadow: 0px 1px 3px 1px rgba(0, 0, 0, 0.15);\n",
              "      filter: drop-shadow(0px 1px 2px rgba(0, 0, 0, 0.3));\n",
              "      fill: #FFFFFF;\n",
              "    }\n",
              "  </style>\n",
              "\n",
              "    <script>\n",
              "      const buttonEl =\n",
              "        document.querySelector('#df-c125787a-6945-421d-a73e-f16f937fdd5d button.colab-df-convert');\n",
              "      buttonEl.style.display =\n",
              "        google.colab.kernel.accessAllowed ? 'block' : 'none';\n",
              "\n",
              "      async function convertToInteractive(key) {\n",
              "        const element = document.querySelector('#df-c125787a-6945-421d-a73e-f16f937fdd5d');\n",
              "        const dataTable =\n",
              "          await google.colab.kernel.invokeFunction('convertToInteractive',\n",
              "                                                    [key], {});\n",
              "        if (!dataTable) return;\n",
              "\n",
              "        const docLinkHtml = 'Like what you see? Visit the ' +\n",
              "          '<a target=\"_blank\" href=https://colab.research.google.com/notebooks/data_table.ipynb>data table notebook</a>'\n",
              "          + ' to learn more about interactive tables.';\n",
              "        element.innerHTML = '';\n",
              "        dataTable['output_type'] = 'display_data';\n",
              "        await google.colab.output.renderOutput(dataTable, element);\n",
              "        const docLink = document.createElement('div');\n",
              "        docLink.innerHTML = docLinkHtml;\n",
              "        element.appendChild(docLink);\n",
              "      }\n",
              "    </script>\n",
              "  </div>\n",
              "\n",
              "\n",
              "<div id=\"df-7bc37ad5-2d93-4502-a3ec-96a6253fcadb\">\n",
              "  <button class=\"colab-df-quickchart\" onclick=\"quickchart('df-7bc37ad5-2d93-4502-a3ec-96a6253fcadb')\"\n",
              "            title=\"Suggest charts\"\n",
              "            style=\"display:none;\">\n",
              "\n",
              "<svg xmlns=\"http://www.w3.org/2000/svg\" height=\"24px\"viewBox=\"0 0 24 24\"\n",
              "     width=\"24px\">\n",
              "    <g>\n",
              "        <path d=\"M19 3H5c-1.1 0-2 .9-2 2v14c0 1.1.9 2 2 2h14c1.1 0 2-.9 2-2V5c0-1.1-.9-2-2-2zM9 17H7v-7h2v7zm4 0h-2V7h2v10zm4 0h-2v-4h2v4z\"/>\n",
              "    </g>\n",
              "</svg>\n",
              "  </button>\n",
              "\n",
              "<style>\n",
              "  .colab-df-quickchart {\n",
              "      --bg-color: #E8F0FE;\n",
              "      --fill-color: #1967D2;\n",
              "      --hover-bg-color: #E2EBFA;\n",
              "      --hover-fill-color: #174EA6;\n",
              "      --disabled-fill-color: #AAA;\n",
              "      --disabled-bg-color: #DDD;\n",
              "  }\n",
              "\n",
              "  [theme=dark] .colab-df-quickchart {\n",
              "      --bg-color: #3B4455;\n",
              "      --fill-color: #D2E3FC;\n",
              "      --hover-bg-color: #434B5C;\n",
              "      --hover-fill-color: #FFFFFF;\n",
              "      --disabled-bg-color: #3B4455;\n",
              "      --disabled-fill-color: #666;\n",
              "  }\n",
              "\n",
              "  .colab-df-quickchart {\n",
              "    background-color: var(--bg-color);\n",
              "    border: none;\n",
              "    border-radius: 50%;\n",
              "    cursor: pointer;\n",
              "    display: none;\n",
              "    fill: var(--fill-color);\n",
              "    height: 32px;\n",
              "    padding: 0;\n",
              "    width: 32px;\n",
              "  }\n",
              "\n",
              "  .colab-df-quickchart:hover {\n",
              "    background-color: var(--hover-bg-color);\n",
              "    box-shadow: 0 1px 2px rgba(60, 64, 67, 0.3), 0 1px 3px 1px rgba(60, 64, 67, 0.15);\n",
              "    fill: var(--button-hover-fill-color);\n",
              "  }\n",
              "\n",
              "  .colab-df-quickchart-complete:disabled,\n",
              "  .colab-df-quickchart-complete:disabled:hover {\n",
              "    background-color: var(--disabled-bg-color);\n",
              "    fill: var(--disabled-fill-color);\n",
              "    box-shadow: none;\n",
              "  }\n",
              "\n",
              "  .colab-df-spinner {\n",
              "    border: 2px solid var(--fill-color);\n",
              "    border-color: transparent;\n",
              "    border-bottom-color: var(--fill-color);\n",
              "    animation:\n",
              "      spin 1s steps(1) infinite;\n",
              "  }\n",
              "\n",
              "  @keyframes spin {\n",
              "    0% {\n",
              "      border-color: transparent;\n",
              "      border-bottom-color: var(--fill-color);\n",
              "      border-left-color: var(--fill-color);\n",
              "    }\n",
              "    20% {\n",
              "      border-color: transparent;\n",
              "      border-left-color: var(--fill-color);\n",
              "      border-top-color: var(--fill-color);\n",
              "    }\n",
              "    30% {\n",
              "      border-color: transparent;\n",
              "      border-left-color: var(--fill-color);\n",
              "      border-top-color: var(--fill-color);\n",
              "      border-right-color: var(--fill-color);\n",
              "    }\n",
              "    40% {\n",
              "      border-color: transparent;\n",
              "      border-right-color: var(--fill-color);\n",
              "      border-top-color: var(--fill-color);\n",
              "    }\n",
              "    60% {\n",
              "      border-color: transparent;\n",
              "      border-right-color: var(--fill-color);\n",
              "    }\n",
              "    80% {\n",
              "      border-color: transparent;\n",
              "      border-right-color: var(--fill-color);\n",
              "      border-bottom-color: var(--fill-color);\n",
              "    }\n",
              "    90% {\n",
              "      border-color: transparent;\n",
              "      border-bottom-color: var(--fill-color);\n",
              "    }\n",
              "  }\n",
              "</style>\n",
              "\n",
              "  <script>\n",
              "    async function quickchart(key) {\n",
              "      const quickchartButtonEl =\n",
              "        document.querySelector('#' + key + ' button');\n",
              "      quickchartButtonEl.disabled = true;  // To prevent multiple clicks.\n",
              "      quickchartButtonEl.classList.add('colab-df-spinner');\n",
              "      try {\n",
              "        const charts = await google.colab.kernel.invokeFunction(\n",
              "            'suggestCharts', [key], {});\n",
              "      } catch (error) {\n",
              "        console.error('Error during call to suggestCharts:', error);\n",
              "      }\n",
              "      quickchartButtonEl.classList.remove('colab-df-spinner');\n",
              "      quickchartButtonEl.classList.add('colab-df-quickchart-complete');\n",
              "    }\n",
              "    (() => {\n",
              "      let quickchartButtonEl =\n",
              "        document.querySelector('#df-7bc37ad5-2d93-4502-a3ec-96a6253fcadb button');\n",
              "      quickchartButtonEl.style.display =\n",
              "        google.colab.kernel.accessAllowed ? 'block' : 'none';\n",
              "    })();\n",
              "  </script>\n",
              "</div>\n",
              "    </div>\n",
              "  </div>\n"
            ],
            "application/vnd.google.colaboratory.intrinsic+json": {
              "type": "dataframe",
              "variable_name": "df_3",
              "summary": "{\n  \"name\": \"df_3\",\n  \"rows\": 7567,\n  \"fields\": [\n    {\n      \"column\": \"uid\",\n      \"properties\": {\n        \"dtype\": \"string\",\n        \"num_unique_values\": 7567,\n        \"samples\": [\n          \"4912925593\",\n          \"4912484506\",\n          \"4912558383\"\n        ],\n        \"semantic_type\": \"\",\n        \"description\": \"\"\n      }\n    },\n    {\n      \"column\": \"time_reg\",\n      \"properties\": {\n        \"dtype\": \"object\",\n        \"num_unique_values\": 6855,\n        \"samples\": [\n          \"27.01.2023 0:05\",\n          \"15.01.2023 9:10\",\n          \"10.01.2023 9:23\"\n        ],\n        \"semantic_type\": \"\",\n        \"description\": \"\"\n      }\n    },\n    {\n      \"column\": \"time_come\",\n      \"properties\": {\n        \"dtype\": \"object\",\n        \"num_unique_values\": 3,\n        \"samples\": [\n          \"01.03.2023 16:00\",\n          \"01.03.2023 16:01\",\n          \"01.01.2000 0:00\"\n        ],\n        \"semantic_type\": \"\",\n        \"description\": \"\"\n      }\n    },\n    {\n      \"column\": \"type\",\n      \"properties\": {\n        \"dtype\": \"category\",\n        \"num_unique_values\": 2,\n        \"samples\": [\n          \"android\",\n          \"ios\"\n        ],\n        \"semantic_type\": \"\",\n        \"description\": \"\"\n      }\n    }\n  ]\n}"
            }
          },
          "metadata": {},
          "execution_count": 10
        }
      ]
    },
    {
      "cell_type": "code",
      "source": [
        "df_3.info()"
      ],
      "metadata": {
        "colab": {
          "base_uri": "https://localhost:8080/"
        },
        "id": "pe24q8CkhnKr",
        "outputId": "86411565-3970-4613-952b-4459ab55054b"
      },
      "execution_count": null,
      "outputs": [
        {
          "output_type": "stream",
          "name": "stdout",
          "text": [
            "<class 'pandas.core.frame.DataFrame'>\n",
            "RangeIndex: 7567 entries, 0 to 7566\n",
            "Data columns (total 4 columns):\n",
            " #   Column     Non-Null Count  Dtype \n",
            "---  ------     --------------  ----- \n",
            " 0   uid        7567 non-null   object\n",
            " 1   time_reg   7567 non-null   object\n",
            " 2   time_come  7567 non-null   object\n",
            " 3   type       7567 non-null   object\n",
            "dtypes: object(4)\n",
            "memory usage: 236.6+ KB\n"
          ]
        }
      ]
    },
    {
      "cell_type": "markdown",
      "source": [
        "<font color='teal'>Датасет представляет собой информацию об идентификаторе пользователей, дате и времени их регистрации в системе (на сайте, в приложении и т.п.), дате дальнейшего (последнего?) входа в систему, а также устройстве, с которого был совершен вход при регистрации или позднее.\n",
        "\n",
        "Конвертируем данные. Номер id преобразуем в целое число (дискретный тип данных), даты регистрации и входа - в формат datetime, тип устройства - в категориальный тип данных.</font>"
      ],
      "metadata": {
        "id": "F7KDTdyFpH0U"
      }
    },
    {
      "cell_type": "code",
      "source": [
        "df_3['uid'] = df_3['uid'].astype(int)\n",
        "df_3['type'] = df_3['type'].astype('category')\n",
        "df_3['time_reg'] = pd.to_datetime(df_3['time_reg'], format='%d.%m.%Y %H:%M')\n",
        "df_3['time_come'] = pd.to_datetime(df_3['time_come'], format='%d.%m.%Y %H:%M')"
      ],
      "metadata": {
        "id": "Oj2nxwggjaAE"
      },
      "execution_count": null,
      "outputs": []
    },
    {
      "cell_type": "code",
      "source": [
        "df_3"
      ],
      "metadata": {
        "colab": {
          "base_uri": "https://localhost:8080/",
          "height": 423
        },
        "id": "FyurwW2XyTzM",
        "outputId": "5fcbf703-6bf2-4c24-f115-b17be255ccde"
      },
      "execution_count": null,
      "outputs": [
        {
          "output_type": "execute_result",
          "data": {
            "text/plain": [
              "             uid            time_reg           time_come     type\n",
              "0     4912391821 2023-01-22 13:13:00 2023-03-01 16:00:00      ios\n",
              "1     4912391827 2023-01-28 15:29:00 2023-03-01 16:01:00  android\n",
              "2     4912391971 2023-01-12 00:06:00 2023-03-01 16:00:00      ios\n",
              "3     4912392018 2023-01-15 12:19:00 2000-01-01 00:00:00      ios\n",
              "4     4912392093 2023-01-12 18:15:00 2000-01-01 00:00:00  android\n",
              "...          ...                 ...                 ...      ...\n",
              "7562  4912937247 2023-01-22 11:14:00 2023-03-01 16:00:00  android\n",
              "7563  4912937391 2023-01-23 03:47:00 2023-03-01 16:01:00  android\n",
              "7564  4912937452 2023-01-12 09:57:00 2000-01-01 00:00:00  android\n",
              "7565  4912937464 2023-01-08 12:16:00 2000-01-01 00:00:00  android\n",
              "7566  4912937504 2023-01-06 01:15:00 2000-01-01 00:00:00      ios\n",
              "\n",
              "[7567 rows x 4 columns]"
            ],
            "text/html": [
              "\n",
              "  <div id=\"df-910133c3-ced1-4a6e-b23c-e70b7d42705e\" class=\"colab-df-container\">\n",
              "    <div>\n",
              "<style scoped>\n",
              "    .dataframe tbody tr th:only-of-type {\n",
              "        vertical-align: middle;\n",
              "    }\n",
              "\n",
              "    .dataframe tbody tr th {\n",
              "        vertical-align: top;\n",
              "    }\n",
              "\n",
              "    .dataframe thead th {\n",
              "        text-align: right;\n",
              "    }\n",
              "</style>\n",
              "<table border=\"1\" class=\"dataframe\">\n",
              "  <thead>\n",
              "    <tr style=\"text-align: right;\">\n",
              "      <th></th>\n",
              "      <th>uid</th>\n",
              "      <th>time_reg</th>\n",
              "      <th>time_come</th>\n",
              "      <th>type</th>\n",
              "    </tr>\n",
              "  </thead>\n",
              "  <tbody>\n",
              "    <tr>\n",
              "      <th>0</th>\n",
              "      <td>4912391821</td>\n",
              "      <td>2023-01-22 13:13:00</td>\n",
              "      <td>2023-03-01 16:00:00</td>\n",
              "      <td>ios</td>\n",
              "    </tr>\n",
              "    <tr>\n",
              "      <th>1</th>\n",
              "      <td>4912391827</td>\n",
              "      <td>2023-01-28 15:29:00</td>\n",
              "      <td>2023-03-01 16:01:00</td>\n",
              "      <td>android</td>\n",
              "    </tr>\n",
              "    <tr>\n",
              "      <th>2</th>\n",
              "      <td>4912391971</td>\n",
              "      <td>2023-01-12 00:06:00</td>\n",
              "      <td>2023-03-01 16:00:00</td>\n",
              "      <td>ios</td>\n",
              "    </tr>\n",
              "    <tr>\n",
              "      <th>3</th>\n",
              "      <td>4912392018</td>\n",
              "      <td>2023-01-15 12:19:00</td>\n",
              "      <td>2000-01-01 00:00:00</td>\n",
              "      <td>ios</td>\n",
              "    </tr>\n",
              "    <tr>\n",
              "      <th>4</th>\n",
              "      <td>4912392093</td>\n",
              "      <td>2023-01-12 18:15:00</td>\n",
              "      <td>2000-01-01 00:00:00</td>\n",
              "      <td>android</td>\n",
              "    </tr>\n",
              "    <tr>\n",
              "      <th>...</th>\n",
              "      <td>...</td>\n",
              "      <td>...</td>\n",
              "      <td>...</td>\n",
              "      <td>...</td>\n",
              "    </tr>\n",
              "    <tr>\n",
              "      <th>7562</th>\n",
              "      <td>4912937247</td>\n",
              "      <td>2023-01-22 11:14:00</td>\n",
              "      <td>2023-03-01 16:00:00</td>\n",
              "      <td>android</td>\n",
              "    </tr>\n",
              "    <tr>\n",
              "      <th>7563</th>\n",
              "      <td>4912937391</td>\n",
              "      <td>2023-01-23 03:47:00</td>\n",
              "      <td>2023-03-01 16:01:00</td>\n",
              "      <td>android</td>\n",
              "    </tr>\n",
              "    <tr>\n",
              "      <th>7564</th>\n",
              "      <td>4912937452</td>\n",
              "      <td>2023-01-12 09:57:00</td>\n",
              "      <td>2000-01-01 00:00:00</td>\n",
              "      <td>android</td>\n",
              "    </tr>\n",
              "    <tr>\n",
              "      <th>7565</th>\n",
              "      <td>4912937464</td>\n",
              "      <td>2023-01-08 12:16:00</td>\n",
              "      <td>2000-01-01 00:00:00</td>\n",
              "      <td>android</td>\n",
              "    </tr>\n",
              "    <tr>\n",
              "      <th>7566</th>\n",
              "      <td>4912937504</td>\n",
              "      <td>2023-01-06 01:15:00</td>\n",
              "      <td>2000-01-01 00:00:00</td>\n",
              "      <td>ios</td>\n",
              "    </tr>\n",
              "  </tbody>\n",
              "</table>\n",
              "<p>7567 rows × 4 columns</p>\n",
              "</div>\n",
              "    <div class=\"colab-df-buttons\">\n",
              "\n",
              "  <div class=\"colab-df-container\">\n",
              "    <button class=\"colab-df-convert\" onclick=\"convertToInteractive('df-910133c3-ced1-4a6e-b23c-e70b7d42705e')\"\n",
              "            title=\"Convert this dataframe to an interactive table.\"\n",
              "            style=\"display:none;\">\n",
              "\n",
              "  <svg xmlns=\"http://www.w3.org/2000/svg\" height=\"24px\" viewBox=\"0 -960 960 960\">\n",
              "    <path d=\"M120-120v-720h720v720H120Zm60-500h600v-160H180v160Zm220 220h160v-160H400v160Zm0 220h160v-160H400v160ZM180-400h160v-160H180v160Zm440 0h160v-160H620v160ZM180-180h160v-160H180v160Zm440 0h160v-160H620v160Z\"/>\n",
              "  </svg>\n",
              "    </button>\n",
              "\n",
              "  <style>\n",
              "    .colab-df-container {\n",
              "      display:flex;\n",
              "      gap: 12px;\n",
              "    }\n",
              "\n",
              "    .colab-df-convert {\n",
              "      background-color: #E8F0FE;\n",
              "      border: none;\n",
              "      border-radius: 50%;\n",
              "      cursor: pointer;\n",
              "      display: none;\n",
              "      fill: #1967D2;\n",
              "      height: 32px;\n",
              "      padding: 0 0 0 0;\n",
              "      width: 32px;\n",
              "    }\n",
              "\n",
              "    .colab-df-convert:hover {\n",
              "      background-color: #E2EBFA;\n",
              "      box-shadow: 0px 1px 2px rgba(60, 64, 67, 0.3), 0px 1px 3px 1px rgba(60, 64, 67, 0.15);\n",
              "      fill: #174EA6;\n",
              "    }\n",
              "\n",
              "    .colab-df-buttons div {\n",
              "      margin-bottom: 4px;\n",
              "    }\n",
              "\n",
              "    [theme=dark] .colab-df-convert {\n",
              "      background-color: #3B4455;\n",
              "      fill: #D2E3FC;\n",
              "    }\n",
              "\n",
              "    [theme=dark] .colab-df-convert:hover {\n",
              "      background-color: #434B5C;\n",
              "      box-shadow: 0px 1px 3px 1px rgba(0, 0, 0, 0.15);\n",
              "      filter: drop-shadow(0px 1px 2px rgba(0, 0, 0, 0.3));\n",
              "      fill: #FFFFFF;\n",
              "    }\n",
              "  </style>\n",
              "\n",
              "    <script>\n",
              "      const buttonEl =\n",
              "        document.querySelector('#df-910133c3-ced1-4a6e-b23c-e70b7d42705e button.colab-df-convert');\n",
              "      buttonEl.style.display =\n",
              "        google.colab.kernel.accessAllowed ? 'block' : 'none';\n",
              "\n",
              "      async function convertToInteractive(key) {\n",
              "        const element = document.querySelector('#df-910133c3-ced1-4a6e-b23c-e70b7d42705e');\n",
              "        const dataTable =\n",
              "          await google.colab.kernel.invokeFunction('convertToInteractive',\n",
              "                                                    [key], {});\n",
              "        if (!dataTable) return;\n",
              "\n",
              "        const docLinkHtml = 'Like what you see? Visit the ' +\n",
              "          '<a target=\"_blank\" href=https://colab.research.google.com/notebooks/data_table.ipynb>data table notebook</a>'\n",
              "          + ' to learn more about interactive tables.';\n",
              "        element.innerHTML = '';\n",
              "        dataTable['output_type'] = 'display_data';\n",
              "        await google.colab.output.renderOutput(dataTable, element);\n",
              "        const docLink = document.createElement('div');\n",
              "        docLink.innerHTML = docLinkHtml;\n",
              "        element.appendChild(docLink);\n",
              "      }\n",
              "    </script>\n",
              "  </div>\n",
              "\n",
              "\n",
              "<div id=\"df-52a8f639-9469-4a5a-9c4e-1eb3277e9978\">\n",
              "  <button class=\"colab-df-quickchart\" onclick=\"quickchart('df-52a8f639-9469-4a5a-9c4e-1eb3277e9978')\"\n",
              "            title=\"Suggest charts\"\n",
              "            style=\"display:none;\">\n",
              "\n",
              "<svg xmlns=\"http://www.w3.org/2000/svg\" height=\"24px\"viewBox=\"0 0 24 24\"\n",
              "     width=\"24px\">\n",
              "    <g>\n",
              "        <path d=\"M19 3H5c-1.1 0-2 .9-2 2v14c0 1.1.9 2 2 2h14c1.1 0 2-.9 2-2V5c0-1.1-.9-2-2-2zM9 17H7v-7h2v7zm4 0h-2V7h2v10zm4 0h-2v-4h2v4z\"/>\n",
              "    </g>\n",
              "</svg>\n",
              "  </button>\n",
              "\n",
              "<style>\n",
              "  .colab-df-quickchart {\n",
              "      --bg-color: #E8F0FE;\n",
              "      --fill-color: #1967D2;\n",
              "      --hover-bg-color: #E2EBFA;\n",
              "      --hover-fill-color: #174EA6;\n",
              "      --disabled-fill-color: #AAA;\n",
              "      --disabled-bg-color: #DDD;\n",
              "  }\n",
              "\n",
              "  [theme=dark] .colab-df-quickchart {\n",
              "      --bg-color: #3B4455;\n",
              "      --fill-color: #D2E3FC;\n",
              "      --hover-bg-color: #434B5C;\n",
              "      --hover-fill-color: #FFFFFF;\n",
              "      --disabled-bg-color: #3B4455;\n",
              "      --disabled-fill-color: #666;\n",
              "  }\n",
              "\n",
              "  .colab-df-quickchart {\n",
              "    background-color: var(--bg-color);\n",
              "    border: none;\n",
              "    border-radius: 50%;\n",
              "    cursor: pointer;\n",
              "    display: none;\n",
              "    fill: var(--fill-color);\n",
              "    height: 32px;\n",
              "    padding: 0;\n",
              "    width: 32px;\n",
              "  }\n",
              "\n",
              "  .colab-df-quickchart:hover {\n",
              "    background-color: var(--hover-bg-color);\n",
              "    box-shadow: 0 1px 2px rgba(60, 64, 67, 0.3), 0 1px 3px 1px rgba(60, 64, 67, 0.15);\n",
              "    fill: var(--button-hover-fill-color);\n",
              "  }\n",
              "\n",
              "  .colab-df-quickchart-complete:disabled,\n",
              "  .colab-df-quickchart-complete:disabled:hover {\n",
              "    background-color: var(--disabled-bg-color);\n",
              "    fill: var(--disabled-fill-color);\n",
              "    box-shadow: none;\n",
              "  }\n",
              "\n",
              "  .colab-df-spinner {\n",
              "    border: 2px solid var(--fill-color);\n",
              "    border-color: transparent;\n",
              "    border-bottom-color: var(--fill-color);\n",
              "    animation:\n",
              "      spin 1s steps(1) infinite;\n",
              "  }\n",
              "\n",
              "  @keyframes spin {\n",
              "    0% {\n",
              "      border-color: transparent;\n",
              "      border-bottom-color: var(--fill-color);\n",
              "      border-left-color: var(--fill-color);\n",
              "    }\n",
              "    20% {\n",
              "      border-color: transparent;\n",
              "      border-left-color: var(--fill-color);\n",
              "      border-top-color: var(--fill-color);\n",
              "    }\n",
              "    30% {\n",
              "      border-color: transparent;\n",
              "      border-left-color: var(--fill-color);\n",
              "      border-top-color: var(--fill-color);\n",
              "      border-right-color: var(--fill-color);\n",
              "    }\n",
              "    40% {\n",
              "      border-color: transparent;\n",
              "      border-right-color: var(--fill-color);\n",
              "      border-top-color: var(--fill-color);\n",
              "    }\n",
              "    60% {\n",
              "      border-color: transparent;\n",
              "      border-right-color: var(--fill-color);\n",
              "    }\n",
              "    80% {\n",
              "      border-color: transparent;\n",
              "      border-right-color: var(--fill-color);\n",
              "      border-bottom-color: var(--fill-color);\n",
              "    }\n",
              "    90% {\n",
              "      border-color: transparent;\n",
              "      border-bottom-color: var(--fill-color);\n",
              "    }\n",
              "  }\n",
              "</style>\n",
              "\n",
              "  <script>\n",
              "    async function quickchart(key) {\n",
              "      const quickchartButtonEl =\n",
              "        document.querySelector('#' + key + ' button');\n",
              "      quickchartButtonEl.disabled = true;  // To prevent multiple clicks.\n",
              "      quickchartButtonEl.classList.add('colab-df-spinner');\n",
              "      try {\n",
              "        const charts = await google.colab.kernel.invokeFunction(\n",
              "            'suggestCharts', [key], {});\n",
              "      } catch (error) {\n",
              "        console.error('Error during call to suggestCharts:', error);\n",
              "      }\n",
              "      quickchartButtonEl.classList.remove('colab-df-spinner');\n",
              "      quickchartButtonEl.classList.add('colab-df-quickchart-complete');\n",
              "    }\n",
              "    (() => {\n",
              "      let quickchartButtonEl =\n",
              "        document.querySelector('#df-52a8f639-9469-4a5a-9c4e-1eb3277e9978 button');\n",
              "      quickchartButtonEl.style.display =\n",
              "        google.colab.kernel.accessAllowed ? 'block' : 'none';\n",
              "    })();\n",
              "  </script>\n",
              "</div>\n",
              "    </div>\n",
              "  </div>\n"
            ],
            "application/vnd.google.colaboratory.intrinsic+json": {
              "type": "dataframe",
              "variable_name": "df_3",
              "summary": "{\n  \"name\": \"df_3\",\n  \"rows\": 7567,\n  \"fields\": [\n    {\n      \"column\": \"uid\",\n      \"properties\": {\n        \"dtype\": \"number\",\n        \"std\": 157739,\n        \"min\": 4912391821,\n        \"max\": 4912937504,\n        \"num_unique_values\": 7567,\n        \"samples\": [\n          4912925593,\n          4912484506,\n          4912558383\n        ],\n        \"semantic_type\": \"\",\n        \"description\": \"\"\n      }\n    },\n    {\n      \"column\": \"time_reg\",\n      \"properties\": {\n        \"dtype\": \"date\",\n        \"min\": \"2023-01-05 00:01:00\",\n        \"max\": \"2023-01-31 23:55:00\",\n        \"num_unique_values\": 6855,\n        \"samples\": [\n          \"2023-01-27 00:05:00\",\n          \"2023-01-15 09:10:00\",\n          \"2023-01-10 09:23:00\"\n        ],\n        \"semantic_type\": \"\",\n        \"description\": \"\"\n      }\n    },\n    {\n      \"column\": \"time_come\",\n      \"properties\": {\n        \"dtype\": \"date\",\n        \"min\": \"2000-01-01 00:00:00\",\n        \"max\": \"2023-03-01 16:01:00\",\n        \"num_unique_values\": 3,\n        \"samples\": [\n          \"2023-03-01 16:00:00\",\n          \"2023-03-01 16:01:00\",\n          \"2000-01-01 00:00:00\"\n        ],\n        \"semantic_type\": \"\",\n        \"description\": \"\"\n      }\n    },\n    {\n      \"column\": \"type\",\n      \"properties\": {\n        \"dtype\": \"category\",\n        \"num_unique_values\": 2,\n        \"samples\": [\n          \"android\",\n          \"ios\"\n        ],\n        \"semantic_type\": \"\",\n        \"description\": \"\"\n      }\n    }\n  ]\n}"
            }
          },
          "metadata": {},
          "execution_count": 13
        }
      ]
    },
    {
      "cell_type": "markdown",
      "source": [
        "<font color='teal'>Стоит отменить, что в столбце <font color='black'>`time_сome`</font> есть подозрительное повторяющееся значение <font color='black'>`01.01.2000 0:00`</font>, судя по всему, наличие таких \"дефолтных\" даты и времени может говорить о том, что пользователь после регистрации до настоящего времени больше не совершал вход. Судя по проверке, таких пользователей насчитывается 5270.</font>"
      ],
      "metadata": {
        "id": "48bU-VEj20Q3"
      }
    },
    {
      "cell_type": "code",
      "source": [
        "df_3[df_3['time_come'] == '2000-01-01 00:00:00'].shape[0]"
      ],
      "metadata": {
        "colab": {
          "base_uri": "https://localhost:8080/"
        },
        "id": "upinm8eQ3X-l",
        "outputId": "ec87db7c-63d6-4394-b2d4-f0b93fd0f2bb"
      },
      "execution_count": null,
      "outputs": [
        {
          "output_type": "execute_result",
          "data": {
            "text/plain": [
              "5270"
            ]
          },
          "metadata": {},
          "execution_count": 14
        }
      ]
    },
    {
      "cell_type": "markdown",
      "source": [
        "<font color='teal'>Также можно в начале проверить (а вдруг), существуют ли записи о пользователях с упоминанием обоих типов устройств. Судя по проверке ниже, таких нет.</font>"
      ],
      "metadata": {
        "id": "oBONIsMU4TpF"
      }
    },
    {
      "cell_type": "code",
      "source": [
        "andr_uids = set(df_3[df_3['type'] == 'android']['uid'])\n",
        "ios_uids = set(df_3[df_3['type'] == 'ios']['uid'])\n",
        "\n",
        "both_uids = andr_uids.intersection(ios_uids)"
      ],
      "metadata": {
        "id": "i4i5vZeo4S3v"
      },
      "execution_count": null,
      "outputs": []
    },
    {
      "cell_type": "code",
      "source": [
        "print(f'{andr_uids}\\n\\n{ios_uids}\\n\\n{both_uids}')"
      ],
      "metadata": {
        "colab": {
          "base_uri": "https://localhost:8080/"
        },
        "id": "uLVDd1eK5H8s",
        "outputId": "ed77ce1f-91b1-4497-c8f1-cdd939ddca72"
      },
      "execution_count": null,
      "outputs": [
        {
          "output_type": "stream",
          "name": "stdout",
          "text": [
            "{4912742400, 4912422914, 4912472066, 4912406534, 4912726023, 4912472073, 4912734218, 4912439307, 4912832522, 4912619533, 4912914448, 4912422929, 4912529425, 4912685076, 4912594965, 4912758806, 4912791574, 4912734233, 4912431130, 4912554011, 4912848926, 4912668705, 4912644130, 4912685090, 4912775201, 4912627749, 4912414758, 4912406567, 4912635942, 4912848937, 4912873512, 4912472107, 4912480299, 4912562222, 4912554037, 4912455735, 4912775225, 4912472123, 4912422976, 4912889928, 4912922699, 4912922700, 4912709709, 4912840781, 4912496719, 4912414800, 4912603216, 4912635985, 4912668755, 4912767055, 4912767056, 4912808017, 4912848978, 4912873560, 4912529498, 4912832602, 4912423004, 4912652380, 4912586846, 4912717917, 4912750691, 4912824420, 4912930915, 4912693350, 4912742504, 4912529513, 4912537709, 4912685165, 4912676975, 4912717937, 4912447602, 4912685171, 4912791672, 4912898168, 4912824443, 4912488572, 4912603261, 4912922753, 4912398466, 4912619650, 4912799874, 4912570502, 4912701575, 4912627848, 4912791686, 4912906378, 4912709773, 4912644238, 4912709775, 4912578704, 4912709777, 4912767119, 4912439443, 4912611476, 4912775316, 4912455830, 4912717974, 4912627864, 4912406681, 4912636056, 4912554139, 4912865428, 4912881818, 4912890009, 4912906401, 4912840866, 4912668835, 4912734371, 4912824485, 4912693415, 4912513192, 4912775339, 4912816300, 4912832683, 4912808112, 4912783545, 4912758970, 4912636091, 4912537788, 4912767163, 4912873660, 4912898233, 4912775361, 4912505036, 4912890060, 4912529614, 4912414931, 4912586964, 4912693460, 4912922836, 4912546007, 4912931033, 4912849117, 4912677086, 4912685278, 4912742623, 4912914654, 4912464098, 4912709861, 4912423142, 4912619751, 4912537832, 4912791783, 4912455914, 4912881895, 4912644332, 4912447725, 4912423150, 4912488687, 4912554224, 4912898289, 4912611572, 4912783604, 4912595190, 4912881908, 4912496897, 4912668929, 4912767234, 4912734470, 4912718088, 4912824584, 4912922896, 4912439573, 4912906518, 4912472343, 4912562457, 4912660766, 4912431392, 4912447778, 4912464162, 4912521506, 4912415013, 4912873765, 4912906531, 4912652585, 4912767276, 4912827738, 4912800052, 4912685365, 4912636214, 4912415031, 4912726326, 4912742714, 4912849212, 4912890175, 4912808256, 4912677185, 4912439618, 4912480578, 4912660802, 4912832835, 4912857411, 4912513351, 4912611658, 4912775499, 4912914766, 4912873808, 4912628049, 4912750930, 4912628051, 4912931155, 4912488790, 4912816472, 4912447833, 4912603487, 4912669025, 4912709985, 4912587107, 4912677223, 4912398697, 4912898410, 4912726380, 4912644465, 4912505203, 4912595315, 4912636276, 4912750963, 4912521592, 4912537977, 4912554361, 4912882046, 4912611713, 4912718210, 4912423299, 4912619908, 4912767362, 4912841092, 4912890242, 4912488841, 4912472462, 4912587152, 4912570772, 4912538005, 4912497049, 4912873886, 4912841119, 4912906655, 4912824739, 4912562598, 4912865703, 4912652715, 4912832940, 4912857515, 4912775599, 4912431536, 4912480689, 4912882098, 4912595379, 4912931252, 4912488892, 4912660927, 4912806600, 4912579011, 4912800196, 4912767431, 4912513482, 4912898507, 4912456140, 4912562637, 4912611790, 4912685516, 4912742866, 4912554451, 4912677331, 4912783829, 4912792020, 4912832980, 4912685528, 4912603609, 4912931283, 4912587227, 4912865758, 4912710113, 4912669154, 4912398820, 4912775652, 4912857574, 4912701927, 4912751079, 4912472553, 4912620010, 4912898537, 4912415214, 4912841199, 4912398832, 4912800241, 4912660978, 4912890352, 4912431604, 4912906741, 4912800246, 4912497143, 4912513527, 4912538106, 4912718331, 4912775676, 4912587261, 4912808445, 4912865792, 4912521730, 4912587269, 4912464390, 4912816647, 4912906762, 4912923147, 4912808461, 4912726545, 4912423443, 4912775699, 4912693782, 4912734743, 4912874010, 4912579099, 4912865819, 4912546333, 4912439838, 4912505376, 4912701985, 4912701986, 4912595491, 4912521764, 4912562725, 4912587300, 4912841249, 4912595496, 4912824875, 4912554540, 4912833070, 4912931377, 4912669234, 4912685620, 4912415285, 4912906806, 4912620088, 4912529978, 4912562747, 4912456254, 4912611903, 4912833086, 4912857663, 4912603714, 4912915009, 4912636487, 4912923209, 4912489034, 4912587338, 4912931401, 4912751183, 4912505425, 4912603731, 4912759380, 4912857683, 4912472663, 4912906843, 4912693853, 4912415327, 4912579167, 4912431718, 4912702058, 4912620139, 4912398956, 4912718442, 4912759403, 4912652911, 4912849520, 4912857712, 4912915057, 4912505459, 4912595572, 4912562805, 4912628340, 4912497278, 4912751231, 4912571011, 4912874116, 4912644743, 4912652936, 4912808584, 4912669323, 4912530061, 4912530062, 4912767629, 4912554642, 4912849555, 4912792212, 4912521878, 4912661142, 4912603803, 4912734881, 4912612004, 4912464549, 4912423591, 4912898730, 4912652971, 4912464556, 4912800427, 4912439982, 4912915116, 4912505520, 4912472753, 4912718513, 4912825008, 4912489140, 4912562868, 4912685748, 4912931502, 4912927138, 4912603833, 4912562874, 4912423614, 4912814792, 4912399040, 4912530112, 4912841406, 4912480963, 4912890562, 4912890564, 4912513735, 4912456392, 4912530124, 4912710349, 4912734928, 4912587473, 4912612050, 4912538323, 4912661202, 4912784085, 4912792274, 4912800473, 4912620251, 4912669404, 4912440029, 4912710366, 4912906972, 4912800483, 4912751332, 4912849636, 4912857830, 4912644839, 4912440040, 4912677607, 4912726762, 4912407275, 4912865276, 4912882411, 4912915184, 4912415479, 4912546552, 4912440057, 4912898808, 4912677627, 4912481020, 4912612095, 4912890623, 4912915201, 4912415492, 4912538372, 4912464646, 4912800518, 4912497416, 4912775946, 4912759564, 4912808716, 4912521998, 4912702223, 4912743183, 4912890636, 4912808723, 4912562966, 4912571160, 4912849688, 4912685851, 4912472860, 4912661277, 4912653086, 4912505631, 4912669471, 4912743201, 4912784157, 4912923420, 4912751396, 4912603943, 4912448299, 4912735023, 4912554800, 4912456500, 4912841524, 4912481079, 4912571191, 4912563002, 4912407355, 4912636732, 4912718650, 4912825147, 4912882491, 4912718657, 4912448325, 4912497478, 4912513863, 4912399177, 4912726859, 4912644940, 4912907090, 4912784212, 4912587606, 4912636758, 4912726871, 4912890711, 4912431962, 4912595803, 4912464732, 4912530272, 4912874337, 4912464739, 4912751459, 4912563047, 4912825194, 4912677739, 4912882538, 4912431982, 4912538478, 4912423792, 4912825201, 4912784244, 4912612214, 4912579449, 4912792443, 4912423804, 4912497533, 4912579453, 4912636799, 4912808833, 4912833410, 4912735109, 4912784261, 4912743303, 4912538505, 4912874380, 4912857997, 4912653198, 4912702353, 4912800661, 4912563096, 4912694168, 4912808858, 4912522140, 4912849823, 4912595873, 4912669602, 4912628643, 4912604068, 4912472997, 4912735138, 4912776098, 4912440232, 4912636840, 4912645033, 4912505771, 4912767916, 4912784299, 4912841646, 4912882601, 4912898988, 4912694195, 4912456628, 4912890806, 4912907190, 4912423864, 4912448443, 4912407484, 4912538557, 4912751550, 4912915387, 4912899009, 4912718786, 4912546755, 4912571332, 4912874437, 4912841670, 4912931781, 4912579531, 4912776140, 4912554957, 4912899024, 4912620499, 4912800724, 4912726997, 4912849876, 4912849880, 4912423897, 4912407517, 4912423902, 4912538592, 4912645090, 4912489448, 4912563181, 4912694254, 4912530415, 4912432112, 4912825329, 4912579570, 4912620534, 4912751606, 4912473080, 4912522232, 4912743416, 4912890872, 4912604157, 4912423935, 4912456703, 4912735232, 4912907267, 4912505861, 4912759814, 4912579593, 4912489482, 4912686089, 4912505869, 4912612365, 4912407568, 4912440336, 4912481298, 4912899090, 4912841749, 4912546842, 4912620571, 4912686111, 4912645152, 4912751648, 4912768032, 4912669731, 4912645157, 4912440358, 4912849965, 4912514097, 4912497714, 4912825395, 4912931895, 4912481336, 4912710713, 4912792633, 4912448573, 4912399422, 4912636989, 4912604224, 4912489537, 4912669760, 4912677955, 4912710719, 4912751680, 4912784446, 4912915526, 4912440395, 4912456785, 4912464977, 4912841811, 4912866385, 4912628821, 4912514141, 4912522334, 4912432223, 4912833629, 4912538722, 4912415843, 4912522344, 4912563308, 4912677997, 4912571502, 4912833649, 4912407668, 4912424052, 4912686197, 4912800886, 4912456828, 4912899199, 4912612486, 4912841863, 4912858252, 4912907408, 4912546962, 4912465043, 4912669845, 4912809109, 4912784535, 4912579736, 4912612504, 4912448666, 4912694427, 4912923802, 4912555165, 4912489631, 4912481440, 4912784545, 4912612514, 4912850080, 4912882852, 4912432294, 4912497831, 4912825511, 4912907434, 4912800939, 4912710831, 4912891057, 4912915635, 4912907446, 4912497848, 4912645304, 4912686269, 4912538814, 4912694463, 4912465088, 4912735424, 4912555202, 4912760003, 4912538820, 4912719045, 4912497862, 4912669894, 4912653512, 4912850115, 4912858313, 4912522443, 4912448716, 4912817362, 4912456915, 4912678101, 4912563414, 4912587992, 4912768216, 4912661722, 4912547036, 4912473309, 4912587999, 4912874719, 4912579809, 4912653542, 4912776423, 4912825579, 4912710892, 4912841965, 4912628974, 4912637167, 4912506096, 4912489713, 4912514288, 4912833778, 4912932078, 4912825596, 4912719104, 4912760065, 4912448771, 4912579848, 4912833800, 4912751885, 4912645391, 4912809235, 4912571671, 4912760088, 4912825627, 4912424220, 4912506141, 4912522527, 4912678176, 4912686369, 4912825631, 4912399651, 4912522532, 4912669990, 4912858410, 4912612655, 4912801072, 4912784689, 4912506166, 4912530747, 4912874811, 4912596286, 4912506176, 4912792896, 4912694594, 4912629059, 4912923970, 4912604486, 4912768328, 4912407883, 4912735568, 4912833873, 4912710998, 4912481623, 4912563549, 4912653661, 4912678239, 4912702815, 4912530785, 4912801118, 4912817503, 4912850276, 4912899427, 4912571750, 4912440679, 4912883048, 4912473449, 4912833898, 4912588139, 4912457068, 4912620907, 4912424303, 4912473457, 4912506226, 4912399731, 4912686449, 4912416117, 4912817528, 4912539001, 4912694649, 4912719225, 4912514431, 4912547200, 4912596352, 4912637313, 4912752004, 4912907652, 4912407944, 4912842121, 4912866697, 4912645517, 4912399759, 4912432528, 4912506257, 4912678290, 4912457108, 4912555412, 4912596373, 4912661908, 4912817563, 4912547230, 4912563614, 4912465312, 4912514465, 4912465318, 4912498087, 4912522665, 4912637355, 4912858539, 4912874926, 4912768431, 4912727474, 4912670131, 4912481717, 4912645560, 4912580025, 4912506304, 4912604610, 4912678339, 4912801218, 4912924101, 4912416199, 4912793033, 4912678347, 4912612813, 4912539086, 4912489935, 4912719316, 4912514517, 4912621019, 4912883165, 4912571871, 4912424417, 4912432610, 4912760290, 4912768481, 4912915938, 4912842214, 4912760296, 4912522729, 4912457194, 4912760297, 4912752110, 4912604660, 4912743924, 4912850423, 4912866807, 4912776700, 4912408061, 4912932356, 4912817669, 4912662023, 4912440843, 4912604684, 4912719377, 4912760338, 4912825876, 4912530967, 4912793111, 4912875032, 4912883225, 4912932195, 4912915998, 4912784928, 4912834080, 4912514594, 4912801314, 4912735780, 4912481829, 4912694824, 4912506410, 4912858666, 4912522797, 4912907821, 4912399919, 4912580145, 4912891446, 4912539193, 4912686650, 4912678462, 4912932414, 4912645699, 4912719427, 4912432711, 4912514632, 4912752202, 4912498251, 4912399949, 4912703053, 4912416338, 4912727639, 4912842330, 4912752219, 4912457310, 4912514655, 4912604766, 4912678496, 4912744034, 4912850530, 4912670310, 4912465512, 4912825964, 4912662125, 4912793198, 4912588399, 4912563824, 4912899696, 4912686707, 4912809594, 4912424571, 4912473724, 4912760444, 4912465534, 4912629374, 4912645760, 4912604801, 4912686718, 4912727679, 4912875131, 4912916092, 4912932483, 4912449163, 4912539276, 4912531086, 4912719504, 4912522897, 4912621201, 4912391827, 4912801424, 4912694933, 4912817811, 4912580247, 4912400024, 4912490137, 4912432797, 4912473757, 4912506525, 4912866975, 4912858785, 4912629410, 4912660309, 4912842406, 4912416431, 4912481968, 4912645811, 4912907956, 4912694967, 4912809655, 4912465593, 4912752317, 4912424641, 4912424643, 4912457411, 4912572101, 4912924355, 4912776904, 4912703177, 4912522954, 4912563914, 4912727754, 4912768715, 4912727758, 4912785107, 4912498388, 4912490197, 4912506580, 4912449241, 4912711386, 4912809692, 4912473823, 4912506591, 4912400097, 4912522980, 4912883428, 4912924393, 4912408298, 4912473835, 4912539370, 4912547564, 4912613099, 4912654060, 4912563952, 4912703213, 4912817898, 4912596723, 4912842686, 4912850672, 4912916214, 4912842488, 4912432889, 4912891641, 4912662269, 4912760577, 4912416517, 4912817928, 4912736011, 4912613137, 4912441107, 4912719636, 4912670485, 4912834323, 4912621335, 4912580376, 4912867103, 4912637730, 4912686882, 4912449318, 4912711464, 4912506665, 4912662317, 4912711471, 4912785200, 4912490290, 4912899891, 4912539444, 4912424761, 4912875321, 4912908091, 4912637756, 4912924481, 4912883522, 4912432963, 4912686916, 4912768836, 4912613190, 4912932674, 4912801610, 4912858954, 4912834385, 4912850770, 4912572244, 4912760660, 4912801620, 4912400216, 4912482137, 4912432986, 4912490329, 4912514907, 4912727899, 4912514911, 4912793441, 4912408420, 4912514916, 4912564069, 4912727911, 4912891749, 4912498537, 4912867179, 4912588654, 4912703342, 4912523121, 4912744309, 4912416630, 4912678777, 4912916345, 4912433019, 4912588667, 4912719739, 4912809855, 4912826240, 4912621441, 4912605058, 4912670595, 4912889933, 4912818062, 4912531345, 4912736146, 4912449429, 4912695194, 4912768922, 4912588700, 4912392093, 4912441247, 4912752549, 4912465830, 4912547754, 4912875434, 4912891823, 4912506802, 4912744372, 4912523192, 4912900024, 4912596922, 4912654267, 4912474044, 4912515005, 4912416702, 4912678843, 4912768956, 4912777147, 4912424898, 4912736194, 4912801731, 4912818110, 4912498630, 4912785350, 4912859078, 4912908228, 4912834510, 4912457680, 4912400341, 4912490454, 4912408535, 4912850901, 4912588765, 4912555999, 4912711648, 4912531425, 4912531428, 4912613348, 4912449510, 4912539623, 4912629733, 4912760805, 4912826346, 4912785387, 4912916459, 4912474093, 4912695278, 4912728057, 4912891898, 4912523261, 4912850943, 4912801794, 4912433155, 4912793609, 4912883721, 4912916489, 4912637964, 4912670732, 4912867341, 4912769039, 4912924688, 4912785431, 4912914386, 4912891933, 4912850975, 4912875551, 4912621604, 4912515109, 4912637990, 4912777252, 4912818217, 4912547884, 4912842796, 4912539695, 4912416818, 4912482354, 4912449588, 4912506932, 4912490550, 4912908343, 4912416826, 4912613435, 4912859195, 4912515135, 4912711746, 4912392260, 4912531527, 4912605255, 4912539724, 4912597068, 4912670798, 4912580687, 4912425040, 4912678991, 4912932941, 4912752724, 4912875605, 4912867414, 4912572503, 4912818263, 4912760921, 4912474206, 4912662622, 4912679007, 4912769121, 4912400484, 4912629860, 4912556134, 4912744549, 4912818278, 4912711785, 4912547946, 4912826475, 4912687212, 4912654445, 4912785517, 4912883823, 4912883824, 4912900203, 4912900209, 4912588922, 4912392315, 4912515201, 4912703618, 4912580739, 4912621699, 4912720005, 4912531590, 4912801925, 4912425097, 4912826506, 4912416910, 4912588942, 4912818319, 4912605330, 4912482454, 4912572573, 4912777373, 4912654495, 4912703649, 4912916645, 4912416937, 4912900267, 4912761004, 4912818348, 4912851116, 4912834735, 4912867501, 4912769201, 4912933035, 4912629939, 4912793782, 4912670904, 4912818361, 4912457914, 4912539835, 4912695484, 4912785597, 4912392382, 4912646338, 4912556228, 4912810180, 4912441543, 4912769225, 4912539852, 4912924881, 4912883922, 4912851157, 4912531670, 4912564439, 4912597210, 4912474333, 4912785631, 4912515297, 4912810210, 4912662755, 4912482537, 4912679147, 4912523507, 4912711928, 4912613625, 4912761080, 4912589051, 4912408830, 4912785662, 4912605443, 4912875780, 4912638213, 4912400647, 4912425224, 4912580871, 4912834823, 4912572683, 4912720140, 4912744716, 4912802065, 4912621846, 4912851224, 4912687385, 4912728346, 4912539931, 4912695580, 4912922578, 4912490782, 4912654627, 4912498981, 4912892198, 4912777512, 4912867628, 4912507185, 4912630070, 4912679223, 4912548152, 4912417081, 4912417082, 4912687415, 4912818487, 4912900409, 4912531776, 4912793920, 4912933184, 4912499011, 4912417093, 4912482630, 4912572742, 4912826697, 4912834889, 4912646477, 4912433487, 4912441680, 4912613713, 4912884058, 4912761179, 4912548188, 4912908637, 4912679263, 4912728416, 4912867681, 4912449897, 4912580970, 4912703850, 4912597356, 4912916843, 4912474482, 4912490867, 4912482676, 4912654709, 4912662903, 4912720250, 4912392571, 4912548220, 4912408961, 4912499076, 4912466310, 4912613768, 4912712073, 4912744841, 4912802186, 4912613772, 4912540046, 4912482703, 4912925070, 4912605585, 4912826769, 4912458131, 4912597395, 4912458133, 4912564629, 4912892313, 4912621979, 4912507292, 4912621981, 4912671131, 4912695709, 4912581024, 4912712092, 4912851364, 4912834981, 4912859558, 4912499113, 4912834988, 4912441773, 4912466350, 4912638384, 4912400819, 4912630195, 4912736693, 4912409014, 4912441783, 4912794035, 4912687547, 4912884155, 4912531901, 4912646589, 4912785854, 4912908733, 4912425413, 4912556487, 4912769480, 4912867784, 4912523722, 4912531914, 4912589258, 4912875983, 4912728528, 4912515538, 4912794066, 4912499156, 4912818646, 4912433625, 4912826842, 4912450013, 4912417246, 4912458205, 4912597479, 4912712171, 4912663021, 4912892398, 4912490991, 4912925166, 4912548339, 4912654838, 4912728567, 4912843255, 4912761337, 4912433658, 4912638459, 4912712191, 4912900610, 4912671235, 4912613893, 4912531974, 4912499209, 4912540169, 4912876041, 4912908810, 4912835085, 4912663054, 4912843278, 4912474643, 4912695828, 4912646678, 4912712215, 4912564760, 4912728598, 4912704026, 4912622107, 4912441884, 4912581148, 4912450078, 4912458271, 4912523807, 4912532000, 4912679454, 4912794141, 4912409125, 4912605737, 4912433707, 4912704045, 4912441902, 4912392753, 4912425521, 4912892469, 4912826936, 4912622139, 4912433726, 4912720446, 4912777790, 4912654914, 4912769602, 4912687685, 4912843333, 4912835143, 4912589384, 4912450124, 4912933454, 4912491090, 4912867923, 4912638548, 4912794197, 4912630358, 4912482903, 4912491098, 4912802397, 4912392798, 4912564831, 4912613982, 4912818784, 4912622178, 4912925279, 4912736868, 4912671333, 4912859751, 4912605803, 4912745069, 4912573039, 4912507504, 4912392823, 4912556664, 4912573048, 4912810615, 4912810617, 4912761472, 4912695937, 4912401028, 4912499338, 4912515723, 4912712330, 4912867984, 4912417426, 4912589459, 4912843412, 4912704152, 4912736921, 4912540314, 4912433819, 4912523933, 4912532127, 4912728735, 4912564899, 4912892580, 4912900771, 4912515750, 4912564903, 4912720552, 4912614059, 4912720556, 4912663213, 4912671406, 4912736939, 4912884398, 4912466609, 4912892593, 4912908979, 4912769716, 4912532149, 4912466614, 4912925358, 4912392891, 4912827068, 4912425663, 4912523968, 4912581312, 4912597698, 4912491209, 4912687817, 4912630475, 4912859853, 4912859857, 4912392915, 4912933588, 4912638677, 4912409306, 4912507611, 4912794331, 4912859868, 4912499423, 4912900831, 4912900833, 4912876263, 4912761579, 4912777964, 4912909039, 4912704242, 4912687859, 4912786171, 4912712445, 4912573182, 4912417540, 4912614158, 4912671504, 4912843536, 4912933648, 4912556820, 4912851732, 4912876311, 4912630552, 4912671516, 4912474911, 4912417569, 4912646948, 4912507685, 4912720677, 4912548647, 4912663336, 4912507689, 4912483115, 4912663339, 4912466738, 4912925490, 4912810804, 4912491317, 4912597814, 4912565047, 4912401211, 4912433980, 4912450365, 4912581436, 4912630587, 4912753469, 4912589633, 4912393026, 4912671553, 4912769852, 4912827196, 4912810822, 4912835396, 4912884544, 4912540489, 4912589642, 4912663371, 4912540492, 4912884557, 4912786257, 4912933714, 4912761683, 4912679768, 4912900952, 4912663388, 4912720733, 4912409438, 4912802653, 4912515936, 4912540512, 4912466786, 4912712544, 4912859998, 4912540517, 4912614245, 4912917349, 4912409448, 4912409449, 4912458601, 4912425835, 4912417645, 4912720753, 4912606068, 4912687989, 4912466806, 4912401271, 4912499576, 4912909174, 4912442234, 4912565115, 4912843643, 4912597886, 4912450431, 4912655231, 4912671615, 4912712579, 4912638852, 4912622470, 4912851847, 4912442248, 4912876424, 4912794508, 4912540559, 4912630671, 4912794512, 4912819095, 4912458648, 4912802712, 4912925593, 4912532382, 4912753568, 4912868259, 4912565157, 4912597926, 4912679846, 4912466857, 4912630705, 4912933809, 4912393139, 4912860088, 4912491451, 4912507836, 4912925627, 4912458690, 4912556995, 4912729027, 4912565190, 4912425928, 4912720840, 4912532426, 4912450507, 4912794568, 4912827338, 4912663502, 4912638927, 4912696271, 4912933843, 4912491477, 4912761814, 4912696281, 4912729050, 4912606171, 4912810970, 4912737245, 4912622558, 4912810976, 4912581602, 4912745442, 4912393188, 4912524262, 4912917479, 4912786408, 4912671722, 4912704498, 4912688118, 4912532471, 4912851958, 4912679929, 4912524282, 4912655355, 4912524284, 4912581629, 4912901112, 4912442370, 4912647171, 4912483332, 4912671746, 4912794628, 4912802824, 4912581642, 4912548875, 4912720909, 4912573454, 4912835597, 4912860174, 4912884750, 4912475154, 4912557074, 4912835604, 4912524309, 4912606232, 4912548889, 4912704536, 4912540699, 4912868379, 4912655389, 4912933917, 4912909344, 4912565282, 4912507940, 4912827429, 4912876580, 4912892965, 4912753704, 4912909349, 4912753707, 4912393261, 4912630829, 4912630831, 4912426032, 4912598065, 4912639024, 4912458803, 4912835637, 4912630838, 4912614456, 4912467003, 4912835644, 4912598077, 4912516164, 4912655433, 4912843849, 4912450636, 4912933965, 4912819278, 4912589903, 4912467024, 4912696402, 4912401496, 4912786521, 4912893017, 4912409692, 4912491614, 4912508002, 4912442467, 4912532580, 4912606307, 4912680037, 4912811112, 4912680041, 4912737389, 4912794736, 4912852080, 4912630899, 4912491637, 4912901238, 4912557177, 4912622713, 4912786555, 4912712828, 4912761980, 4912475262, 4912860287, 4912581761, 4912614533, 4912458886, 4912499847, 4912753799, 4912393355, 4912712844, 4912655507, 4912393365, 4912630933, 4912721046, 4912802970, 4912475293, 4912549025, 4912409766, 4912434343, 4912467112, 4912712871, 4912688298, 4912450731, 4912671916, 4912925869, 4912770222, 4912811183, 4912499888, 4912762033, 4912819377, 4912835759, 4912729273, 4912540859, 4912696509, 4912590015, 4912393409, 4912811201, 4912491716, 4912458949, 4912917703, 4912401613, 4912803022, 4912524495, 4912622799, 4912737487, 4912442578, 4912843986, 4912614612, 4912770262, 4912737496, 4912671962, 4912884956, 4912549085, 4912508126, 4912794846, 4912401632, 4912590048, 4912524514, 4912532706, 4912639203, 4912647394, 4912762086, 4912458986, 4912819435, 4912811246, 4912426226, 4912581877, 4912721141, 4912516347, 4912475388, 4912401661, 4912655616, 4912590082, 4912868610, 4912884996, 4912827653, 4912860421, 4912745738, 4912860426, 4912573709, 4912909584, 4912835859, 4912860436, 4912524565, 4912573718, 4912934166, 4912729368, 4912409883, 4912712991, 4912491813, 4912852262, 4912622888, 4912549161, 4912573737, 4912434475, 4912450861, 4912418094, 4912459053, 4912573741, 4912770353, 4912483634, 4912573747, 4912909617, 4912655669, 4912909621, 4912868663, 4912557371, 4912917819, 4912639293, 4912483648, 4912909632, 4912475460, 4912926020, 4912860488, 4912524617, 4912844108, 4912762189, 4912852302, 4912532817, 4912622932, 4912803156, 4912909656, 4912614745, 4912541018, 4912663898, 4912696665, 4912418141, 4912491870, 4912639325, 4912434528, 4912680286, 4912500066, 4912737632, 4912622948, 4912713061, 4912860516, 4912893278, 4912581994, 4912598378, 4912901482, 4912885102, 4912557425, 4912721267, 4912778613, 4912475510, 4912876918, 4912606584, 4912811385, 4912426362, 4912885115, 4912663934, 4912639360, 4912868737, 4912418179, 4912614788, 4912737672, 4912401804, 4912516492, 4912524686, 4912786831, 4912754064, 4912450961, 4912844177, 4912885137, 4912926092, 4912745878, 4912737687, 4912926103, 4912762269, 4912934301, 4912541090, 4912401827, 4912500131, 4912647586, 4912721317, 4912778662, 4912770472, 4912524713, 4912836002, 4912467371, 4912549297, 4912917939, 4912573879, 4912401849, 4912590266, 4912508347, 4912745915, 4912582077, 4912860601, 4912426433, 4912795073, 4912729539, 4912934338, 4912590277, 4912688586, 4912803274, 4912786894, 4912909779, 4912516568, 4912483803, 4912901596, 4912655837, 4912442850, 4912508386, 4912614884, 4912475622, 4912713190, 4912852457, 4912623083, 4912868845, 4912459248, 4912524785, 4912664051, 4912492020, 4912811510, 4912664057, 4912410106, 4912557562, 4912639483, 4912885241, 4912606720, 4912926211, 4912442884, 4912705031, 4912778764, 4912467471, 4912516624, 4912647699, 4912705043, 4912393751, 4912885271, 4912770586, 4912533019, 4912508444, 4912426525, 4912860698, 4912909850, 4912778784, 4912598562, 4912672290, 4912655908, 4912557606, 4912565800, 4912582189, 4912836145, 4912508466, 4912623154, 4912803378, 4912918068, 4912786998, 4912762423, 4912934456, 4912549439, 4912516672, 4912672324, 4912590406, 4912787017, 4912418378, 4912410187, 4912516686, 4912729679, 4912901710, 4912508497, 4912647762, 4912778835, 4912541270, 4912418393, 4912516697, 4912746078, 4912598623, 4912483937, 4912631394, 4912844385, 4912844388, 4912664165, 4912926313, 4912934505, 4912459372, 4912426606, 4912492145, 4912672370, 4912770674, 4912606845, 4912467582, 4912647810, 4912541315, 4912795267, 4912828037, 4912434822, 4912737927, 4912393864, 4912443020, 4912459405, 4912631437, 4912918156, 4912680594, 4912598677, 4912688789, 4912582295, 4912721558, 4912770711, 4912860826, 4912590493, 4912606877, 4912410271, 4912418463, 4912664222, 4912696992, 4912443043, 4912549539, 4912582308, 4912647844, 4912762529, 4912541352, 4912508589, 4912443056, 4912557745, 4912705200, 4912713393, 4912434868, 4912656053, 4912893622, 4912524984, 4912795321, 4912664250, 4912844475, 4912918209, 4912763300, 4912778952, 4912451275, 4912492235, 4912819916, 4912811729, 4912639699, 4912623316, 4912910037, 4912926423, 4912680664, 4912500442, 4912754396, 4912893662, 4912746207, 4912811743, 4912410342, 4912803561, 4912672491, 4912918256, 4912819956, 4912418549, 4912885500, 4912606973, 4912598784, 4912688897, 4912697090, 4912738050, 4912590596, 4912647940, 4912746246, 4912459527, 4912762631, 4912811780, 4912770827, 4912533260, 4912787216, 4912467729, 4912672530, 4912475923, 4912557844, 4912508693, 4912549653, 4912623382, 4912680723, 4912860944, 4912852762, 4912934676, 4912934678, 4912762654, 4912779039, 4912713504, 4912582433, 4912566050, 4912402211, 4912533284, 4912656162, 4912410408, 4912852778, 4912893739, 4912615212, 4912852781, 4912631600, 4912803636, 4912688950, 4912828214, 4912549690, 4912844602, 4912484156, 4912754493, 4912443198, 4912475967, 4912435008, 4912590659, 4912795460, 4912508742, 4912574280, 4912492361, 4912623432, 4912451404, 4912525134, 4912541525, 4912729942, 4912770903, 4912779097, 4912508764, 4912566109, 4912582495, 4912746337, 4912705379, 4912697190, 4912787302, 4912672617, 4912795499, 4912885611, 4912885614, 4912918384, 4912516978, 4912549746, 4912418676, 4912852857, 4912516986, 4912410491, 4912680829, 4912705406, 4912713598, 4912402304, 4912467844, 4912533381, 4912492422, 4912607110, 4912738181, 4912803717, 4912820100, 4912836491, 4912836492, 4912861064, 4912869256, 4912689039, 4912893838, 4912639890, 4912828306, 4912394132, 4912902039, 4912656280, 4912730008, 4912631706, 4912607133, 4912484254, 4912525217, 4912557987, 4912885671, 4912607146, 4912844715, 4912910250, 4912615342, 4912664495, 4912754608, 4912787375, 4912771000, 4912623547, 4912500668, 4912402364, 4912435134, 4912574396, 4912467904, 4912697276, 4912713666, 4912787391, 4912525252, 4912476101, 4912590790, 4912631751, 4912869313, 4912746441, 4912656330, 4912492501, 4912484310, 4912533467, 4912776382, 4912689117, 4912680927, 4912639968, 4912795615, 4912893922, 4912730087, 4912648168, 4912861160, 4912418794, 4912402411, 4912426992, 4912697328, 4912721904, 4912762871, 4912721917, 4912762882, 4912410627, 4912754693, 4912484358, 4912443399, 4912508935, 4912549898, 4912779274, 4912476174, 4912517136, 4912607249, 4912738323, 4912820245, 4912787478, 4912599065, 4912615458, 4912746531, 4912902181, 4912623654, 4912566311, 4912590888, 4912812073, 4912746538, 4912820266, 4912746540, 4912795693, 4912836654, 4912443439, 4912607279, 4912853034, 4912869424, 4912910382, 4912853044, 4912648246, 4912672824, 4912746553, 4912705594, 4912541755, 4912631868, 4912451645, 4912459841, 4912902211, 4912525380, 4912558148, 4912754761, 4912525387, 4912582732, 4912623693, 4912533584, 4912549971, 4912812116, 4912672853, 4912828502, 4912697432, 4912877656, 4912566362, 4912541787, 4912894044, 4912844893, 4912500834, 4912574562, 4912902243, 4912402538, 4912722026, 4912836715, 4912599150, 4912730222, 4912500848, 4912681078, 4912869494, 4912730233, 4912885882, 4912787583, 4912640128, 4912689281, 4912648322, 4912509062, 4912590983, 4912427145, 4912869514, 4912894090, 4912410767, 4912812175, 4912509077, 4912566423, 4912910488, 4912517273, 4912623770, 4912615579, 4912730268, 4912746649, 4912935067, 4912894111, 4912697504, 4912877728, 4912492708, 4912787623, 4912795816, 4912664745, 4912476330, 4912672938, 4912738478, 4912410799, 4912418992, 4912607407, 4912779438, 4912730293, 4912394425, 4912582841, 4912861373, 4912468158, 4912664766, 4912427200, 4912550083, 4912853187, 4912885955, 4912672968, 4912681160, 4912599243, 4912558284, 4912648396, 4912656590, 4912697551, 4912722125, 4912869580, 4912402642, 4912566483, 4912763092, 4912509144, 4912509145, 4912574682, 4912525531, 4912681177, 4912582883, 4912787686, 4912828646, 4912541928, 4912435433, 4912476397, 4912550130, 4912779507, 4912705781, 4912730357, 4912607479, 4912484600, 4912746746, 4912476411, 4912410876, 4912419069, 4912877822, 4912402687, 4912517378, 4912656642, 4912804099, 4912591109, 4912853251, 4912607496, 4912902408, 4912648458, 4912550155, 4912460045, 4912836878, 4912722193, 4912812308, 4912501015, 4912451865, 4912664860, 4912623901, 4912689438, 4912566559, 4912935198, 4912673058, 4912689447, 4912615726, 4912689454, 4912820528, 4912427313, 4912574771, 4912582965, 4912754997, 4912738615, 4912787768, 4912877878, 4912804154, 4912902454, 4912910651, 4912435518, 4912845118, 4912705858, 4912673091, 4912902468, 4912525637, 4912591174, 4912599365, 4912681285, 4912607561, 4912730439, 4912763210, 4912525645, 4912845135, 4912836946, 4912771413, 4912705878, 4912582999, 4912476514, 4912632163, 4912746851, 4912566629, 4912410982, 4912607591, 4912484714, 4912918891, 4912935275, 4912607597, 4912558447, 4912714097, 4912648564, 4912828788, 4912566646, 4912419193, 4912451961, 4912476537, 4912525691, 4912796034, 4912591235, 4912632195, 4912411013, 4912771460, 4912812419, 4912525705, 4912451980, 4912656781, 4912566672, 4912755088, 4912509330, 4912918929, 4912435609, 4912689561, 4912394651, 4912746907, 4912861595, 4912746910, 4912509343, 4912443808, 4912722337, 4912886175, 4912501155, 4912607652, 4912411045, 4912476582, 4912533925, 4912542118, 4912574889, 4912640423, 4912665000, 4912673196, 4912705963, 4912714149, 4912468399, 4912714153, 4912812459, 4912853425, 4912869811, 4912476596, 4912599478, 4912583095, 4912517560, 4912738744, 4912894392, 4912525762, 4912697795, 4912648644, 4912927174, 4912501192, 4912828873, 4912845257, 4912599500, 4912599501, 4912427470, 4912402895, 4912591313, 4912918995, 4912779733, 4912460247, 4912632280, 4912828889, 4912624092, 4912927196, 4912771551, 4912533986, 4912517603, 4912726010, 4912476645, 4912435686, 4912558567, 4912804322, 4912878054, 4912861674, 4912558572, 4912419309, 4912624108, 4912796141, 4912402928, 4912820722, 4912566772, 4912615925, 4912632311, 4912402937, 4912878073, 4912525819, 4912550397, 4912591357, 4912755199, 4912927230, 4912796161, 4912771586, 4912853511, 4912886279, 4912534026, 4912820749, 4912853521, 4912845335, 4912861723, 4912583196, 4912534045, 4912894493, 4912697887, 4912394787, 4912411171, 4912706084, 4912935460, 4912673321, 4912640555, 4912837163, 4912607792, 4912845360, 4912452146, 4912910898, 4912583220, 4912665140, 4912435766, 4912665141, 4912550457, 4912738877, 4912681534, 4912624198, 4912632391, 4912599624, 4912771656, 4912935499, 4912509516, 4912517708, 4912755278, 4912394831, 4912697935, 4912837197, 4912484947, 4912853588, 4912681559, 4912591451, 4912697948, 4912566882, 4912403044, 4912583271, 4912419435, 4912796268, 4912738926, 4912427632, 4912919153, 4912902771, 4912476789, 4912927349, 4912616055, 4912706167, 4912493178, 4912583291, 4912444032, 4912632449, 4912779905, 4912542340, 4912411269, 4912468613, 4912484998, 4912452232, 4912575110, 4912730758, 4912804492, 4912476814, 4912476815, 4912534160, 4912763535, 4912829071, 4912812691, 4912493206, 4912501399, 4912607895, 4912640663, 4912902806, 4912657053, 4912665245, 4912673437, 4912894624, 4912927392, 4912640676, 4912820902, 4912452265, 4912722602, 4912853675, 4912911022, 4912886447, 4912648881, 4912550582, 4912837303, 4912845498, 4912394942, 4912681667, 4912771781, 4912558790, 4912591559, 4912616137, 4912607947, 4912657101, 4912493262, 4912509646, 4912616143, 4912698065, 4912583378, 4912747217, 4912517845, 4912919255, 4912747224, 4912870104, 4912640730, 4912632541, 4912853727, 4912747232, 4912485090, 4912624354, 4912689890, 4912542437, 4912665320, 4912804586, 4912468716, 4912706285, 4912419566, 4912599791, 4912820974, 4912837360, 4912919284, 4912534261, 4912616181, 4912501495, 4912796406, 4912632569, 4912739065, 4912755451, 4912509692, 4912861941, 4912894717, 4912845567, 4912935677, 4912476929, 4912788228, 4912534279, 4912747271, 4912452364, 4912673551, 4912902929, 4912419604, 4912648985, 4912812826, 4912567070, 4912730910, 4912657185, 4912558882, 4912837414, 4912911143, 4912837418, 4912747311, 4912861999, 4912517937, 4912509746, 4912460595, 4912771896, 4912468793, 4912427834, 4912550714, 4912771897, 4912452413, 4912804670, 4912862015, 4912403264, 4912436034, 4912395075, 4912460611, 4912624452, 4912698180, 4912444231, 4912616264, 4912509773, 4912927566, 4912706385, 4912763738, 4912821083, 4912755550, 4912526176, 4912739169, 4912599906, 4912640867, 4912501605, 4912583530, 4912919403, 4912698222, 4912575345, 4912665457, 4912911219, 4912477050, 4912624511, 4912550784, 4912812933, 4912477063, 4912550791, 4912485257, 4912690056, 4912460683, 4912812937, 4912829322, 4912419729, 4912649106, 4912665489, 4912886675, 4912567191, 4912591767, 4912493468, 4912665504, 4912731040, 4912772001, 4912608163, 4912845730, 4912853921, 4912878501, 4912583591, 4912903073, 4912919466, 4912575403, 4912862128, 4912755633, 4912804787, 4912518069, 4912829366, 4912452535, 4912837558, 4912747450, 4912616379, 4912706492, 4912509886, 4912468929, 4912567236, 4912427973, 4912608196, 4912649157, 4912444360, 4912714695, 4912878534, 4912821197, 4912501712, 4912624596, 4912403413, 4912468952, 4912894936, 4912526299, 4912436188, 4912600028, 4912706525, 4912845787, 4912550880, 4912878558, 4912927707, 4912813027, 4912690151, 4912673768, 4912419817, 4912886760, 4912550891, 4912681964, 4912632815, 4912829424, 4912559090, 4912559093, 4912690165, 4912854009, 4912411643, 4912714747, 4912927745, 4912526340, 4912591879, 4912903175, 4912788490, 4912501771, 4912444429, 4912460813, 4912501775, 4912657423, 4912927758, 4912493588, 4912878612, 4912706582, 4912722966, 4912739350, 4912829462, 4912935963, 4912673821, 4912755742, 4912780319, 4912927774, 4912935973, 4912403494, 4912567340, 4912763951, 4912885693, 4912575541, 4912706613, 4912837689, 4912649274, 4912878651, 4912428094, 4912885696, 4912444484, 4912436293, 4912714820, 4912731208, 4912706635, 4912886860, 4912821330, 4912698452, 4912763989, 4912739414, 4912624730, 4912452699, 4912903261, 4912862305, 4912895073, 4912755815, 4912477288, 4912723048, 4912632938, 4912559211, 4912682092, 4912690283, 4912772204, 4912837742, 4912551024, 4912878705, 4912919660, 4912575611, 4912911483, 4912460925, 4912927869, 4912641151, 4912452736, 4912657538, 4912518275, 4912690307, 4912583813, 4912673925, 4912788616, 4912493706, 4912592011, 4912649355, 4912624781, 4912870538, 4912788625, 4912919697, 4912411795, 4912682133, 4912854165, 4912395416, 4912477336, 4912526490, 4912772249, 4912428188, 4912805022, 4912559264, 4912600225, 4912714914, 4912583843, 4912731296, 4912567461, 4912731298, 4912551079, 4912780448, 4912821411, 4912870561, 4912895149, 4912411822, 4912428206, 4912657583, 4912739505, 4912796850, 4912395444, 4912485558, 4912837815, 4912927926, 4912608441, 4912493756, 4912600252, 4912714940, 4912469188, 4912616645, 4912846024, 4912903369, 4912747723, 4912919756, 4912600269, 4912616654, 4912723151, 4912510164, 4912674007, 4912854231, 4912919767, 4912411869, 4912862429, 4912837859, 4912526566, 4912477415, 4912870630, 4912657641, 4912837866, 4912461035, 4912649454, 4912452847, 4912698606, 4912469233, 4912600306, 4912608497, 4912469236, 4912583925, 4912747759, 4912633079, 4912772338, 4912846068, 4912903413, 4912502011, 4912510204, 4912903417, 4912911605, 4912575743, 4912780546, 4912526595, 4912518406, 4912936198, 4912788744, 4912690442, 4912600331, 4912624907, 4912731402, 4912559375, 4912420112, 4912485649, 4912534800, 4912592145, 4912739599, 4912936209, 4912903447, 4912600344, 4912551195, 4912755995, 4912895260, 4912543007, 4912928036, 4912690470, 4912493863, 4912551207, 4912657705, 4912729433, 4912395563, 4912403756, 4912928044, 4912461104, 4912551216, 4912706866, 4912477491, 4912698676, 4912887088, 4912903473, 4912772408, 4912936248, 4912764221, 4912780608, 4912788800, 4912436546, 4912715074, 4912633156, 4912461125, 4912739654, 4912461130, 4912682315, 4912584015, 4912543056, 4912444753, 4912559441, 4912797007, 4912854353, 4912444762, 4912665946, 4912526684, 4912690527, 4912452961, 4912469347, 4912682339, 4912813411, 4912485734, 4912878952, 4912739694, 4912518511, 4912838001, 4912534898, 4912780659, 4912600438, 4912821623, 4912592248, 4912625016, 4912444794, 4912731513, 4912526717, 4912797055, 4912526721, 4912895364, 4912567686, 4912559495, 4912403848, 4912706957, 4912575886, 4912911757, 4912641424, 4912821650, 4912772500, 4912862616, 4912600473, 4912772511, 4912584097, 4912534946, 4912395684, 4912543141, 4912870822, 4912936359, 4912739753, 4912428459, 4912870829, 4912403891, 4912911798, 4912879031, 4912551357, 4912821693, 4912936382, 4912698816, 4912928193, 4912723394, 4912666051, 4912698821, 4912584135, 4912526792, 4912575944, 4912526794, 4912436685, 4912887246, 4912715215, 4912657872, 4912854479, 4912420310, 4912829912, 4912510425, 4912535001, 4912756185, 4912731613, 4912748001, 4912838114, 4912453093, 4912469479, 4912395752, 4912690666, 4912772588, 4912780781, 4912600558, 4912444911, 4912485871, 4912879091, 4912780791, 4912518648, 4912559608, 4912928251, 4912625148, 4912862716, 4912494079, 4912600577, 4912797187, 4912707078, 4912895495, 4912821773, 4912895502, 4912829969, 4912543250, 4912567826, 4912854547, 4912707093, 4912805397, 4912739865, 4912420380, 4912674334, 4912633375, 4912444960, 4912862751, 4912444962, 4912477731, 4912428581, 4912690726, 4912518695, 4912649767, 4912879142, 4912911911, 4912395819, 4912551468, 4912608813, 4912666156, 4912461359, 4912739884, 4912797227, 4912903725, 4912789043, 4912887347, 4912903729, 4912920109, 4912920114, 4912928312, 4912551481, 4912707130, 4912838203, 4912772668, 4912870975, 4912830017, 4912559683, 4912928325, 4912592454, 4912666186, 4912723530, 4912887371, 4912526925, 4912567886, 4912748110, 4912559699, 4912780885, 4912617046, 4912436823, 4912592478, 4912682590, 4912739934, 4912739937, 4912879201, 4912707172, 4912404069, 4912625254, 4912633447, 4912420456, 4912756329, 4912485994, 4912535147, 4912813669, 4912395885, 4912838246, 4912453231, 4912461423, 4912543343, 4912674418, 4912862832, 4912649844, 4912871026, 4912723575, 4912526968, 4912461434, 4912748154, 4912789114, 4912813690, 4912748158, 4912625280, 4912690819, 4912699012, 4912584328, 4912846473, 4912461450, 4912576140, 4912600719, 4912436889, 4912854684, 4912510623, 4912838307, 4912797349, 4912846503, 4912912040, 4912600745, 4912502442, 4912404139, 4912617131, 4912830121, 4912920234, 4912821935, 4912715440, 4912887472, 4912903856, 4912461491, 4912764596, 4912797363, 4912920246, 4912682680, 4912412346, 4912658106, 4912813756, 4912879293, 4912936636, 4912551617, 4912658116, 4912494278, 4912821958, 4912764619, 4912666317, 4912928463, 4912707280, 4912772819, 4912527067, 4912592607, 4912756447, 4912805602, 4912576227, 4912396004, 4912666341, 4912871140, 4912854760, 4912568043, 4912461550, 4912674545, 4912404210, 4912428786, 4912748277, 4912436984, 4912658169, 4912584442, 4912813816, 4912862973, 4912445184, 4912576256, 4912649984, 4912756483, 4912502533, 4912420614, 4912494342, 4912781061, 4912543500, 4912699148, 4912600846, 4912690961, 4912568082, 4912682771, 4912928535, 4912420634, 4912650011, 4912600860, 4912428829, 4912486174, 4912625439, 4912592672, 4912895771, 4912568099, 4912674596, 4912412453, 4912518950, 4912731940, 4912666408, 4912838436, 4912846634, 4912748332, 4912830253, 4912879405, 4912453424, 4912723761, 4912576310, 4912584503, 4912764728, 4912478009, 4912609081, 4912936763, 4912756540, 4912789309, 4912748350, 4912682815, 4912478016, 4912666433, 4912469826, 4912740160, 4912748354, 4912641861, 4912797509, 4912871240, 4912527179, 4912822093, 4912756560, 4912797524, 4912625496, 4912781145, 4912469853, 4912437087, 4912600930, 4912461667, 4912625508, 4912609126, 4912396135, 4912486249, 4912805739, 4912510834, 4912396151, 4912502650, 4912510842, 4912445313, 4912535426, 4912494467, 4912641922, 4912772995, 4912478086, 4912920457, 4912609162, 4912502667, 4912936842, 4912404366, 4912838549, 4912404377, 4912568226, 4912420771, 4912871332, 4912617383, 4912420776, 4912822183, 4912592812, 4912682927, 4912773040, 4912871346, 4912486323, 4912904119, 4912748472, 4912879549, 4912781246, 4912592831, 4912814014, 4912461761, 4912838594, 4912715722, 4912625618, 4912560085, 4912601046, 4912863190, 4912732120, 4912797656, 4912412635, 4912781275, 4912723933, 4912936925, 4912601059, 4912396261, 4912830438, 4912805868, 4912756717, 4912805870, 4912445423, 4912519156, 4912453621, 4912691190, 4912895989, 4912420856, 4912658424, 4912863226, 4912478204, 4912642050, 4912486407, 4912445452, 4912715791, 4912822289, 4912683027, 4912543764, 4912666646, 4912404503, 4912699416, 4912519193, 4912609305, 4912912410, 4912920604, 4912928797, 4912568350, 4912863265, 4912805922, 4912592932, 4912650277, 4912412710, 4912658468, 4912764967, 4912822311, 4912724010, 4912633904, 4912502833, 4912617522, 4912633906, 4912576564, 4912871484, 4912633918, 4912552001, 4912740417, 4912781379, 4912568390, 4912683079, 4912535625, 4912814153, 4912838730, 4912879697, 4912527442, 4912937043, 4912420950, 4912412761, 4912863322, 4912805980, 4912928860, 4912404574, 4912560223, 4912732260, 4912789605, 4912814180, 4912855140, 4912470120, 4912650345, 4912445546, 4912748648, 4912511087, 4912461937, 4912822386, 4912904310, 4912674935, 4912887929, 4912912505, 4912494716, 4912756861, 4912773246, 4912642178, 4912658562, 4912445572, 4912781443, 4912699526, 4912412808, 4912421004, 4912584844, 4912756877, 4912789644, 4912830604, 4912896141, 4912724114, 4912920721, 4912576663, 4912666777, 4912552094, 4912814238, 4912396449, 4912429220, 4912437413, 4912617640, 4912871595, 4912634033, 4912584882, 4912404661, 4912855221, 4912527543, 4912470203, 4912396479, 4912773311, 4912748737, 4912494786, 4912740547, 4912699589, 4912904392, 4912888010, 4912625867, 4912715982, 4912847054, 4912896208, 4912666833, 4912601298, 4912666834, 4912855253, 4912912598, 4912879832, 4912937177, 4912642268, 4912543965, 4912888029, 4912928992, 4912519394, 4912593122, 4912412900, 4912683234, 4912740591, 4912830706, 4912609524, 4912658678, 4912937206, 4912511224, 4912691449, 4912789755, 4912519421, 4912838909, 4912421120, 4912404737, 4912535808, 4912847104, 4912576772, 4912929027, 4912445702, 4912707847, 4912789768, 4912699659, 4912765196, 4912716045, 4912838927, 4912748816, 4912748817, 4912748820, 4912806165, 4912797974, 4912830740, 4912642328, 4912724248, 4912765208, 4912847124, 4912847130, 4912584990, 4912937247, 4912486691, 4912617764, 4912822564, 4912453929, 4912871725, 4912699694, 4912642352, 4912404787, 4912478518, 4912920888, 4912896315, 4912462141, 4912609601, 4912642370, 4912888129, 4912634180, 4912699716, 4912806212, 4912926657, 4912544073, 4912617802, 4912683337, 4912798028, 4912470349, 4912830795, 4912765263, 4912675152, 4912650585, 4912511323, 4912707931, 4912888155, 4912650590, 4912855390, 4912626017, 4912511331, 4912830819, 4912773479, 4912503145, 4912879977, 4912642411, 4912413036, 4912716141, 4912576879, 4912798064, 4912839026, 4912650613, 4912421242, 4912552315, 4912609662, 4912437631, 4912699776, 4912773616, 4912535938, 4912814466, 4912667012, 4912494981, 4912863625, 4912429452, 4912789900, 4912675214, 4912798092, 4912896400, 4912880020, 4912929173, 4912683415, 4912568728, 4912732573, 4912404894, 4912658846, 4912855459, 4912650660, 4912667044, 4912429482, 4912544172, 4912937391, 4912478643, 4912552372, 4912511414, 4912634296, 4912708024, 4912863672, 4912871868, 4912527807, 4912691648, 4912470467, 4912511427, 4912806345, 4912691659, 4912929228, 4912830925, 4912724430, 4912486864, 4912847312, 4912929232, 4912421332, 4912576981, 4912462294, 4912716245, 4912437723, 4912888286, 4912462303, 4912593375, 4912519649, 4912675297, 4912781792, 4912601576, 4912642538, 4912609772, 4912937452, 4912617966, 4912749038, 4912503280, 4912568817, 4912667122, 4912413171, 4912454132, 4912470516, 4912445942, 4912626163, 4912683504, 4912716281, 4912921075, 4912937464, 4912912892, 4912462334, 4912650750, 4912503296, 4912814590, 4912732674, 4912798210, 4912536072, 4912880136, 4912642572, 4912781837, 4912552463, 4912585231, 4912536087, 4912544280, 4912470553, 4912699934, 4912478751, 4912708129, 4912757281, 4912437797, 4912904742, 4912658985, 4912658986, 4912634413, 4912503342, 4912667182, 4912446000, 4912699949, 4912716336, 4912462388, 4912429622, 4912527926, 4912421432, 4912831030, 4912552506, 4912667200, 4912814661, 4912683594, 4912855628, 4912806479, 4912593488, 4912478805, 4912618070, 4912765527, 4912437848, 4912462427, 4912487004, 4912413281, 4912454241, 4912896610, 4912740964, 4912921186, 4912593511, 4912790120, 4912904807, 4912519786, 4912437867, 4912888426, 4912413293, 4912421485, 4912847471, 4912904808, 4912478833, 4912618097, 4912765555, 4912544377, 4912839289, 4912495227, 4912413308, 4912609915, 4912798332, 4912757376, 4912773760, 4912560771, 4912568964, 4912650886, 4912462472, 4912487049, 4912716424, 4912708235, 4912470669, 4912724621, 4912659087, 4912618128, 4912822929, 4912921231, 4912536213, 4912700055, 4912429721, 4912904858, 4912634523, 4912913055, 4912618144, 4912798378, 4912650924, 4912429741, 4912478894, 4912405167, 4912601777, 4912609971, 4912667316, 4912642747, 4912913087, 4912929472, 4912904897, 4912593607, 4912675527, 4912552649, 4912454346, 4912511690, 4912577227, 4912683722, 4912511694, 4912528079, 4912397008, 4912437968, 4912659154, 4912478931, 4912691917, 4912413397, 4912773840, 4912560855, 4912421593, 4912700122, 4912544476, 4912847580, 4912495326, 4912765662, 4912839390, 4912847582, 4912913123, 4912872164, 4912511717, 4912683749, 4912732901, 4912626408, 4912544489, 4912741093, 4912782067, 4912446197, 4912741111, 4912585464, 4912544505, 4912790266, 4912863996, 4912601853, 4912863997, 4912913149, 4912700160, 4912536321, 4912610049, 4912642818, 4912503556, 4912470789, 4912651014, 4912634631, 4912462600, 4912880388, 4912667402, 4912536331, 4912896772, 4912757517, 4912421646, 4912577299, 4912413462, 4912823064, 4912806682, 4912429853, 4912618274, 4912438053, 4912552742, 4912872231, 4912421672, 4912462636, 4912798510, 4912536367, 4912814895, 4912651058, 4912519987, 4912708404, 4912519989, 4912675637, 4912741175, 4912429880, 4912569144, 4912806713, 4912495420, 4912421693, 4912839491, 4912528196, 4912716614, 4912634699, 4912429902, 4912872271, 4912872272, 4912708433, 4912659282, 4912864084, 4912454486, 4912798552, 4912847710, 4912814943, 4912397154, 4912503651, 4912855911, 4912896871, 4912782185, 4912569195, 4912683883, 4912462703, 4912757615, 4912536433, 4912888690, 4912479092, 4912642932, 4912798582, 4912413560, 4912823161, 4912905080, 4912823165, 4912593791, 4912552832, 4912913281, 4912929665, 4912774021, 4912429959, 4912405384, 4912585608, 4912610184, 4912503691, 4912774026, 4912831369, 4912896909, 4912864143, 4912724880, 4912397201, 4912757649, 4912880532, 4912511893, 4912667542, 4912831382, 4912552856, 4912741272, 4912749466, 4912618395, 4912536476, 4912855969, 4912413602, 4912503718, 4912880553, 4912790444, 4912577453, 4912520110, 4912913326, 4912454576, 4912602032, 4912626608, 4912716722, 4912733108, 4912815026, 4912651193, 4912757689, 4912602044, 4912528317, 4912462782, 4912659393, 4912724931, 4912749508, 4912552901, 4912692166, 4912806855, 4912839621, 4912675785, 4912634827, 4912643019, 4912454612, 4912798683, 4912634844, 4912741340, 4912872413, 4912446432, 4912471010, 4912495586, 4912438244, 4912741348, 4912430054, 4912897002, 4912536557, 4912585709, 4912593902, 4912610289, 4912749553, 4912757745, 4912561140, 4912700404, 4912536566, 4912684022, 4912405497, 4912905210, 4912610299, 4912806907, 4912823292, 4912684032, 4912446465, 4912888834, 4912602117, 4912561163, 4912413708, 4912929806, 4912618512, 4912421906, 4912520211, 4912479252, 4912626706, 4912569369, 4912667673, 4912782368, 4912815141, 4912528426, 4912716843, 4912577580, 4912790571, 4912700463, 4912741435, 4912421948, 4912593980, 4912454718, 4912634941, 4912446529, 4912929858, 4912651331, 4912487494, 4912798790, 4912913481, 4912462923, 4912913483, 4912577613, 4912643151, 4912397393, 4912569425, 4912839767, 4912561240, 4912430169, 4912823389, 4912823392, 4912741474, 4912725091, 4912766052, 4912561253, 4912692325, 4912708712, 4912790635, 4912659567, 4912544881, 4912602225, 4912823412, 4912487541, 4912528502, 4912651382, 4912815224, 4912880757, 4912897140, 4912643195, 4912913527, 4912872573, 4912913794, 4912471167, 4912864383, 4912921723, 4912569474, 4912807046, 4912831622, 4912520329, 4912430219, 4912815244, 4912880781, 4912610446, 4912659600, 4912807057, 4912782482, 4912544915, 4912798868, 4912848018, 4912897169, 4912864410, 4912495772, 4912667805, 4912856225, 4912676002, 4912643239, 4912536745, 4912422060, 4912798892, 4912577714, 4912815283, 4912405686, 4912880822, 4912618680, 4912839865, 4912700604, 4912676031, 4912708799, 4912757951, 4912651458, 4912463043, 4912864450, 4912454857, 4912643276, 4912422096, 4912766161, 4912594132, 4912487638, 4912610521, 4912798938, 4912872666, 4912741599, 4912856288, 4912594145, 4912725217, 4912856289, 4912618724, 4912766181, 4912872677, 4912717033, 4912700651, 4912897260, 4912528627, 4912700661, 4912880888, 4912815353, 4912430330, 4912438523, 4912790779, 4912807164, 4912913662, 4912495876, 4912454917, 4912659722, 4912839947, 4912643340, 4912667917, 4912635153, 4912790801, 4912864531, 4912684309, 4912700693, 4912848151, 4912790815, 4912930085, 4912520489, 4912659753, 4912733488, 4912692529, 4912774449, 4912536883, 4912667955, 4912717108, 4912815418, 4912471355, 4912864574, 4912749888, 4912446786, 4912872770, 4912831825, 4912897362, 4912618836, 4912807253, 4912889173, 4912455002, 4912659803, 4912889181, 4912438622, 4912504158, 4912512351, 4912594273, 4912692578, 4912799073, 4912397668, 4912848222, 4912880997, 4912708967, 4912856423, 4912741737, 4912528746, 4912733547, 4912921961, 4912487789, 4912553327, 4912569712, 4912651631, 4912586101, 4912602487, 4912708984, 4912561529, 4912897404, 4912463230, 4912504190, 4912577920, 4912414081, 4912487809, 4912577921, 4912602494, 4912840062, 4912758150, 4912856451, 4912889215, 4912913793, 4912430474, 4912668043, 4912717195, 4912921989, 4912545166, 4912602511, 4912700816, 4912930195, 4912651672, 4912700824, 4912741791, 4912438689, 4912897442, 4912504228, 4912610724, 4912487846, 4912528808, 4912676264, 4912700840, 4912856489, 4912790956, 4912922029, 4912774577, 4912414130, 4912709042, 4912815538, 4912750006, 4912479671, 4912520632, 4912618937, 4912643513, 4912446907, 4912659899, 4912750010, 4912815546, 4912446911, 4912840120, 4912864697, 4912643524, 4912831941, 4912455110, 4912848324, 4912553416, 4912856520, 4912709066, 4912864713, 4912872908, 4912643533, 4912676302, 4912561616, 4912733649, 4912627154, 4912627156, 4912422358, 4912463320, 4912700888, 4912635355, 4912766427, 4912807393, 4912594403, 4912496103, 4912741864, 4912881129, 4912659946, 4912479724, 4912414192, 4912430576, 4912471536, 4912586225, 4912627184, 4912578037, 4912725493, 4912922097, 4912897529, 4912913913, 4912610811, 4912430592, 4912602624, 4912725505, 4912823808, 4912561668, 4912668168, 4912504329, 4912586250, 4912758280, 4912782856, 4912676366, 4912930322, 4912545301, 4912913942, 4912537111, 4912471579, 4912619036, 4912512541, 4912881181, 4912504353, 4912651809, 4912692769, 4912496165, 4912733737, 4912741930, 4912873004, 4912406062, 4912635440, 4912643632, 4912782898, 4912528948, 4912594484, 4912438838, 4912397879, 4912676405, 4912856631, 4912717370, 4912700987, 4912569916, 4912594493, 4912881213, 4912700991, 4912889403, 4912406081, 4912455235, 4912406084, 4912520771, 4912627270, 4912782918, 4912848457, 4912709194, 4912832082, 4912553555, 4912553556, 4912463445, 4912553558, 4912578131, 4912807508, 4912930389, 4912430686, 4912922207, 4912447074, 4912479843, 4912840290, 4912660076, 4912823918, 4912594543, 4912406129, 4912709234, 4912668278, 4912742007, 4912512634, 4912586365, 4912545408, 4912488065, 4912471683, 4912430725, 4912725638, 4912848771, 4912479887, 4912905872, 4912602769, 4912553621, 4912905882, 4912471709, 4912594589, 4912578210, 4912504483, 4912643746, 4912758437, 4912692902, 4912537255, 4912701094, 4912471722, 4912807595, 4912398000, 4912406192, 4912463538, 4912488113, 4912627379, 4912529089, 4912717505, 4912668355, 4912750276, 4912905922, 4912750280, 4912701129, 4912676556, 4912930509, 4912619217, 4912447188, 4912766676, 4912725718, 4912750295, 4912873172, 4912832217, 4912889562, 4912537309, 4912840415, 4912488160, 4912815845, 4912848614, 4912520936, 4912578281, 4912709354, 4912496370, 4912439028, 4912586485, 4912414454, 4912856824, 4912635643, 4912553724, 4912905981, 4912897793, 4912742146, 4912840450, 4912455430, 4912455431, 4912471815, 4912480011, 4912439052, 4912914189, 4912602894, 4912848656, 4912684820, 4912529173, 4912619286, 4912832279, 4912693016, 4912627482, 4912635674, 4912774939, 4912897821, 4912676642, 4912799525, 4912406310, 4912553767, 4912832302, 4912889649, 4912512821, 4912807738, 4912922428, 4912611135, 4912701253, 4912832326, 4912578378, 4912791371, 4912717645, 4912676686, 4912815955, 4912488277, 4912521045, 4912414551, 4912488279, 4912521049, 4912545623, 4912447323, 4912562012, 4912602973, 4912406366, 4912594782, 4912725849, 4912758621, 4912783196, 4912668515, 4912488293, 4912414566, 4912897894, 4912791401, 4912553835, 4912742251, 4912430957, 4912521070, 4912521073, 4912643954, 4912422771, 4912406387, 4912906102, 4912471927, 4912627576, 4912570233, 4912406398, 4912586626, 4912512899, 4912414596, 4912660355, 4912422790, 4912676742, 4912570248, 4912603016, 4912799626, 4912832389, 4912422796, 4912840588, 4912455567, 4912856964, 4912865169, 4912619411, 4912930708, 4912824213, 4912431000, 4912578461, 4912840606, 4912496543, 4912775071, 4912414630, 4912635815, 4912856998, 4912889771, 4912463792, 4912684977, 4912816048, 4912529331, 4912676789, 4912775094, 4912783290, 4912431036, 4912709566, 4912873406, 4912512961, 4912406466, 4912873409, 4912668612, 4912455622, 4912586694, 4912889800, 4912734154, 4912512977, 4912521169, 4912725969, 4912848850, 4912414677, 4912447445, 4912709591, 4912488408, 4912742361, 4912750554, 4912414683, 4912758745, 4912824285, 4912586718, 4912529376, 4912652260, 4912676840, 4912930792, 4912594922, 4912603114, 4912545773, 4912447471, 4912537584, 4912857071, 4912463863, 4912840696, 4912693242, 4912668668, 4912488445}\n",
            "\n",
            "{4912832512, 4912865283, 4912480260, 4912898053, 4912398347, 4912611344, 4912447506, 4912799763, 4912906260, 4912578590, 4912807967, 4912660517, 4912685101, 4912554032, 4912783411, 4912857145, 4912881730, 4912816195, 4912422981, 4912513096, 4912865358, 4912824400, 4912701522, 4912521300, 4912717908, 4912742487, 4912431195, 4912521311, 4912758879, 4912554090, 4912930929, 4912545908, 4912930932, 4912758903, 4912652408, 4912463993, 4912758905, 4912504956, 4912824447, 4912750720, 4912898175, 4912726146, 4912439427, 4912603267, 4912734341, 4912906374, 4912636039, 4912914568, 4912595081, 4912595084, 4912447629, 4912652429, 4912480399, 4912644239, 4912472209, 4912496785, 4912873612, 4912562329, 4912545946, 4912660636, 4912808102, 4912652456, 4912603305, 4912431282, 4912906423, 4912726200, 4912750776, 4912701627, 4912595139, 4912513222, 4912496839, 4912677064, 4912857287, 4912586956, 4912529615, 4912701661, 4912578783, 4912521440, 4912480481, 4912906465, 4912865509, 4912488679, 4912627947, 4912627948, 4912914667, 4912685298, 4912816370, 4912570614, 4912398583, 4912554233, 4912447741, 4912480512, 4912914688, 4912660740, 4912759044, 4912800004, 4912423177, 4912480524, 4912603408, 4912619793, 4912619795, 4912496918, 4912750871, 4912693528, 4912840986, 4912824603, 4912652572, 4912783645, 4912406817, 4912750885, 4912832805, 4912505130, 4912865578, 4912439599, 4912505138, 4912537906, 4912578869, 4912529719, 4912562492, 4912513341, 4912455999, 4912570692, 4912554315, 4912734539, 4912546133, 4912669013, 4912841046, 4912406873, 4912775513, 4912636251, 4912701787, 4912628064, 4912472421, 4912791917, 4912488816, 4912922992, 4912931188, 4912554357, 4912554359, 4912718199, 4912759160, 4912685440, 4912415105, 4912464259, 4912783747, 4912791946, 4912914832, 4912488852, 4912726424, 4912529817, 4912882072, 4912734622, 4912742815, 4912505248, 4912923044, 4912693669, 4912546214, 4912849325, 4912644537, 4912439738, 4912808382, 4912816575, 4912415169, 4912800193, 4912906694, 4912669132, 4912726482, 4912406995, 4912882133, 4912849370, 4912914910, 4912447967, 4912628192, 4912759267, 4912603622, 4912529898, 4912636396, 4912447989, 4912587264, 4912448003, 4912849412, 4912644620, 4912529938, 4912521748, 4912718357, 4912906776, 4912628254, 4912677406, 4912792097, 4912570915, 4912751143, 4912489004, 4912685612, 4912480816, 4912767538, 4912652852, 4912538165, 4912882229, 4912513591, 4912898614, 4912620094, 4912423487, 4912497216, 4912710207, 4912800318, 4912824894, 4912636484, 4912611909, 4912742982, 4912841281, 4912693832, 4912611913, 4912849476, 4912480843, 4912407136, 4912448098, 4912783970, 4912726629, 4912816744, 4912890475, 4912538224, 4912800369, 4912398963, 4912726643, 4912792184, 4912898681, 4912661115, 4912677499, 4912636547, 4912865925, 4912710278, 4912579211, 4912464524, 4912857743, 4912775829, 4912513688, 4912743067, 4912546464, 4912898726, 4912620199, 4912448168, 4912833200, 4912767665, 4912702137, 4912497343, 4912407232, 4912882371, 4912718535, 4912874186, 4912628430, 4912882383, 4912923343, 4912693970, 4912415450, 4912431835, 4912898778, 4912743133, 4912906970, 4912882401, 4912677602, 4912595686, 4912849638, 4912571113, 4912759530, 4912816873, 4912603884, 4912890603, 4912931564, 4912579318, 4912685814, 4912636666, 4912931579, 4912505597, 4912726782, 4912857857, 4912554754, 4912489232, 4912866065, 4912423698, 4912562963, 4912898832, 4912644887, 4912513816, 4912669463, 4912767770, 4912792343, 4912857883, 4912431901, 4912759585, 4912743211, 4912530220, 4912694060, 4912628526, 4912866094, 4912898859, 4912833333, 4912661303, 4912440127, 4912923461, 4912710470, 4912915276, 4912620365, 4912653138, 4912579413, 4912874326, 4912882529, 4912546659, 4912776036, 4912415592, 4912407402, 4912817003, 4912767852, 4912808814, 4912931694, 4912415602, 4912554874, 4912399229, 4912489341, 4912505726, 4912423808, 4912399233, 4912882562, 4912751497, 4912423818, 4912481164, 4912456589, 4912710547, 4912759703, 4912497561, 4912931739, 4912923549, 4912685982, 4912628645, 4912595882, 4912677806, 4912759726, 4912595889, 4912726961, 4912612275, 4912497591, 4912661435, 4912866235, 4912866242, 4912513988, 4912792522, 4912628683, 4912702411, 4912669645, 4912415702, 4912587737, 4912645091, 4912800740, 4912817123, 4912464870, 4912784359, 4912858092, 4912407534, 4912489456, 4912612341, 4912399350, 4912931832, 4912710651, 4912833533, 4912612353, 4912571396, 4912555022, 4912858128, 4912530449, 4912866320, 4912636948, 4912882709, 4912808983, 4912710680, 4912653340, 4912555037, 4912735260, 4912800797, 4912636960, 4912890913, 4912661543, 4912923689, 4912596010, 4912825386, 4912776240, 4912677938, 4912710710, 4912718902, 4912727095, 4912694329, 4912735287, 4912456763, 4912505916, 4912727108, 4912759877, 4912596038, 4912702534, 4912612429, 4912874575, 4912677969, 4912464978, 4912530516, 4912587862, 4912727126, 4912653403, 4912817244, 4912464993, 4912481377, 4912653409, 4912743523, 4912628839, 4912456811, 4912931950, 4912399478, 4912538747, 4912571519, 4912473218, 4912620674, 4912505988, 4912645253, 4912899204, 4912841866, 4912874642, 4912522389, 4912661653, 4912792727, 4912751768, 4912604317, 4912424099, 4912809126, 4912899238, 4912743595, 4912866476, 4912768173, 4912850100, 4912727226, 4912792762, 4912604351, 4912637123, 4912530630, 4912784585, 4912702671, 4912817364, 4912596181, 4912514262, 4912440535, 4912571608, 4912899300, 4912481513, 4912891113, 4912415981, 4912932080, 4912620788, 4912399605, 4912547062, 4912923892, 4912506106, 4912563453, 4912620800, 4912407811, 4912710915, 4912506117, 4912882950, 4912571656, 4912555273, 4912850186, 4912432405, 4912538902, 4912743703, 4912760086, 4912760093, 4912661791, 4912874784, 4912653604, 4912702757, 4912776484, 4912907557, 4912915749, 4912416041, 4912710965, 4912637238, 4912727349, 4912842038, 4912866613, 4912457018, 4912571706, 4912891192, 4912497987, 4912448836, 4912465223, 4912866638, 4912645458, 4912776531, 4912530774, 4912547162, 4912760155, 4912915810, 4912448867, 4912883050, 4912489835, 4912399728, 4912809334, 4912678265, 4912629116, 4912686462, 4912899469, 4912743824, 4912440721, 4912809362, 4912842134, 4912579992, 4912850331, 4912784798, 4912907679, 4912711074, 4912637348, 4912563627, 4912825771, 4912448941, 4912809390, 4912874924, 4912399792, 4912530867, 4912768437, 4912612790, 4912817589, 4912702910, 4912915902, 4912833984, 4912776642, 4912793030, 4912891335, 4912932297, 4912473546, 4912694733, 4912858575, 4912440788, 4912711131, 4912555484, 4912735712, 4912588258, 4912653794, 4912686562, 4912489960, 4912899560, 4912481773, 4912711153, 4912612851, 4912727549, 4912408065, 4912891394, 4912612867, 4912629251, 4912596485, 4912629254, 4912580105, 4912866827, 4912719375, 4912547344, 4912490001, 4912465426, 4912834069, 4912662038, 4912817687, 4912891416, 4912768537, 4912449052, 4912563746, 4912735778, 4912670247, 4912637481, 4912727595, 4912416300, 4912604717, 4912555570, 4912424500, 4912498228, 4912809524, 4912580152, 4912473660, 4912621119, 4912924229, 4912408138, 4912457291, 4912850508, 4912571981, 4912481870, 4912744018, 4912866903, 4912858714, 4912653916, 4912776797, 4912883292, 4912670304, 4912522851, 4912711271, 4912752232, 4912424557, 4912744052, 4912596599, 4912555642, 4912727674, 4912612988, 4912858747, 4912785026, 4912834181, 4912899717, 4912711303, 4912440971, 4912391821, 4912760464, 4912686737, 4912637586, 4912768656, 4912408215, 4912760474, 4912547488, 4912670369, 4912547493, 4912465577, 4912735915, 4912465583, 4912473776, 4912588465, 4912629426, 4912637617, 4912891571, 4912744118, 4912588474, 4912678592, 4912588485, 4912899786, 4912531149, 4912514766, 4912416467, 4912695002, 4912932571, 4912686812, 4912735967, 4912867041, 4912875243, 4912473836, 4912727794, 4912793332, 4912826101, 4912555768, 4912678649, 4912490243, 4912482056, 4912858889, 4912801546, 4912604940, 4912531213, 4912645910, 4912629527, 4912424730, 4912465694, 4912391971, 4912490276, 4912809767, 4912588587, 4912498479, 4912473908, 4912752436, 4912473911, 4912695095, 4912424765, 4912744257, 4912686915, 4912457540, 4912555852, 4912736077, 4912899919, 4912596817, 4912392018, 4912777045, 4912613211, 4912637791, 4912842597, 4912441190, 4912654182, 4912605036, 4912646004, 4912711542, 4912547706, 4912580480, 4912539523, 4912867203, 4912875397, 4912613269, 4912621465, 4912785306, 4912637851, 4912736156, 4912629664, 4912809890, 4912408484, 4912514981, 4912555941, 4912736169, 4912482230, 4912588728, 4912883641, 4912662458, 4912793530, 4912924605, 4912580544, 4912809926, 4912457673, 4912703440, 4912687057, 4912932818, 4912728023, 4912572376, 4912596955, 4912646112, 4912605155, 4912760804, 4912744423, 4912564201, 4912678892, 4912424941, 4912662513, 4912850932, 4912531446, 4912613367, 4912441336, 4912719863, 4912752632, 4912646142, 4912506880, 4912703489, 4912834567, 4912392203, 4912588812, 4912916491, 4912424976, 4912916496, 4912465941, 4912637973, 4912531479, 4912637974, 4912810008, 4912408602, 4912498716, 4912859165, 4912564263, 4912687144, 4912834600, 4912736298, 4912728111, 4912654389, 4912916536, 4912900154, 4912728127, 4912572480, 4912883775, 4912736322, 4912908356, 4912695368, 4912457803, 4912441420, 4912760915, 4912638037, 4912646241, 4912924774, 4912793714, 4912842868, 4912523382, 4912638084, 4912433288, 4912875665, 4912507029, 4912728214, 4912408727, 4912466071, 4912449689, 4912801942, 4912810135, 4912564381, 4912916639, 4912498848, 4912892067, 4912490661, 4912507049, 4912736425, 4912859312, 4912859315, 4912613558, 4912793789, 4912752831, 4912908479, 4912736449, 4912580803, 4912433348, 4912531654, 4912556232, 4912703690, 4912859352, 4912400601, 4912548058, 4912515293, 4912842979, 4912810214, 4912711912, 4912687337, 4912916714, 4912597230, 4912744688, 4912605430, 4912933112, 4912433405, 4912826629, 4912621830, 4912670983, 4912810247, 4912466194, 4912769298, 4912875796, 4912785685, 4912449818, 4912843038, 4912892191, 4912408864, 4912744736, 4912924964, 4912752935, 4912851240, 4912474409, 4912720174, 4912736562, 4912785717, 4912810298, 4912818493, 4912728384, 4912769344, 4912392515, 4912802116, 4912458056, 4912720203, 4912523599, 4912908623, 4912703826, 4912556371, 4912662869, 4912859478, 4912580954, 4912515420, 4912867676, 4912638304, 4912564581, 4912589160, 4912662892, 4912474481, 4912630129, 4912900467, 4912605558, 4912482679, 4912712054, 4912400761, 4912671101, 4912417156, 4912859524, 4912605576, 4912425355, 4912515468, 4912703885, 4912875919, 4912490896, 4912818578, 4912843156, 4912933270, 4912892311, 4912728473, 4912884123, 4912523676, 4912892328, 4912753066, 4912679342, 4912777648, 4912761266, 4912392628, 4912499126, 4912802231, 4912589244, 4912875966, 4912744896, 4912933314, 4912433604, 4912810437, 4912916935, 4912564680, 4912925129, 4912540106, 4912572876, 4912662989, 4912490958, 4912556499, 4912695763, 4912753117, 4912654817, 4912507374, 4912630255, 4912876014, 4912744946, 4912605683, 4912482804, 4912474613, 4912851445, 4912572919, 4912867828, 4912859642, 4912515584, 4912491014, 4912777734, 4912720394, 4912491020, 4912736785, 4912925202, 4912753176, 4912785953, 4912466466, 4912900652, 4912646701, 4912794158, 4912564784, 4912802354, 4912884278, 4912400952, 4912548408, 4912425532, 4912810557, 4912908860, 4912917059, 4912450116, 4912933443, 4912466509, 4912589390, 4912802385, 4912400979, 4912556629, 4912573016, 4912851550, 4912417380, 4912876133, 4912540264, 4912745064, 4912908906, 4912761454, 4912597618, 4912401012, 4912622197, 4912851572, 4912917110, 4912679545, 4912663162, 4912753273, 4912581247, 4912720514, 4912474767, 4912851600, 4912474776, 4912646809, 4912835226, 4912458395, 4912843416, 4912786086, 4912409259, 4912777900, 4912442031, 4912663220, 4912548538, 4912450235, 4912753340, 4912655040, 4912548545, 4912802498, 4912712389, 4912835274, 4912581327, 4912589520, 4912638674, 4912483028, 4912802516, 4912884439, 4912704216, 4912433892, 4912605927, 4912556776, 4912704231, 4912777962, 4912745195, 4912810729, 4912769774, 4912818926, 4912917232, 4912696049, 4912630514, 4912556787, 4912425718, 4912679673, 4912540411, 4912401151, 4912622337, 4912794370, 4912728835, 4912884484, 4912474885, 4912761606, 4912507656, 4912392974, 4912655118, 4912483090, 4912515859, 4912548627, 4912737043, 4912532247, 4912442136, 4912868119, 4912401178, 4912483102, 4912458529, 4912745250, 4912524071, 4912818983, 4912712495, 4912638772, 4912909114, 4912892732, 4912548679, 4912663369, 4912663373, 4912499535, 4912778065, 4912499542, 4912573270, 4912728920, 4912409434, 4912704351, 4912507749, 4912474983, 4912696171, 4912909167, 4912556913, 4912892787, 4912917364, 4912810870, 4912761724, 4912868226, 4912507781, 4912622471, 4912737159, 4912647050, 4912737164, 4912835468, 4912434062, 4912737168, 4912499601, 4912483222, 4912745367, 4912524185, 4912655258, 4912475037, 4912450464, 4912728994, 4912434083, 4912901027, 4912548778, 4912581547, 4912475065, 4912704441, 4912851897, 4912769980, 4912876475, 4912810947, 4912417732, 4912548805, 4912589765, 4912704456, 4912614345, 4912573386, 4912925647, 4912884689, 4912401362, 4912778195, 4912516054, 4912409562, 4912786397, 4912909278, 4912638950, 4912401384, 4912483305, 4912892920, 4912729084, 4912843772, 4912909313, 4912434178, 4912581637, 4912712712, 4912802831, 4912499743, 4912819234, 4912688164, 4912671781, 4912884772, 4912466987, 4912761903, 4912540722, 4912770098, 4912704567, 4912729146, 4912917562, 4912434237, 4912802878, 4912524353, 4912778312, 4912868425, 4912770122, 4912417872, 4912516176, 4912565328, 4912663635, 4912622682, 4912925789, 4912647262, 4912581728, 4912450658, 4912876642, 4912909414, 4912483431, 4912786536, 4912426090, 4912745583, 4912704625, 4912426101, 4912639093, 4912647286, 4912729208, 4912630906, 4912827518, 4912614541, 4912622734, 4912868494, 4912852112, 4912909454, 4912876693, 4912573590, 4912516250, 4912516256, 4912680097, 4912827553, 4912819364, 4912778405, 4912884902, 4912934056, 4912557226, 4912483499, 4912606380, 4912467119, 4912532655, 4912565423, 4912688314, 4912893114, 4912876732, 4912417982, 4912467135, 4912925889, 4912811202, 4912827590, 4912598215, 4912852169, 4912753866, 4912508111, 4912655570, 4912745683, 4912630996, 4912696534, 4912819414, 4912663769, 4912606428, 4912590047, 4912803040, 4912598242, 4912557285, 4912827625, 4912704747, 4912499955, 4912565498, 4912671995, 4912737532, 4912852219, 4912778494, 4912901376, 4912786693, 4912868625, 4912540948, 4912835863, 4912876823, 4912762142, 4912647456, 4912475425, 4912680226, 4912393511, 4912549159, 4912631082, 4912614699, 4912762154, 4912467245, 4912827693, 4912581937, 4912606514, 4912819507, 4912590132, 4912753973, 4912794933, 4912893243, 4912508220, 4912467261, 4912442689, 4912598345, 4912688457, 4912917839, 4912516437, 4912721247, 4912631139, 4912565604, 4912672101, 4912860517, 4912401772, 4912541038, 4912704879, 4912754031, 4912442741, 4912409975, 4912696699, 4912655740, 4912917886, 4912483723, 4912696715, 4912393613, 4912827792, 4912532890, 4912410011, 4912565658, 4912647580, 4912672158, 4912434591, 4912827802, 4912459173, 4912819622, 4912852391, 4912606638, 4912491956, 4912876980, 4912844217, 4912434620, 4912598461, 4912541123, 4912680395, 4912549324, 4912541135, 4912475600, 4912819664, 4912704980, 4912631254, 4912696791, 4912811483, 4912885213, 4912762337, 4912885219, 4912762341, 4912582118, 4912893415, 4912745965, 4912418306, 4912721411, 4912483849, 4912737802, 4912459275, 4912500236, 4912844298, 4912901647, 4912877075, 4912442900, 4912459284, 4912614936, 4912827928, 4912918042, 4912451099, 4912746012, 4912688669, 4912754206, 4912459297, 4912664097, 4912401958, 4912598569, 4912713260, 4912451117, 4912655921, 4912696882, 4912574004, 4912746040, 4912705081, 4912819769, 4912516667, 4912754236, 4912680509, 4912737856, 4912844353, 4912852547, 4912434757, 4912401990, 4912533063, 4912508490, 4912811595, 4912795217, 4912623186, 4912836177, 4912721492, 4912885340, 4912893538, 4912524902, 4912516712, 4912639592, 4912582250, 4912868968, 4912778865, 4912475763, 4912615027, 4912516737, 4912893570, 4912451209, 4912500361, 4912623241, 4912901770, 4912877200, 4912713361, 4912664211, 4912533140, 4912934547, 4912565910, 4912909974, 4912500376, 4912729752, 4912402074, 4912754338, 4912803491, 4912819875, 4912410277, 4912680616, 4912680620, 4912484013, 4912869037, 4912475825, 4912844471, 4912574136, 4912500409, 4912787132, 4912426686, 4912860865, 4912434882, 4912852674, 4912623308, 4912729812, 4912664278, 4912836312, 4912836324, 4912623335, 4912525033, 4912615146, 4912885483, 4912459500, 4912770798, 4912516852, 4912631542, 4912828150, 4912582392, 4912426748, 4912541437, 4912467714, 4912926466, 4912836356, 4912713478, 4912393992, 4912566028, 4912467725, 4912426769, 4912721685, 4912901912, 4912738073, 4912877337, 4912705307, 4912910109, 4912770849, 4912852772, 4912811817, 4912639789, 4912869165, 4912582450, 4912664388, 4912418636, 4912705363, 4912410465, 4912500578, 4912476003, 4912721763, 4912410469, 4912934758, 4912910188, 4912459635, 4912631671, 4912811898, 4912459644, 4912893821, 4912426880, 4912557957, 4912754566, 4912459655, 4912877445, 4912885637, 4912926599, 4912598924, 4912844685, 4912443279, 4912738192, 4912648082, 4912779157, 4912762782, 4912664482, 4912451495, 4912852906, 4912705458, 4912787384, 4912508860, 4912672704, 4912451526, 4912541641, 4912672713, 4912811980, 4912934862, 4912435163, 4912459742, 4912558046, 4912566238, 4912918496, 4912549859, 4912787429, 4912877544, 4912902122, 4912721900, 4912877548, 4912582638, 4912902127, 4912836592, 4912459767, 4912427003, 4912820220, 4912844798, 4912517119, 4912771079, 4912664584, 4912820231, 4912803851, 4912484366, 4912574483, 4912885779, 4912713749, 4912640024, 4912828446, 4912500767, 4912861217, 4912394274, 4912656418, 4912631857, 4912934962, 4912861235, 4912468020, 4912558132, 4912689206, 4912738357, 4912926773, 4912820283, 4912656445, 4912869439, 4912918591, 4912484417, 4912697411, 4912853062, 4912599113, 4912418890, 4912771151, 4912492624, 4912779347, 4912541781, 4912894042, 4912681053, 4912762973, 4912476255, 4912844895, 4912435299, 4912762982, 4912926826, 4912607348, 4912656501, 4912812150, 4912713848, 4912435321, 4912484474, 4912574585, 4912869500, 4912648317, 4912902267, 4912394367, 4912763008, 4912484485, 4912885893, 4912697479, 4912631947, 4912738443, 4912459922, 4912803987, 4912664724, 4912803989, 4912484506, 4912738460, 4912533663, 4912443552, 4912820385, 4912861343, 4912451748, 4912918698, 4912427179, 4912574636, 4912836785, 4912615603, 4912754868, 4912705718, 4912631994, 4912926916, 4912500933, 4912771273, 4912689355, 4912713935, 4912804049, 4912672978, 4912394451, 4912492758, 4912812253, 4912402658, 4912640227, 4912484581, 4912845029, 4912804082, 4912591091, 4912410868, 4912910580, 4912443640, 4912673018, 4912533759, 4912836863, 4912845055, 4912713987, 4912795910, 4912918795, 4912394521, 4912517403, 4912509217, 4912795938, 4912861475, 4912402724, 4912640292, 4912705830, 4912927015, 4912705833, 4912869673, 4912894251, 4912558383, 4912836912, 4912468277, 4912804153, 4912648510, 4912697663, 4912492865, 4912632134, 4912460104, 4912779599, 4912886097, 4912517460, 4912812375, 4912771417, 4912795997, 4912492895, 4912623967, 4912419170, 4912533859, 4912542062, 4912812399, 4912853360, 4912550264, 4912402810, 4912746878, 4912583039, 4912517504, 4912419201, 4912804224, 4912427399, 4912443783, 4912443785, 4912460167, 4912730511, 4912402838, 4912411030, 4912927134, 4912877983, 4912435617, 4912599457, 4912820643, 4912640427, 4912665009, 4912902577, 4912615859, 4912746936, 4912837048, 4912771516, 4912542141, 4912910781, 4912787910, 4912427465, 4912681417, 4912656847, 4912869844, 4912402901, 4912517590, 4912452059, 4912673247, 4912427489, 4912484841, 4912493039, 4912935417, 4912747005, 4912902656, 4912845317, 4912812550, 4912501259, 4912689675, 4912509453, 4912656910, 4912681485, 4912452112, 4912468497, 4912484882, 4912411155, 4912574993, 4912632337, 4912599574, 4912443927, 4912779792, 4912460313, 4912730649, 4912820758, 4912722460, 4912493090, 4912738850, 4912828966, 4912615978, 4912738858, 4912804394, 4912894507, 4912542254, 4912509487, 4912763441, 4912714290, 4912460339, 4912656952, 4912788039, 4912648784, 4912525905, 4912788048, 4912869972, 4912476759, 4912829016, 4912894551, 4912878174, 4912919137, 4912607842, 4912427619, 4912861797, 4912624230, 4912869995, 4912657007, 4912558710, 4912599670, 4912583289, 4912689787, 4912837243, 4912714366, 4912427647, 4912755331, 4912542341, 4912624265, 4912730762, 4912747146, 4912435853, 4912886414, 4912591505, 4912435862, 4912558743, 4912706205, 4912722591, 4912935588, 4912738981, 4912796327, 4912878247, 4912738994, 4912468659, 4912878265, 4912403130, 4912460476, 4912730819, 4912804551, 4912526025, 4912829129, 4912542412, 4912476877, 4912714444, 4912788175, 4912566998, 4912779996, 4912444125, 4912435938, 4912411364, 4912673508, 4912780008, 4912927464, 4912763627, 4912526062, 4912886511, 4912829168, 4912575217, 4912632561, 4912894708, 4912681723, 4912485116, 4912427776, 4912689925, 4912714504, 4912550666, 4912591630, 4912853778, 4912673555, 4912722707, 4912435991, 4912689946, 4912395038, 4912452383, 4912493342, 4912878372, 4912886564, 4912640810, 4912911149, 4912935729, 4912681780, 4912395061, 4912829243, 4912558909, 4912632637, 4912411455, 4912821055, 4912837443, 4912689990, 4912403279, 4912583506, 4912780115, 4912608084, 4912845664, 4912542561, 4912436066, 4912894819, 4912796516, 4912870247, 4912714602, 4912411504, 4912567153, 4912640883, 4912690036, 4912935796, 4912829302, 4912632696, 4912665464, 4912534395, 4912583547, 4912788349, 4912575361, 4912452481, 4912444291, 4912550788, 4912526220, 4912673679, 4912444305, 4912395154, 4912780181, 4912812949, 4912886680, 4912722844, 4912788382, 4912559010, 4912657318, 4912714662, 4912739239, 4912862120, 4912804778, 4912698284, 4912640950, 4912419767, 4912608183, 4912853946, 4912714683, 4912681918, 4912780227, 4912739269, 4912755653, 4912812999, 4912870343, 4912436172, 4912575437, 4912796628, 4912534485, 4912862165, 4912763864, 4912681945, 4912542682, 4912870360, 4912542685, 4912772062, 4912698337, 4912509929, 4912911339, 4912935919, 4912485361, 4912854006, 4912526328, 4912772091, 4912452606, 4912600068, 4912477189, 4912411662, 4912731153, 4912460818, 4912509971, 4912804882, 4912911377, 4912395291, 4912534557, 4912591902, 4912518175, 4912862242, 4912485413, 4912665637, 4912690215, 4912919589, 4912428076, 4912411693, 4912837678, 4912583729, 4912903221, 4912608313, 4912469052, 4912419901, 4912641085, 4912796735, 4912641088, 4912845885, 4912747586, 4912526403, 4912616516, 4912624710, 4912501831, 4912796743, 4912657482, 4912780363, 4912919628, 4912870480, 4912485457, 4912616535, 4912632924, 4912665694, 4912854112, 4912788577, 4912673898, 4912837739, 4912600172, 4912542829, 4912813170, 4912878717, 4912936070, 4912510088, 4912919688, 4912870540, 4912829581, 4912723090, 4912764056, 4912698529, 4912755873, 4912501929, 4912534698, 4912551081, 4912403628, 4912436401, 4912420018, 4912641202, 4912444596, 4912510135, 4912764088, 4912723129, 4912813239, 4912895160, 4912911549, 4912608448, 4912886977, 4912706755, 4912813252, 4912878797, 4912682192, 4912862418, 4912501976, 4912510169, 4912723162, 4912542939, 4912747737, 4912395494, 4912665830, 4912600304, 4912829684, 4912862455, 4912805112, 4912436474, 4912641280, 4912698631, 4912821512, 4912674057, 4912796937, 4912567565, 4912747789, 4912928015, 4912502034, 4912846098, 4912870682, 4912764190, 4912854303, 4912608544, 4912862501, 4912919845, 4912641319, 4912788779, 4912428334, 4912813360, 4912444723, 4912608566, 4912616758, 4912887095, 4912829758, 4912493887, 4912584001, 4912895297, 4912780611, 4912878922, 4912649547, 4912780620, 4912911691, 4912805204, 4912411992, 4912887129, 4912502107, 4912805215, 4912723299, 4912493924, 4912928103, 4912444776, 4912518507, 4912510317, 4912420209, 4912543094, 4912657782, 4912608634, 4912395645, 4912919935, 4912706944, 4912477569, 4912829829, 4912559494, 4912747910, 4912633225, 4912616848, 4912616852, 4912674197, 4912846231, 4912838043, 4912756128, 4912919971, 4912649638, 4912461225, 4912764333, 4912690609, 4912739761, 4912502195, 4912903605, 4912584118, 4912870838, 4912911808, 4912928194, 4912592323, 4912633291, 4912788942, 4912453076, 4912805336, 4912698842, 4912412129, 4912543205, 4912502246, 4912838122, 4912412139, 4912608748, 4912723436, 4912494062, 4912682480, 4912813553, 4912723442, 4912616951, 4912813561, 4912756227, 4912592393, 4912641546, 4912477711, 4912846354, 4912870930, 4912698900, 4912821786, 4912576033, 4912404004, 4912821799, 4912657962, 4912764459, 4912494125, 4912420399, 4912592435, 4912436788, 4912502326, 4912649788, 4912584254, 4912535115, 4912936523, 4912715341, 4912625230, 4912494161, 4912846419, 4912412244, 4912469594, 4912485979, 4912567900, 4912510558, 4912895588, 4912731752, 4912789105, 4912698994, 4912428668, 4912756349, 4912453251, 4912608899, 4912420486, 4912805510, 4912551560, 4912608906, 4912445068, 4912731789, 4912543377, 4912535187, 4912486036, 4912641683, 4912436890, 4912486044, 4912608924, 4912780956, 4912477871, 4912518839, 4912649914, 4912559803, 4912789179, 4912772799, 4912559809, 4912420546, 4912723649, 4912633542, 4912740038, 4912510665, 4912469706, 4912895692, 4912428753, 4912748242, 4912862930, 4912912082, 4912813781, 4912584408, 4912797405, 4912625374, 4912731870, 4912543457, 4912838370, 4912518884, 4912666340, 4912740071, 4912609010, 4912453368, 4912617210, 4912625406, 4912535295, 4912715519, 4912879359, 4912559874, 4912781081, 4912641819, 4912903963, 4912453405, 4912551711, 4912920358, 4912903975, 4912854828, 4912510777, 4912781113, 4912887612, 4912633661, 4912748352, 4912404289, 4912420674, 4912740161, 4912813889, 4912707398, 4912740170, 4912863051, 4912707405, 4912772945, 4912461652, 4912625497, 4912658265, 4912682845, 4912912221, 4912617311, 4912461668, 4912551781, 4912666468, 4912887652, 4912895849, 4912912238, 4912748399, 4912715632, 4912691062, 4912699256, 4912789374, 4912428930, 4912887682, 4912519045, 4912494470, 4912707461, 4912928652, 4912732046, 4912543632, 4912560016, 4912453522, 4912846738, 4912854931, 4912428949, 4912830360, 4912584602, 4912674715, 4912854939, 4912863133, 4912650145, 4912658338, 4912699298, 4912764834, 4912879526, 4912928680, 4912674729, 4912527274, 4912428972, 4912428974, 4912576431, 4912674734, 4912551857, 4912412595, 4912666547, 4912543672, 4912756665, 4912437181, 4912650173, 4912740285, 4912633792, 4912723905, 4912527300, 4912912335, 4912535508, 4912920532, 4912502745, 4912781273, 4912748507, 4912420830, 4912846824, 4912429033, 4912461804, 4912469997, 4912691182, 4912437233, 4912912371, 4912658423, 4912887800, 4912879609, 4912674813, 4912666625, 4912494594, 4912789511, 4912814087, 4912510985, 4912707599, 4912633872, 4912887829, 4912453654, 4912429081, 4912855067, 4912609311, 4912797727, 4912912422, 4912584746, 4912830506, 4912511023, 4912527411, 4912642101, 4912740409, 4912896057, 4912551999, 4912773183, 4912560194, 4912699460, 4912904260, 4912846918, 4912535624, 4912715849, 4912437322, 4912625739, 4912396373, 4912658520, 4912519262, 4912527454, 4912609380, 4912478309, 4912846950, 4912896101, 4912683112, 4912601193, 4912642155, 4912429165, 4912838769, 4912511090, 4912814198, 4912838778, 4912838781, 4912691333, 4912445575, 4912699532, 4912568461, 4912421006, 4912666765, 4912453776, 4912543888, 4912625809, 4912822420, 4912486549, 4912478359, 4912502936, 4912593049, 4912568475, 4912707742, 4912732319, 4912814240, 4912765093, 4912797861, 4912863400, 4912576681, 4912756912, 4912666808, 4912707779, 4912920773, 4912535755, 4912838860, 4912847051, 4912437464, 4912675034, 4912756956, 4912806109, 4912560351, 4912453860, 4912650471, 4912879847, 4912634089, 4912863466, 4912519403, 4912855275, 4912871663, 4912462065, 4912437490, 4912552182, 4912511223, 4912904441, 4912412923, 4912478459, 4912781574, 4912773383, 4912404747, 4912666893, 4912445712, 4912814353, 4912470296, 4912568600, 4912650521, 4912929048, 4912888092, 4912396573, 4912732445, 4912503073, 4912912674, 4912601381, 4912691494, 4912781605, 4912429356, 4912494899, 4912806196, 4912707894, 4912527675, 4912675141, 4912560454, 4912920905, 4912691537, 4912904530, 4912437588, 4912757076, 4912519510, 4912626008, 4912740696, 4912462175, 4912929120, 4912675169, 4912396642, 4912585061, 4912806250, 4912445804, 4912601452, 4912724332, 4912486767, 4912822638, 4912593265, 4912847213, 4912863603, 4912454007, 4912658810, 4912888190, 4912519552, 4912527745, 4912920960, 4912519556, 4912511366, 4912920966, 4912585096, 4912535945, 4912839058, 4912437654, 4912560535, 4912740760, 4912748956, 4912757148, 4912675231, 4912626083, 4912437670, 4912904617, 4912814507, 4912912814, 4912781745, 4912527795, 4912806326, 4912617911, 4912888254, 4912699840, 4912757184, 4912847299, 4912855498, 4912683470, 4912765391, 4912806353, 4912626130, 4912822745, 4912822752, 4912724449, 4912396774, 4912896487, 4912740842, 4912839148, 4912404978, 4912790004, 4912421369, 4912568827, 4912609788, 4912855558, 4912495117, 4912617999, 4912691727, 4912929298, 4912871965, 4912937504, 4912560677, 4912560679, 4912847409, 4912405044, 4912568888, 4912454206, 4912863808, 4912872000, 4912699970, 4912822850, 4912446022, 4912527945, 4912544330, 4912618057, 4912880202, 4912929355, 4912708175, 4912642640, 4912921167, 4912511570, 4912626259, 4912577113, 4912675419, 4912724572, 4912396894, 4912495205, 4912601701, 4912732773, 4912749159, 4912585323, 4912921196, 4912740975, 4912626295, 4912405112, 4912863864, 4912732800, 4912691842, 4912913031, 4912855688, 4912675471, 4912478865, 4912503442, 4912511636, 4912781975, 4912872090, 4912806557, 4912446121, 4912831156, 4912880308, 4912519863, 4912757443, 4912618182, 4912569031, 4912560841, 4912536269, 4912749265, 4912790231, 4912487133, 4912896741, 4912929510, 4912888551, 4912691948, 4912855789, 4912749298, 4912904953, 4912495354, 4912790267, 4912634622, 4912397056, 4912552705, 4912880386, 4912708358, 4912741128, 4912831240, 4912880394, 4912724750, 4912716562, 4912921367, 4912831258, 4912511774, 4912749343, 4912773922, 4912732966, 4912798502, 4912618283, 4912864047, 4912839477, 4912692022, 4912626488, 4912405307, 4912749373, 4912593728, 4912560963, 4912479045, 4912913228, 4912626510, 4912511823, 4912675666, 4912864088, 4912929625, 4912765786, 4912405342, 4912798565, 4912577383, 4912700263, 4912929639, 4912487274, 4912495468, 4912790384, 4912528243, 4912601972, 4912528247, 4912839543, 4912733050, 4912544641, 4912528258, 4912741250, 4912446340, 4912438150, 4912921478, 4912487304, 4912421770, 4912470927, 4912651153, 4912774033, 4912757653, 4912454558, 4912741278, 4912561061, 4912593830, 4912569257, 4912470956, 4912397233, 4912929722, 4912708540, 4912921532, 4912659392, 4912708546, 4912626632, 4912765902, 4912782286, 4912847822, 4912479188, 4912430037, 4912511956, 4912831445, 4912929749, 4912749533, 4912774112, 4912544740, 4912757734, 4912839656, 4912888812, 4912921580, 4912708594, 4912692213, 4912921592, 4912765947, 4912552956, 4912487423, 4912430091, 4912725004, 4912913419, 4912659471, 4912733199, 4912921615, 4912544787, 4912684052, 4912503832, 4912847900, 4912864284, 4912495648, 4912577568, 4912610338, 4912856098, 4912905252, 4912880681, 4912831532, 4912823342, 4912888878, 4912692272, 4912872500, 4912577598, 4912733247, 4912397377, 4912675906, 4912536647, 4912454728, 4912577611, 4912585803, 4912626765, 4912413774, 4912512079, 4912602194, 4912774227, 4912749653, 4912856152, 4912618592, 4912446561, 4912651363, 4912454756, 4912471142, 4912757863, 4912757868, 4912438382, 4912405618, 4912495731, 4912790642, 4912479352, 4912585848, 4912553083, 4912503933, 4912897151, 4912888960, 4912438401, 4912635011, 4912684165, 4912610438, 4912749701, 4912503946, 4912929953, 4912512162, 4912454820, 4912905381, 4912872616, 4912471215, 4912397488, 4912553137, 4912716975, 4912446643, 4912594100, 4912864434, 4912602309, 4912831688, 4912413897, 4912733385, 4912479439, 4912643283, 4912774355, 4912889045, 4912861710, 4912626909, 4912749789, 4912520419, 4912921829, 4912823527, 4912561384, 4912585961, 4912692456, 4912708840, 4912717034, 4912708848, 4912405749, 4912463093, 4912676086, 4912889085, 4912856318, 4912692482, 4912930057, 4912504075, 4912512269, 4912405774, 4912545038, 4912569616, 4912610575, 4912561428, 4912397590, 4912782616, 4912594203, 4912749851, 4912758047, 4912905504, 4912520486, 4912553255, 4912463146, 4912807211, 4912471340, 4912725295, 4912577845, 4912921916, 4912479550, 4912602433, 4912782659, 4912799046, 4912741704, 4912651594, 4912635212, 4912561488, 4912422229, 4912414038, 4912495962, 4912627042, 4912487780, 4912823657, 4912864619, 4912430445, 4912676205, 4912692591, 4912766317, 4912692595, 4912741749, 4912700791, 4912840058, 4912610683, 4912725376, 4912782723, 4912627077, 4912684421, 4912889225, 4912823693, 4912594322, 4912897427, 4912471446, 4912405911, 4912643480, 4912536986, 4912438683, 4912864666, 4912659882, 4912905642, 4912512435, 4912889269, 4912463295, 4912717249, 4912397771, 4912586192, 4912496084, 4912569813, 4912799202, 4912692710, 4912782824, 4912553450, 4912905713, 4912487927, 4912528893, 4912709117, 4912864765, 4912594433, 4912438792, 4912446986, 4912774668, 4912684563, 4912406038, 4912446998, 4912791067, 4912758302, 4912799263, 4912537120, 4912741920, 4912823840, 4912406060, 4912815665, 4912840249, 4912873017, 4912561724, 4912397888, 4912602689, 4912635458, 4912881218, 4912750149, 4912651847, 4912635469, 4912864845, 4912569945, 4912905817, 4912766555, 4912414300, 4912496221, 4912422494, 4912815720, 4912561772, 4912447086, 4912553584, 4912430706, 4912774773, 4912619126, 4912864887, 4912610937, 4912455292, 4912684669, 4912791164, 4912856701, 4912905852, 4912922238, 4912889475, 4912914053, 4912897672, 4912406153, 4912750223, 4912873104, 4912717459, 4912676505, 4912438945, 4912635555, 4912422568, 4912627370, 4912651946, 4912684714, 4912512685, 4912733866, 4912799402, 4912692913, 4912520882, 4912864948, 4912561846, 4912438968, 4912398013, 4912479938, 4912520901, 4912611013, 4912676550, 4912414408, 4912512712, 4912783046, 4912406219, 4912570060, 4912791245, 4912529102, 4912881356, 4912643792, 4912889552, 4912848594, 4912496339, 4912651989, 4912889559, 4912774872, 4912824024, 4912905948, 4912430815, 4912520928, 4912791269, 4912594663, 4912660202, 4912504558, 4912733937, 4912504569, 4912545530, 4912414459, 4912561915, 4912611069, 4912914171, 4912693000, 4912848649, 4912824074, 4912922380, 4912652045, 4912398094, 4912865039, 4912422679, 4912742169, 4912856865, 4912758565, 4912463656, 4912668458, 4912643887, 4912873263, 4912930608, 4912611123, 4912570171, 4912897853, 4912512831, 4912881475, 4912594756, 4912496456, 4912734024, 4912815947, 4912840523, 4912529235, 4912635731, 4912676692, 4912783188, 4912398171, 4912750427, 4912766815, 4912537441, 4912693090, 4912586596, 4912791396, 4912709482, 4912562029, 4912693107, 4912922483, 4912480119, 4912455546, 4912840571, 4912488323, 4912504707, 4912914314, 4912652173, 4912545682, 4912439188, 4912398229, 4912496533, 4912906135, 4912684952, 4912611232, 4912758691, 4912791461, 4912848810, 4912922547, 4912488373, 4912570294, 4912734137, 4912414651, 4912807870, 4912447424, 4912906178, 4912701381, 4912660425, 4912537547, 4912742351, 4912881616, 4912930769, 4912840658, 4912644051, 4912766932, 4912496597, 4912873431, 4912627673, 4912717785, 4912717798, 4912496621, 4912889840, 4912898032, 4912816116, 4912553974, 4912570359, 4912562169, 4912504828, 4912881661}\n",
            "\n",
            "set()\n"
          ]
        }
      ]
    },
    {
      "cell_type": "markdown",
      "source": [
        "###<font color='purple'>*Построение гистограмм*</font>"
      ],
      "metadata": {
        "id": "ov3Sh2SynGav"
      }
    },
    {
      "cell_type": "markdown",
      "source": [
        "<font color='teal'>Построим графики распределения сумм выданных кредитов из первого датафрейма и распределения сумм операций из второго датасета.</font>"
      ],
      "metadata": {
        "id": "N7AD_5ILq5ZQ"
      }
    },
    {
      "cell_type": "code",
      "source": [
        "fig, ax = plt.subplots(1, 2, figsize=(15, 5))\n",
        "\n",
        "sns.histplot(df_1['CREDIT'], bins=7, element='step', color='mediumorchid', ax=ax[0])\n",
        "ax[0].set_title('DF 1. Credit value distribution')\n",
        "ax[0].set_xlabel('Credit')\n",
        "ax[0].set_ylabel('Count')\n",
        "\n",
        "sns.histplot(df_2['amount'], bins=2, element='step', color='mediumseagreen', ax=ax[1])\n",
        "ax[1].set_title('DF 2. Amount value distribution')\n",
        "ax[1].set_xlabel('Amount')\n",
        "ax[1].set_ylabel('Count')\n",
        "\n",
        "plt.show()"
      ],
      "metadata": {
        "colab": {
          "base_uri": "https://localhost:8080/",
          "height": 487
        },
        "id": "FfcsUuWQl9Z3",
        "outputId": "27d4e89b-f748-4edd-abee-f75b9a0de89e"
      },
      "execution_count": null,
      "outputs": [
        {
          "output_type": "display_data",
          "data": {
            "text/plain": [
              "<Figure size 1500x500 with 2 Axes>"
            ],
            "image/png": "[encoded data removed]"
          },
          "metadata": {}
        }
      ]
    },
    {
      "cell_type": "markdown",
      "source": [
        "<font color='teal'>В Plotly, судя по всему, есть свои алгоритмы для выстраивания гистограмм, пока что мне не до конца понятные, но из-за них графики принимают несколько иной вид, нежели в Matplotlib и Seaborn, при том же значении bins/nbinsx. Но интерактивные графики, тем не менее, прекрасны =)</font>"
      ],
      "metadata": {
        "id": "m0Ojz-b50ts7"
      }
    },
    {
      "cell_type": "code",
      "source": [
        "fig = make_subplots(rows=1, cols=2, subplot_titles=('DF 1. Credit value distribution', 'DF 2. Amount value distribution'))\n",
        "\n",
        "fig.add_trace(go.Histogram(x=df_1['CREDIT'], nbinsx=7, name='', marker_color='mediumorchid'), row=1, col=1)\n",
        "\n",
        "fig.add_trace(go.Histogram(x=df_2['amount'], nbinsx=2, name='', marker_color='mediumseagreen'), row=1, col=2)\n",
        "\n",
        "fig.update_xaxes(title_text='Credit', row=1, col=1)\n",
        "fig.update_xaxes(title_text='Amount', row=1, col=2)\n",
        "fig.update_yaxes(title_text='Count', row=1, col=1)\n",
        "fig.update_yaxes(title_text='Count', row=1, col=2)\n",
        "\n",
        "fig.update_layout(height=600, width=1000, showlegend=False)\n",
        "fig.show()"
      ],
      "metadata": {
        "colab": {
          "base_uri": "https://localhost:8080/",
          "height": 617
        },
        "id": "rYM2Ij_MyGZC",
        "outputId": "726732d1-c92c-40d3-bdbf-f7dc982d6e78"
      },
      "execution_count": null,
      "outputs": [
        {
          "output_type": "display_data",
          "data": {
            "text/html": [
              "<html>\n",
              "<head><meta charset=\"utf-8\" /></head>\n",
              "<body>\n",
              "    <div>            <script src=\"https://cdnjs.cloudflare.com/ajax/libs/mathjax/2.7.5/MathJax.js?config=TeX-AMS-MML_SVG\"></script><script type=\"text/javascript\">if (window.MathJax && window.MathJax.Hub && window.MathJax.Hub.Config) {window.MathJax.Hub.Config({SVG: {font: \"STIX-Web\"}});}</script>                <script type=\"text/javascript\">window.PlotlyConfig = {MathJaxConfig: 'local'};</script>\n",
              "        <script charset=\"utf-8\" src=\"https://cdn.plot.ly/plotly-2.24.1.min.js\"></script>                <div id=\"8e4a77f2-8072-47b9-ad7e-1dff3eeb6d6a\" class=\"plotly-graph-div\" style=\"height:600px; width:1000px;\"></div>            <script type=\"text/javascript\">                                    window.PLOTLYENV=window.PLOTLYENV || {};                                    if (document.getElementById(\"8e4a77f2-8072-47b9-ad7e-1dff3eeb6d6a\")) {                    Plotly.newPlot(                        \"8e4a77f2-8072-47b9-ad7e-1dff3eeb6d6a\",                        [{\"marker\":{\"color\":\"mediumorchid\"},\"name\":\"\",\"nbinsx\":7,\"x\":[125000.0,100000.0,75000.0,100000.0,150000.0,100000.0,125000.0,50000.0,175000.0,150000.0,50000.0,100000.0,150000.0,150000.0,100000.0,125000.0,25000.0,100000.0,150000.0,100000.0,75000.0,50000.0,50000.0,125000.0,100000.0,175000.0,75000.0,100000.0,125000.0,100000.0,50000.0,100000.0,100000.0,100000.0,125000.0,100000.0,175000.0,75000.0,175000.0,100000.0,150000.0,25000.0,150000.0,50000.0,50000.0,100000.0,75000.0,75000.0,75000.0,75000.0,50000.0,125000.0,25000.0,150000.0,150000.0,25000.0,75000.0,175000.0,150000.0,100000.0,50000.0,100000.0,100000.0,75000.0,100000.0,125000.0,100000.0,25000.0,100000.0,50000.0,150000.0,75000.0,100000.0,100000.0,100000.0,175000.0,25000.0,125000.0,75000.0,125000.0,100000.0,75000.0,175000.0,125000.0,75000.0,75000.0,150000.0,50000.0,100000.0,100000.0,125000.0,100000.0,75000.0,25000.0,175000.0,125000.0,175000.0,100000.0,125000.0,100000.0,100000.0,125000.0,75000.0,175000.0,125000.0,50000.0,150000.0,25000.0,100000.0,100000.0,150000.0,175000.0,100000.0,50000.0,125000.0,100000.0,75000.0,25000.0,75000.0,100000.0,75000.0,75000.0,50000.0,100000.0,25000.0,100000.0,125000.0,125000.0,75000.0,125000.0,50000.0,75000.0,100000.0,175000.0,75000.0,100000.0,125000.0,100000.0,25000.0,75000.0,125000.0,50000.0,50000.0,75000.0,75000.0,25000.0,75000.0,125000.0,175000.0,175000.0,125000.0,25000.0,100000.0,100000.0,100000.0,25000.0,125000.0,150000.0,50000.0,175000.0,100000.0,100000.0,50000.0,100000.0,25000.0,150000.0,100000.0,150000.0,75000.0,75000.0,125000.0,150000.0,100000.0,75000.0,50000.0,125000.0,50000.0,50000.0,125000.0,150000.0,175000.0,50000.0,175000.0,125000.0,175000.0,125000.0,75000.0,100000.0,175000.0,150000.0,75000.0,75000.0,25000.0,50000.0,50000.0,150000.0,100000.0,50000.0,75000.0,125000.0,75000.0,50000.0,125000.0,125000.0,150000.0,100000.0,75000.0,150000.0,125000.0,100000.0,175000.0,75000.0,75000.0,100000.0,75000.0,25000.0,175000.0,125000.0,100000.0,50000.0,100000.0,75000.0,25000.0,100000.0,100000.0,175000.0,100000.0,50000.0,75000.0,75000.0,100000.0,175000.0,150000.0,50000.0,125000.0,75000.0,50000.0,100000.0,50000.0,175000.0,100000.0,150000.0,150000.0,50000.0,100000.0,50000.0,100000.0,50000.0,125000.0,50000.0,50000.0,50000.0,175000.0,25000.0,100000.0,75000.0,75000.0,25000.0,50000.0,75000.0,125000.0,125000.0,150000.0,100000.0,50000.0,100000.0,75000.0,125000.0,100000.0,25000.0,75000.0,50000.0,125000.0,50000.0,75000.0,125000.0,100000.0,100000.0,100000.0,25000.0,50000.0,100000.0,75000.0,150000.0,125000.0,125000.0,125000.0,100000.0,75000.0,100000.0,150000.0,175000.0,125000.0,100000.0,125000.0,50000.0,100000.0,125000.0,125000.0,75000.0,25000.0,100000.0,150000.0,100000.0,100000.0,75000.0,150000.0,150000.0,50000.0,50000.0,150000.0,125000.0,125000.0,75000.0,150000.0,25000.0,50000.0,150000.0,100000.0,175000.0,75000.0,150000.0,150000.0,125000.0,50000.0,175000.0,100000.0,25000.0,100000.0,50000.0,100000.0,100000.0,125000.0,100000.0,125000.0,50000.0,150000.0,100000.0,175000.0,75000.0,150000.0,125000.0,25000.0,175000.0,150000.0,100000.0,50000.0,75000.0,100000.0,100000.0,125000.0,25000.0,100000.0,175000.0,125000.0,75000.0,125000.0,100000.0,75000.0,75000.0,125000.0,75000.0,100000.0,75000.0,25000.0,125000.0,100000.0,175000.0,75000.0,25000.0,100000.0,175000.0,75000.0,125000.0,75000.0,50000.0,50000.0,75000.0,125000.0,100000.0,100000.0,100000.0,25000.0,125000.0,175000.0,75000.0,100000.0,150000.0,100000.0,50000.0,25000.0,100000.0,150000.0,25000.0,150000.0,75000.0,125000.0,50000.0,100000.0,75000.0,50000.0,125000.0,125000.0,75000.0,175000.0,100000.0,50000.0,100000.0,100000.0,100000.0,75000.0,175000.0,100000.0,50000.0,125000.0,25000.0,100000.0,50000.0,100000.0,150000.0,125000.0,25000.0,175000.0,75000.0,25000.0,100000.0,150000.0,125000.0,50000.0,50000.0,125000.0,150000.0,125000.0,100000.0,100000.0,175000.0,75000.0,150000.0,50000.0,100000.0,100000.0,150000.0,75000.0,125000.0,150000.0,175000.0,125000.0,100000.0,50000.0,150000.0,25000.0,50000.0,75000.0,125000.0,100000.0,125000.0,75000.0,175000.0,75000.0,150000.0,100000.0,100000.0,125000.0,100000.0,25000.0,150000.0,150000.0,150000.0,50000.0,150000.0,25000.0,75000.0,125000.0,125000.0,50000.0,100000.0,175000.0,50000.0,125000.0,100000.0,125000.0,50000.0,100000.0,75000.0,50000.0,125000.0,125000.0,100000.0,175000.0,175000.0,75000.0,25000.0,100000.0,25000.0,75000.0,25000.0,150000.0,175000.0,75000.0,175000.0,50000.0,125000.0,75000.0,175000.0,75000.0,100000.0,125000.0,100000.0,100000.0,25000.0,175000.0,150000.0,125000.0,75000.0,75000.0,125000.0,50000.0,100000.0,100000.0,125000.0,150000.0,100000.0,100000.0,175000.0,100000.0,150000.0,75000.0,125000.0,100000.0,25000.0,175000.0,125000.0,125000.0,100000.0,125000.0,75000.0,75000.0,50000.0,75000.0,125000.0,100000.0,50000.0,175000.0,25000.0,75000.0,100000.0,100000.0,75000.0,100000.0,175000.0,100000.0,50000.0,150000.0,175000.0,100000.0,100000.0,100000.0,100000.0,75000.0,125000.0,25000.0,25000.0,50000.0,25000.0,50000.0,75000.0,125000.0,125000.0,75000.0,100000.0,50000.0,125000.0,100000.0,75000.0,50000.0,75000.0,25000.0,75000.0,125000.0,125000.0,75000.0,150000.0,100000.0,25000.0,75000.0,150000.0,100000.0,100000.0,100000.0,100000.0,50000.0,50000.0,175000.0,125000.0,100000.0,75000.0,100000.0,75000.0,125000.0,150000.0,25000.0,75000.0,125000.0,150000.0,100000.0,150000.0,25000.0,125000.0,100000.0,75000.0,175000.0,125000.0,100000.0,100000.0,100000.0,50000.0,175000.0,125000.0,50000.0,125000.0,75000.0,100000.0,125000.0,75000.0,150000.0,50000.0,25000.0,175000.0,75000.0,125000.0,125000.0,75000.0,75000.0,150000.0,75000.0,50000.0,100000.0,125000.0,25000.0,75000.0,50000.0,75000.0,125000.0,100000.0,25000.0,75000.0,125000.0,100000.0,25000.0,100000.0,25000.0,125000.0,50000.0,100000.0,175000.0,50000.0,100000.0,100000.0,100000.0,100000.0,100000.0,100000.0,25000.0,25000.0,75000.0,100000.0,150000.0,125000.0,100000.0,100000.0,100000.0,100000.0,50000.0,50000.0,175000.0,25000.0,100000.0,75000.0,125000.0,150000.0,125000.0,75000.0,25000.0,125000.0,25000.0,100000.0,100000.0,100000.0,25000.0,125000.0,125000.0,75000.0,25000.0,75000.0,50000.0,100000.0,100000.0,150000.0,125000.0,150000.0,75000.0,25000.0,100000.0,75000.0,75000.0,25000.0,125000.0,175000.0,150000.0,100000.0,75000.0,25000.0,75000.0,100000.0,100000.0,150000.0,50000.0,125000.0,125000.0,100000.0,25000.0,100000.0,50000.0,125000.0,150000.0,75000.0,25000.0,75000.0,75000.0,125000.0,125000.0,125000.0,100000.0,150000.0,125000.0,125000.0,25000.0,75000.0,50000.0,150000.0,25000.0,50000.0,50000.0,100000.0,75000.0,100000.0,125000.0,100000.0,100000.0,125000.0,50000.0,25000.0,25000.0,175000.0,75000.0,100000.0,100000.0,75000.0,75000.0,100000.0,100000.0,150000.0,75000.0,125000.0,125000.0,75000.0,125000.0,75000.0,100000.0,50000.0,100000.0,150000.0,50000.0,50000.0,100000.0,50000.0,50000.0,150000.0,25000.0,75000.0,75000.0,50000.0,75000.0,75000.0,100000.0,100000.0,100000.0,150000.0,50000.0,175000.0,175000.0,25000.0,100000.0,150000.0,100000.0,25000.0,75000.0,125000.0,125000.0,100000.0,100000.0,50000.0,50000.0,100000.0,150000.0,75000.0,75000.0,175000.0,50000.0,150000.0,150000.0,50000.0,100000.0,125000.0,125000.0,25000.0,100000.0,50000.0,125000.0,50000.0,50000.0,175000.0,50000.0,100000.0,50000.0,150000.0,25000.0,100000.0,25000.0,150000.0,50000.0,100000.0,125000.0,125000.0,50000.0,175000.0,150000.0,50000.0,100000.0,150000.0,150000.0,100000.0,125000.0,25000.0,100000.0,150000.0,100000.0,75000.0,50000.0,50000.0,125000.0,100000.0,175000.0,75000.0,100000.0,125000.0,100000.0,50000.0,100000.0,100000.0,100000.0,125000.0,100000.0,175000.0,75000.0,175000.0,100000.0,150000.0,25000.0,150000.0,50000.0,50000.0,100000.0,75000.0,75000.0,75000.0,75000.0,50000.0,125000.0,25000.0,150000.0,150000.0,25000.0,75000.0,175000.0,150000.0,100000.0,50000.0,100000.0,100000.0,75000.0,100000.0,125000.0,100000.0,25000.0,100000.0,50000.0,150000.0,75000.0,100000.0,100000.0,100000.0,175000.0,25000.0,125000.0,75000.0,125000.0,100000.0,75000.0,175000.0,125000.0,75000.0,75000.0,150000.0,50000.0,100000.0,100000.0,125000.0,100000.0,75000.0,25000.0,175000.0,125000.0,175000.0,100000.0,125000.0,100000.0,100000.0,125000.0,75000.0,175000.0,125000.0,50000.0,150000.0,25000.0,100000.0,100000.0,150000.0,175000.0,100000.0,50000.0,125000.0,100000.0,75000.0,25000.0,75000.0,100000.0,75000.0,75000.0,50000.0,100000.0,25000.0,100000.0,125000.0,125000.0,75000.0,125000.0,50000.0,75000.0,100000.0,175000.0,75000.0,100000.0,125000.0,100000.0,25000.0,75000.0,125000.0,50000.0,50000.0,75000.0,75000.0,25000.0,75000.0,125000.0,175000.0,175000.0,125000.0,25000.0,100000.0,100000.0,100000.0,25000.0,125000.0,150000.0,50000.0,175000.0,100000.0,100000.0,50000.0,100000.0,25000.0,150000.0,100000.0,150000.0,75000.0,75000.0,125000.0,150000.0,100000.0,75000.0,50000.0,125000.0,50000.0,50000.0,125000.0,150000.0,175000.0,50000.0,175000.0,125000.0,175000.0,125000.0,75000.0,100000.0,175000.0,150000.0,75000.0,75000.0,25000.0,50000.0,50000.0,150000.0,100000.0,50000.0,75000.0,125000.0,75000.0,50000.0,125000.0,125000.0,150000.0,100000.0,75000.0,150000.0,125000.0,100000.0,175000.0,75000.0,75000.0,100000.0,75000.0,25000.0,175000.0,125000.0,100000.0,50000.0,100000.0,75000.0,25000.0,100000.0,100000.0,175000.0,100000.0,50000.0,75000.0,75000.0,100000.0,175000.0,150000.0,50000.0,125000.0,75000.0,50000.0,100000.0,50000.0,175000.0,100000.0,150000.0,150000.0,50000.0,100000.0,50000.0,100000.0,50000.0,125000.0,50000.0,50000.0,50000.0,175000.0,25000.0,100000.0,75000.0,75000.0,25000.0,50000.0,75000.0,125000.0,125000.0,150000.0,100000.0,50000.0,100000.0,75000.0,125000.0,100000.0,25000.0,75000.0,50000.0,125000.0,50000.0,75000.0,125000.0,100000.0,100000.0,100000.0,25000.0,50000.0,100000.0,75000.0,150000.0,125000.0,125000.0,125000.0,100000.0,75000.0,100000.0,150000.0,175000.0,125000.0,100000.0,125000.0,50000.0,100000.0,125000.0,125000.0,75000.0,25000.0,100000.0,150000.0,100000.0,100000.0,75000.0,150000.0,150000.0,50000.0,50000.0,150000.0,125000.0,125000.0,75000.0,150000.0,25000.0,50000.0,150000.0,100000.0,175000.0,75000.0,150000.0,150000.0,125000.0,50000.0,175000.0,100000.0,25000.0,100000.0,50000.0,100000.0,100000.0,125000.0,100000.0,125000.0,50000.0,150000.0,100000.0,175000.0,75000.0,150000.0,125000.0,25000.0,175000.0,150000.0,100000.0,50000.0,75000.0,100000.0,100000.0,125000.0,25000.0,100000.0,175000.0,125000.0,75000.0,125000.0,100000.0,75000.0,75000.0,125000.0,75000.0,100000.0,75000.0,25000.0,125000.0,100000.0,175000.0,75000.0,25000.0,100000.0,175000.0,75000.0,125000.0,75000.0,50000.0,50000.0,75000.0,125000.0,100000.0,100000.0,100000.0,25000.0,125000.0,175000.0,75000.0,100000.0,150000.0,100000.0,50000.0,25000.0,100000.0,150000.0,25000.0,150000.0,75000.0,125000.0,50000.0,100000.0,75000.0,50000.0,125000.0,125000.0,75000.0,175000.0,100000.0,50000.0,100000.0,100000.0,100000.0,75000.0,175000.0,100000.0,50000.0,125000.0,25000.0,100000.0,50000.0,100000.0,150000.0,125000.0,25000.0,175000.0,75000.0,25000.0,100000.0,150000.0,125000.0,50000.0,50000.0,125000.0,150000.0,125000.0,100000.0,100000.0,175000.0,75000.0,150000.0,50000.0,100000.0,100000.0,150000.0,75000.0,125000.0,150000.0,175000.0,125000.0,100000.0,50000.0,150000.0,25000.0,50000.0,75000.0,125000.0,100000.0,125000.0,75000.0,175000.0,75000.0,150000.0,100000.0,100000.0,125000.0,100000.0,25000.0,150000.0,150000.0,150000.0,50000.0,150000.0,25000.0,75000.0,125000.0,125000.0,50000.0,100000.0,175000.0,50000.0,125000.0,100000.0,125000.0,50000.0,100000.0,75000.0,50000.0,125000.0,125000.0,100000.0,175000.0,175000.0,75000.0,25000.0,100000.0,25000.0,75000.0,25000.0,150000.0,175000.0,75000.0,175000.0,50000.0,125000.0,75000.0,175000.0,75000.0,100000.0,125000.0,100000.0,100000.0,25000.0,175000.0,150000.0,125000.0,75000.0,75000.0,125000.0,50000.0,100000.0,100000.0,125000.0,150000.0,100000.0,100000.0,175000.0,100000.0,150000.0,75000.0,125000.0,100000.0,25000.0,175000.0,125000.0,125000.0,100000.0,125000.0,75000.0,75000.0,50000.0,75000.0,125000.0,100000.0,50000.0,175000.0,25000.0,75000.0,100000.0,100000.0,75000.0,100000.0,175000.0,100000.0,50000.0,150000.0,175000.0,100000.0,100000.0,100000.0,100000.0,75000.0,125000.0,25000.0,25000.0,50000.0,25000.0,50000.0,75000.0,125000.0,125000.0,75000.0,100000.0,50000.0,125000.0,100000.0,75000.0,50000.0,75000.0,25000.0,75000.0,125000.0,125000.0,75000.0,150000.0,100000.0,25000.0,75000.0,150000.0,100000.0,100000.0,100000.0,100000.0,50000.0,50000.0,175000.0,125000.0,100000.0,75000.0,100000.0,75000.0,125000.0,150000.0,25000.0,75000.0,125000.0,150000.0,100000.0,150000.0,25000.0,125000.0,100000.0,75000.0,175000.0,125000.0,100000.0,100000.0,100000.0,50000.0,175000.0,125000.0,50000.0,125000.0,75000.0,100000.0,125000.0,75000.0,150000.0,50000.0,25000.0,175000.0,75000.0,125000.0,125000.0,75000.0,75000.0,150000.0,75000.0,50000.0,100000.0,125000.0,25000.0,75000.0,50000.0,75000.0,125000.0,100000.0,25000.0,75000.0,125000.0,100000.0,25000.0,100000.0,25000.0,125000.0,50000.0,100000.0,175000.0,50000.0,100000.0,100000.0,100000.0,100000.0,100000.0,100000.0,25000.0,25000.0,75000.0,100000.0,150000.0,125000.0,100000.0,100000.0,100000.0,100000.0,50000.0,50000.0,175000.0,25000.0,100000.0,75000.0,125000.0,150000.0,125000.0,75000.0,25000.0,125000.0,25000.0,100000.0,100000.0,100000.0,25000.0,125000.0,125000.0,75000.0,25000.0,75000.0,50000.0,100000.0,100000.0,150000.0,125000.0,150000.0,75000.0,25000.0,100000.0,75000.0,75000.0,25000.0,125000.0,175000.0,150000.0,100000.0,75000.0,25000.0,75000.0,100000.0,100000.0,150000.0,50000.0,125000.0,125000.0,100000.0,25000.0,100000.0,50000.0,125000.0,150000.0,75000.0,25000.0,75000.0,75000.0,125000.0,125000.0,125000.0,100000.0,150000.0,125000.0,125000.0,25000.0,75000.0,50000.0,150000.0,25000.0,50000.0,50000.0,100000.0,75000.0,100000.0,125000.0,100000.0,100000.0,125000.0,50000.0,25000.0,25000.0,175000.0,75000.0,100000.0,100000.0,75000.0,75000.0,100000.0,100000.0,150000.0,75000.0,125000.0,125000.0,75000.0,125000.0,75000.0,100000.0,50000.0,100000.0,150000.0,50000.0,50000.0,100000.0,50000.0,50000.0,150000.0,25000.0,75000.0,75000.0,50000.0,75000.0,75000.0,100000.0,100000.0,100000.0,150000.0,50000.0,175000.0,175000.0,25000.0,100000.0,150000.0,100000.0,25000.0,75000.0,125000.0,125000.0,100000.0,100000.0,50000.0,50000.0,100000.0,150000.0,75000.0,75000.0,175000.0,50000.0,150000.0,150000.0,50000.0,100000.0,125000.0,125000.0,25000.0,100000.0,50000.0,125000.0,50000.0,50000.0,175000.0,50000.0,100000.0,50000.0,150000.0,25000.0,100000.0,25000.0,150000.0,50000.0,100000.0,125000.0],\"type\":\"histogram\",\"xaxis\":\"x\",\"yaxis\":\"y\"},{\"marker\":{\"color\":\"mediumseagreen\"},\"name\":\"\",\"nbinsx\":2,\"x\":[150.0,220.0,150.0,220.0,150.0,220.0,180.0,150.0,220.0,180.0,150.0,220.0,180.0,150.0,220.0,150.0,220.0,180.0,180.0,180.0,180.0,180.0,220.0,1620.0,220.0,150.0,220.0,1980.0,150.0,220.0,180.0,1980.0,1350.0,1620.0,220.0,150.0,220.0,1980.0,150.0,220.0,180.0,1980.0,1350.0,1620.0,220.0,150.0,220.0,1980.0,150.0,220.0,180.0,1980.0,1350.0,150.0,220.0,150.0,220.0,150.0,220.0,180.0,150.0,220.0,180.0,150.0,220.0,180.0,150.0,220.0,150.0,220.0,180.0,180.0,180.0,180.0,180.0,220.0,180.0,220.0,150.0,180.0,180.0,14400.0,180.0,180.0,220.0,180.0,220.0,150.0,1980.0,1350.0,1620.0,150.0,220.0,150.0,220.0,150.0,14400.0,180.0,150.0,220.0,180.0,150.0,220.0,180.0,150.0,220.0,150.0,220.0,180.0,180.0,180.0,180.0,180.0,220.0,1620.0,220.0,150.0,220.0,180.0,150.0,220.0,180.0,150.0,220.0,180.0,150.0,220.0,150.0,220.0,180.0,180.0,180.0,180.0,180.0,220.0,1620.0,220.0,150.0,220.0,1980.0,150.0,220.0,180.0,1980.0,1350.0,1620.0,220.0,150.0,220.0,1980.0,150.0,220.0,180.0,1980.0,1350.0,1620.0,220.0,150.0,220.0,1980.0,150.0,220.0,180.0,1980.0,1350.0,150.0,220.0,150.0,220.0,150.0,220.0,180.0,150.0,220.0,180.0,150.0,220.0,180.0,150.0,220.0,150.0,220.0,180.0,180.0,180.0,180.0,180.0,220.0,180.0,220.0,150.0,180.0,180.0,180.0,180.0,180.0,220.0,180.0,220.0,150.0,1980.0,1350.0,1620.0,150.0,220.0,150.0,220.0,150.0,220.0,180.0,150.0,220.0,180.0,150.0,220.0,180.0,150.0,220.0,150.0,220.0,180.0,180.0,180.0,180.0,180.0,220.0,1620.0,220.0,150.0,220.0,180.0,150.0,220.0,180.0,150.0,220.0,180.0,150.0,220.0,150.0,220.0,180.0,180.0,180.0,180.0,180.0,220.0,1620.0,220.0,150.0,220.0,1980.0,150.0,220.0,180.0,1980.0,1350.0,1620.0,220.0,150.0,220.0,1980.0,150.0,220.0,180.0,1980.0,1350.0,1620.0,220.0,150.0,220.0,1980.0,150.0,220.0,180.0,1980.0,1350.0,150.0,220.0,150.0,220.0,150.0,220.0,180.0,150.0,220.0,180.0,150.0,220.0,180.0,150.0,220.0,150.0,220.0,180.0,180.0,180.0,180.0,180.0,220.0,180.0,220.0,150.0,180.0,180.0,180.0,180.0,180.0,220.0,180.0,220.0,150.0,1980.0,1350.0,1620.0,150.0,220.0,17600.0,220.0,150.0,220.0,180.0,150.0,220.0,180.0,150.0,220.0,180.0,150.0,220.0,150.0,220.0,180.0,180.0,180.0,180.0,180.0,220.0,1620.0,180.0,150.0,220.0,150.0,220.0,180.0,180.0,180.0,180.0,180.0,220.0,1620.0,180.0,150.0,220.0,180.0,150.0,220.0,180.0,150.0,220.0,150.0,220.0,180.0,180.0,180.0,180.0,180.0,220.0,1620.0,220.0,150.0,220.0,1980.0,150.0,220.0,180.0,1980.0,1350.0,1620.0,220.0,150.0,220.0,1980.0,150.0,220.0,180.0,1980.0,1350.0,1620.0,220.0,150.0,220.0,1980.0,150.0,220.0,180.0,1980.0,1350.0,150.0,220.0,150.0,220.0,150.0,220.0,180.0,150.0,220.0,180.0,150.0,220.0,180.0,150.0,220.0,150.0,220.0,180.0,180.0,180.0,180.0,180.0,220.0,180.0,220.0,150.0,180.0,180.0,180.0,180.0,180.0,220.0,180.0,220.0,150.0,1980.0,1350.0,1620.0,150.0,220.0,150.0,220.0,150.0,220.0,180.0,150.0,220.0,180.0,150.0,220.0,180.0,150.0,220.0,150.0,220.0,180.0,180.0,180.0,180.0,180.0,220.0,1620.0,220.0,150.0,220.0,180.0,150.0,220.0,180.0,150.0,220.0,180.0,150.0,220.0,150.0,220.0,180.0,180.0,180.0,180.0,180.0,220.0,1620.0,220.0,150.0,220.0,1980.0,150.0,220.0,180.0,1980.0,1350.0,1620.0,220.0,150.0,220.0,1980.0,150.0,220.0,180.0,1980.0,1350.0,1620.0,220.0,150.0,220.0,1980.0,150.0,220.0,180.0,1980.0,1350.0,150.0,220.0,150.0,220.0,150.0,220.0,180.0,150.0,220.0,180.0,150.0,220.0,180.0,150.0,220.0,150.0,220.0,180.0,180.0,180.0,180.0,180.0,220.0,180.0,220.0,150.0,180.0,180.0,180.0,180.0,180.0,220.0,180.0,220.0,150.0,1980.0,1350.0,1620.0,150.0,220.0,150.0,220.0,150.0,220.0,180.0,150.0,220.0,180.0,150.0,220.0,180.0,150.0,220.0,150.0,220.0,180.0,180.0,180.0,180.0,180.0,220.0,1620.0,220.0,150.0,220.0,180.0,150.0,220.0,180.0,150.0,220.0,180.0,150.0,220.0,150.0,220.0,180.0,180.0,180.0,180.0,180.0,220.0,1620.0,220.0,150.0,220.0,1980.0,150.0,220.0,180.0,1980.0,1350.0,1620.0,220.0,150.0,220.0,1980.0,150.0,220.0,180.0,1980.0,1350.0,1620.0,220.0,150.0,220.0,1980.0,150.0,220.0,180.0,1980.0,1350.0,150.0,220.0,150.0,220.0,150.0,220.0,180.0,150.0,220.0,180.0,150.0,220.0,180.0,150.0,220.0,150.0,220.0,180.0,180.0,180.0,180.0,180.0,220.0,180.0,220.0,150.0,180.0,180.0,180.0,180.0,180.0,220.0,180.0,220.0,150.0,1980.0,1350.0,1620.0,150.0,220.0,150.0,220.0,150.0,220.0,180.0,150.0,220.0,180.0,150.0,220.0,180.0,150.0,220.0,150.0,220.0,180.0,180.0,180.0,180.0,180.0,220.0,1620.0,180.0,150.0,220.0,150.0,220.0,180.0,180.0,180.0,180.0,180.0,220.0,1620.0,180.0,150.0,220.0,180.0,1980.0,220.0,180.0,150.0,220.0,150.0,220.0,180.0,180.0,180.0,180.0,180.0,220.0,1620.0,220.0,150.0,220.0,1980.0,150.0,220.0,180.0,1980.0,1350.0,1620.0,220.0,150.0,220.0,1980.0,150.0,220.0,180.0,1980.0,1350.0,1620.0,220.0,150.0,220.0,1980.0,150.0,220.0,180.0,1980.0,1350.0,150.0,220.0,150.0,220.0,150.0,220.0,180.0,150.0,220.0,180.0,150.0,220.0,180.0,150.0,220.0,150.0,220.0,180.0,180.0,1980.0,180.0,180.0,220.0,180.0,220.0,150.0,180.0,180.0,180.0,180.0,180.0,220.0,180.0,220.0,150.0,1980.0,1350.0,1620.0,150.0,220.0,150.0,220.0,150.0,220.0,180.0,150.0,220.0,180.0,150.0,220.0,180.0,150.0,220.0,150.0,220.0,1980.0,180.0,180.0,180.0,1620.0,220.0,1620.0,220.0,150.0,220.0,180.0,150.0,1620.0,180.0,150.0,220.0,180.0,150.0,220.0,150.0,220.0,180.0,180.0,180.0,180.0,180.0,220.0,1620.0,220.0,150.0,220.0,1980.0,150.0,220.0,180.0,1980.0,1350.0,1620.0,220.0,150.0,220.0,1980.0,150.0,220.0,180.0,1980.0,1350.0,1620.0,220.0,150.0,220.0,1980.0,150.0,220.0,180.0,1980.0,1350.0,150.0,220.0,150.0,1980.0,150.0,220.0,12000.0,150.0,220.0,180.0,150.0,220.0,1620.0,150.0,220.0,150.0,220.0,180.0,180.0,180.0,180.0,180.0,220.0,180.0,220.0,150.0,180.0,180.0,180.0,1980.0,180.0,220.0,180.0,220.0,150.0,1980.0,1350.0,1620.0,150.0,220.0,150.0,220.0,150.0,220.0,1980.0,150.0,220.0,180.0,150.0,220.0,1980.0,150.0,220.0,150.0,220.0,180.0,180.0,180.0,180.0,180.0,220.0,1620.0,220.0,150.0,220.0,180.0,150.0,220.0,180.0,150.0,220.0,180.0,150.0,220.0,150.0,220.0,180.0,180.0,180.0,180.0,180.0,220.0,1620.0,220.0,150.0,220.0,1980.0,150.0,220.0,180.0,1980.0,1350.0,1620.0,220.0,150.0,220.0,1980.0,150.0,220.0,180.0,1980.0,1350.0,1620.0,220.0,150.0,220.0,1980.0,150.0,220.0,180.0,1980.0,1350.0,150.0,220.0,150.0,220.0,150.0,220.0,180.0,150.0,220.0,180.0,150.0,220.0,180.0,150.0,220.0,150.0,220.0,180.0,180.0,180.0,180.0,180.0,220.0,180.0,220.0,150.0,180.0,180.0,180.0,180.0,180.0,220.0,180.0,220.0,150.0,1980.0,1350.0,1620.0,150.0,220.0,150.0,220.0,150.0,220.0,180.0,150.0,220.0,180.0,150.0,220.0,180.0,150.0,220.0,150.0,220.0,180.0,180.0,180.0,180.0,180.0,220.0,1620.0,180.0,150.0,220.0,150.0,220.0,180.0,180.0,12000.0,180.0,180.0,220.0,1620.0],\"type\":\"histogram\",\"xaxis\":\"x2\",\"yaxis\":\"y2\"}],                        {\"template\":{\"data\":{\"histogram2dcontour\":[{\"type\":\"histogram2dcontour\",\"colorbar\":{\"outlinewidth\":0,\"ticks\":\"\"},\"colorscale\":[[0.0,\"#0d0887\"],[0.1111111111111111,\"#46039f\"],[0.2222222222222222,\"#7201a8\"],[0.3333333333333333,\"#9c179e\"],[0.4444444444444444,\"#bd3786\"],[0.5555555555555556,\"#d8576b\"],[0.6666666666666666,\"#ed7953\"],[0.7777777777777778,\"#fb9f3a\"],[0.8888888888888888,\"#fdca26\"],[1.0,\"#f0f921\"]]}],\"choropleth\":[{\"type\":\"choropleth\",\"colorbar\":{\"outlinewidth\":0,\"ticks\":\"\"}}],\"histogram2d\":[{\"type\":\"histogram2d\",\"colorbar\":{\"outlinewidth\":0,\"ticks\":\"\"},\"colorscale\":[[0.0,\"#0d0887\"],[0.1111111111111111,\"#46039f\"],[0.2222222222222222,\"#7201a8\"],[0.3333333333333333,\"#9c179e\"],[0.4444444444444444,\"#bd3786\"],[0.5555555555555556,\"#d8576b\"],[0.6666666666666666,\"#ed7953\"],[0.7777777777777778,\"#fb9f3a\"],[0.8888888888888888,\"#fdca26\"],[1.0,\"#f0f921\"]]}],\"heatmap\":[{\"type\":\"heatmap\",\"colorbar\":{\"outlinewidth\":0,\"ticks\":\"\"},\"colorscale\":[[0.0,\"#0d0887\"],[0.1111111111111111,\"#46039f\"],[0.2222222222222222,\"#7201a8\"],[0.3333333333333333,\"#9c179e\"],[0.4444444444444444,\"#bd3786\"],[0.5555555555555556,\"#d8576b\"],[0.6666666666666666,\"#ed7953\"],[0.7777777777777778,\"#fb9f3a\"],[0.8888888888888888,\"#fdca26\"],[1.0,\"#f0f921\"]]}],\"heatmapgl\":[{\"type\":\"heatmapgl\",\"colorbar\":{\"outlinewidth\":0,\"ticks\":\"\"},\"colorscale\":[[0.0,\"#0d0887\"],[0.1111111111111111,\"#46039f\"],[0.2222222222222222,\"#7201a8\"],[0.3333333333333333,\"#9c179e\"],[0.4444444444444444,\"#bd3786\"],[0.5555555555555556,\"#d8576b\"],[0.6666666666666666,\"#ed7953\"],[0.7777777777777778,\"#fb9f3a\"],[0.8888888888888888,\"#fdca26\"],[1.0,\"#f0f921\"]]}],\"contourcarpet\":[{\"type\":\"contourcarpet\",\"colorbar\":{\"outlinewidth\":0,\"ticks\":\"\"}}],\"contour\":[{\"type\":\"contour\",\"colorbar\":{\"outlinewidth\":0,\"ticks\":\"\"},\"colorscale\":[[0.0,\"#0d0887\"],[0.1111111111111111,\"#46039f\"],[0.2222222222222222,\"#7201a8\"],[0.3333333333333333,\"#9c179e\"],[0.4444444444444444,\"#bd3786\"],[0.5555555555555556,\"#d8576b\"],[0.6666666666666666,\"#ed7953\"],[0.7777777777777778,\"#fb9f3a\"],[0.8888888888888888,\"#fdca26\"],[1.0,\"#f0f921\"]]}],\"surface\":[{\"type\":\"surface\",\"colorbar\":{\"outlinewidth\":0,\"ticks\":\"\"},\"colorscale\":[[0.0,\"#0d0887\"],[0.1111111111111111,\"#46039f\"],[0.2222222222222222,\"#7201a8\"],[0.3333333333333333,\"#9c179e\"],[0.4444444444444444,\"#bd3786\"],[0.5555555555555556,\"#d8576b\"],[0.6666666666666666,\"#ed7953\"],[0.7777777777777778,\"#fb9f3a\"],[0.8888888888888888,\"#fdca26\"],[1.0,\"#f0f921\"]]}],\"mesh3d\":[{\"type\":\"mesh3d\",\"colorbar\":{\"outlinewidth\":0,\"ticks\":\"\"}}],\"scatter\":[{\"fillpattern\":{\"fillmode\":\"overlay\",\"size\":10,\"solidity\":0.2},\"type\":\"scatter\"}],\"parcoords\":[{\"type\":\"parcoords\",\"line\":{\"colorbar\":{\"outlinewidth\":0,\"ticks\":\"\"}}}],\"scatterpolargl\":[{\"type\":\"scatterpolargl\",\"marker\":{\"colorbar\":{\"outlinewidth\":0,\"ticks\":\"\"}}}],\"bar\":[{\"error_x\":{\"color\":\"#2a3f5f\"},\"error_y\":{\"color\":\"#2a3f5f\"},\"marker\":{\"line\":{\"color\":\"#E5ECF6\",\"width\":0.5},\"pattern\":{\"fillmode\":\"overlay\",\"size\":10,\"solidity\":0.2}},\"type\":\"bar\"}],\"scattergeo\":[{\"type\":\"scattergeo\",\"marker\":{\"colorbar\":{\"outlinewidth\":0,\"ticks\":\"\"}}}],\"scatterpolar\":[{\"type\":\"scatterpolar\",\"marker\":{\"colorbar\":{\"outlinewidth\":0,\"ticks\":\"\"}}}],\"histogram\":[{\"marker\":{\"pattern\":{\"fillmode\":\"overlay\",\"size\":10,\"solidity\":0.2}},\"type\":\"histogram\"}],\"scattergl\":[{\"type\":\"scattergl\",\"marker\":{\"colorbar\":{\"outlinewidth\":0,\"ticks\":\"\"}}}],\"scatter3d\":[{\"type\":\"scatter3d\",\"line\":{\"colorbar\":{\"outlinewidth\":0,\"ticks\":\"\"}},\"marker\":{\"colorbar\":{\"outlinewidth\":0,\"ticks\":\"\"}}}],\"scattermapbox\":[{\"type\":\"scattermapbox\",\"marker\":{\"colorbar\":{\"outlinewidth\":0,\"ticks\":\"\"}}}],\"scatterternary\":[{\"type\":\"scatterternary\",\"marker\":{\"colorbar\":{\"outlinewidth\":0,\"ticks\":\"\"}}}],\"scattercarpet\":[{\"type\":\"scattercarpet\",\"marker\":{\"colorbar\":{\"outlinewidth\":0,\"ticks\":\"\"}}}],\"carpet\":[{\"aaxis\":{\"endlinecolor\":\"#2a3f5f\",\"gridcolor\":\"white\",\"linecolor\":\"white\",\"minorgridcolor\":\"white\",\"startlinecolor\":\"#2a3f5f\"},\"baxis\":{\"endlinecolor\":\"#2a3f5f\",\"gridcolor\":\"white\",\"linecolor\":\"white\",\"minorgridcolor\":\"white\",\"startlinecolor\":\"#2a3f5f\"},\"type\":\"carpet\"}],\"table\":[{\"cells\":{\"fill\":{\"color\":\"#EBF0F8\"},\"line\":{\"color\":\"white\"}},\"header\":{\"fill\":{\"color\":\"#C8D4E3\"},\"line\":{\"color\":\"white\"}},\"type\":\"table\"}],\"barpolar\":[{\"marker\":{\"line\":{\"color\":\"#E5ECF6\",\"width\":0.5},\"pattern\":{\"fillmode\":\"overlay\",\"size\":10,\"solidity\":0.2}},\"type\":\"barpolar\"}],\"pie\":[{\"automargin\":true,\"type\":\"pie\"}]},\"layout\":{\"autotypenumbers\":\"strict\",\"colorway\":[\"#636efa\",\"#EF553B\",\"#00cc96\",\"#ab63fa\",\"#FFA15A\",\"#19d3f3\",\"#FF6692\",\"#B6E880\",\"#FF97FF\",\"#FECB52\"],\"font\":{\"color\":\"#2a3f5f\"},\"hovermode\":\"closest\",\"hoverlabel\":{\"align\":\"left\"},\"paper_bgcolor\":\"white\",\"plot_bgcolor\":\"#E5ECF6\",\"polar\":{\"bgcolor\":\"#E5ECF6\",\"angularaxis\":{\"gridcolor\":\"white\",\"linecolor\":\"white\",\"ticks\":\"\"},\"radialaxis\":{\"gridcolor\":\"white\",\"linecolor\":\"white\",\"ticks\":\"\"}},\"ternary\":{\"bgcolor\":\"#E5ECF6\",\"aaxis\":{\"gridcolor\":\"white\",\"linecolor\":\"white\",\"ticks\":\"\"},\"baxis\":{\"gridcolor\":\"white\",\"linecolor\":\"white\",\"ticks\":\"\"},\"caxis\":{\"gridcolor\":\"white\",\"linecolor\":\"white\",\"ticks\":\"\"}},\"coloraxis\":{\"colorbar\":{\"outlinewidth\":0,\"ticks\":\"\"}},\"colorscale\":{\"sequential\":[[0.0,\"#0d0887\"],[0.1111111111111111,\"#46039f\"],[0.2222222222222222,\"#7201a8\"],[0.3333333333333333,\"#9c179e\"],[0.4444444444444444,\"#bd3786\"],[0.5555555555555556,\"#d8576b\"],[0.6666666666666666,\"#ed7953\"],[0.7777777777777778,\"#fb9f3a\"],[0.8888888888888888,\"#fdca26\"],[1.0,\"#f0f921\"]],\"sequentialminus\":[[0.0,\"#0d0887\"],[0.1111111111111111,\"#46039f\"],[0.2222222222222222,\"#7201a8\"],[0.3333333333333333,\"#9c179e\"],[0.4444444444444444,\"#bd3786\"],[0.5555555555555556,\"#d8576b\"],[0.6666666666666666,\"#ed7953\"],[0.7777777777777778,\"#fb9f3a\"],[0.8888888888888888,\"#fdca26\"],[1.0,\"#f0f921\"]],\"diverging\":[[0,\"#8e0152\"],[0.1,\"#c51b7d\"],[0.2,\"#de77ae\"],[0.3,\"#f1b6da\"],[0.4,\"#fde0ef\"],[0.5,\"#f7f7f7\"],[0.6,\"#e6f5d0\"],[0.7,\"#b8e186\"],[0.8,\"#7fbc41\"],[0.9,\"#4d9221\"],[1,\"#276419\"]]},\"xaxis\":{\"gridcolor\":\"white\",\"linecolor\":\"white\",\"ticks\":\"\",\"title\":{\"standoff\":15},\"zerolinecolor\":\"white\",\"automargin\":true,\"zerolinewidth\":2},\"yaxis\":{\"gridcolor\":\"white\",\"linecolor\":\"white\",\"ticks\":\"\",\"title\":{\"standoff\":15},\"zerolinecolor\":\"white\",\"automargin\":true,\"zerolinewidth\":2},\"scene\":{\"xaxis\":{\"backgroundcolor\":\"#E5ECF6\",\"gridcolor\":\"white\",\"linecolor\":\"white\",\"showbackground\":true,\"ticks\":\"\",\"zerolinecolor\":\"white\",\"gridwidth\":2},\"yaxis\":{\"backgroundcolor\":\"#E5ECF6\",\"gridcolor\":\"white\",\"linecolor\":\"white\",\"showbackground\":true,\"ticks\":\"\",\"zerolinecolor\":\"white\",\"gridwidth\":2},\"zaxis\":{\"backgroundcolor\":\"#E5ECF6\",\"gridcolor\":\"white\",\"linecolor\":\"white\",\"showbackground\":true,\"ticks\":\"\",\"zerolinecolor\":\"white\",\"gridwidth\":2}},\"shapedefaults\":{\"line\":{\"color\":\"#2a3f5f\"}},\"annotationdefaults\":{\"arrowcolor\":\"#2a3f5f\",\"arrowhead\":0,\"arrowwidth\":1},\"geo\":{\"bgcolor\":\"white\",\"landcolor\":\"#E5ECF6\",\"subunitcolor\":\"white\",\"showland\":true,\"showlakes\":true,\"lakecolor\":\"white\"},\"title\":{\"x\":0.05},\"mapbox\":{\"style\":\"light\"}}},\"xaxis\":{\"anchor\":\"y\",\"domain\":[0.0,0.45],\"title\":{\"text\":\"Credit\"}},\"yaxis\":{\"anchor\":\"x\",\"domain\":[0.0,1.0],\"title\":{\"text\":\"Count\"}},\"xaxis2\":{\"anchor\":\"y2\",\"domain\":[0.55,1.0],\"title\":{\"text\":\"Amount\"}},\"yaxis2\":{\"anchor\":\"x2\",\"domain\":[0.0,1.0],\"title\":{\"text\":\"Count\"}},\"annotations\":[{\"font\":{\"size\":16},\"showarrow\":false,\"text\":\"DF 1. Credit value distribution\",\"x\":0.225,\"xanchor\":\"center\",\"xref\":\"paper\",\"y\":1.0,\"yanchor\":\"bottom\",\"yref\":\"paper\"},{\"font\":{\"size\":16},\"showarrow\":false,\"text\":\"DF 2. Amount value distribution\",\"x\":0.775,\"xanchor\":\"center\",\"xref\":\"paper\",\"y\":1.0,\"yanchor\":\"bottom\",\"yref\":\"paper\"}],\"height\":600,\"width\":1000,\"showlegend\":false},                        {\"responsive\": true}                    ).then(function(){\n",
              "                            \n",
              "var gd = document.getElementById('8e4a77f2-8072-47b9-ad7e-1dff3eeb6d6a');\n",
              "var x = new MutationObserver(function (mutations, observer) {{\n",
              "        var display = window.getComputedStyle(gd).display;\n",
              "        if (!display || display === 'none') {{\n",
              "            console.log([gd, 'removed!']);\n",
              "            Plotly.purge(gd);\n",
              "            observer.disconnect();\n",
              "        }}\n",
              "}});\n",
              "\n",
              "// Listen for the removal of the full notebook cells\n",
              "var notebookContainer = gd.closest('#notebook-container');\n",
              "if (notebookContainer) {{\n",
              "    x.observe(notebookContainer, {childList: true});\n",
              "}}\n",
              "\n",
              "// Listen for the clearing of the current output cell\n",
              "var outputEl = gd.closest('.output');\n",
              "if (outputEl) {{\n",
              "    x.observe(outputEl, {childList: true});\n",
              "}}\n",
              "\n",
              "                        })                };                            </script>        </div>\n",
              "</body>\n",
              "</html>"
            ]
          },
          "metadata": {}
        }
      ]
    },
    {
      "cell_type": "markdown",
      "source": [
        "<font color='teal'>Понять, какие графики можно было бы построить для третьего датасета, оказалось задачей чуть более сложной, поскольку непосредственно числовых данных там нет.\n",
        "\n",
        "Можно построить график, показывающий сколько пользователей используют каждый тип устройств. Также можно построить график распределения времени регистрации на сайте (не знаю, чем это поможет, но все же). Еще можно построить график для данных в столбцу с датой и временем входа. По моей гипотезе, \"дефолтная\" дата 2000 года означает, что повторного входа не было, так можно отследить, сколько пользователей повторили вход, а сколько нет.</font>"
      ],
      "metadata": {
        "id": "Rhs0i6opnWIB"
      }
    },
    {
      "cell_type": "code",
      "source": [
        "fig, ax = plt.subplots(2, 2, figsize=(15, 10))\n",
        "\n",
        "sns.histplot(df_3['type'], bins=7, element='step', color='palevioletred', ax=ax[0, 0])\n",
        "ax[0][0].set_title('DF 3. Device type')\n",
        "ax[0][0].set_xlabel('Device')\n",
        "ax[0][0].set_ylabel('User count')\n",
        "\n",
        "sns.histplot(df_3['time_reg'], bins=7, element='step', color='steelblue', ax=ax[0, 1])\n",
        "ax[0][1].set_title('DF 3. Registration timeline')\n",
        "ax[0][1].set_xlabel('Date')\n",
        "ax[0][1].set_ylabel('Count')\n",
        "ax[0][1].tick_params(axis='x', labelrotation=20)\n",
        "\n",
        "sns.histplot(df_3['time_come'], bins=7, element='step', color='rosybrown', ax=ax[1, 0])\n",
        "ax[1][0].set_title('DF 3. Login timeline')\n",
        "ax[1][0].set_xlabel('Date')\n",
        "ax[1][0].set_ylabel('Count')\n",
        "ax[1][0].tick_params(axis='x', labelrotation=20)\n",
        "ax[1][0].legend(['No new login if year is 2000'], loc='upper right')\n",
        "\n",
        "ax[1][1].set_visible(False)\n",
        "\n",
        "plt.show()"
      ],
      "metadata": {
        "colab": {
          "base_uri": "https://localhost:8080/",
          "height": 883
        },
        "id": "7qW-sDZzPi2H",
        "outputId": "fd48f0ba-ba1b-4d91-9d6d-dd29f6efc89a"
      },
      "execution_count": null,
      "outputs": [
        {
          "output_type": "display_data",
          "data": {
            "text/plain": [
              "<Figure size 1500x1000 with 4 Axes>"
            ],
            "image/png": "[encoded data removed]"
          },
          "metadata": {}
        }
      ]
    },
    {
      "cell_type": "markdown",
      "source": [
        "###<font color='purple'>*Возможные метрики для каждого кейса*</font>"
      ],
      "metadata": {
        "id": "rsa5oQEcnZRC"
      }
    },
    {
      "cell_type": "markdown",
      "source": [
        "* <font color='teal'>Датасет 1: можно рассмотреть среднее значение суммы выданных кредитов или  в целом общее количество выданных кредитов. Если бы датасет содержал в себе данные о дате выдачи, можно было бы отследить сезонность, например, в какой день кредиты выдаются чаще или в большем объеме.</font>\n",
        "\n",
        "* <font color='teal'>Датасет 2: средняя сумма операций/транзакций, общий оборот операций. Если бы были данные о датах, можно было бы рассмотреть средний и общий объем сумм и количества операций по дням.</font>\n",
        "\n",
        "* <font color='teal'>Датасет 3: удержание пользователей - retention rate - на основании данных о повторном входе после регистрации; удержание ползователей по двум независимым группам - разные типы устройств (как показывает личный опыт, удобство и доработка одного и того же софта может находиться на очень разном уровне на разных платформах). При большем количестве данных можно было бы посмотреть временной промежуток между регистрацией и следующими логинами, это помогло бы понять, насколько активно пользуются приложением/сайтом.</font>\n",
        "\n"
      ],
      "metadata": {
        "id": "rJq_ak9oSa9d"
      }
    },
    {
      "cell_type": "markdown",
      "source": [
        "###<font color='purple'>*К какому дата сету вы бы могли применить t-тест?*</font>"
      ],
      "metadata": {
        "id": "E9Dl10amnllD"
      }
    },
    {
      "cell_type": "markdown",
      "source": [
        "<font color='teal'>T-тест можно применить к первому датасету - в нем распределение размеров выданных кредитов судя по гистограмме выглядит близким к нормальному, а значит и выборочное среднее должно быть распределено нормально.\n",
        "\n",
        "Тем не менее, выполним проверку на \"нормальность\" распределения выборочного среднего.</font>"
      ],
      "metadata": {
        "id": "KxEGBB4y-JDX"
      }
    },
    {
      "cell_type": "code",
      "source": [
        "# применяем bootstrap\n",
        "n = 1000\n",
        "result = []\n",
        "for i in range(n):\n",
        "    mean = df_1['CREDIT'].sample(frac=1,replace=True,random_state=i).mean()\n",
        "    result.append(mean)"
      ],
      "metadata": {
        "id": "_LoL4XKFBs-N"
      },
      "execution_count": null,
      "outputs": []
    },
    {
      "cell_type": "code",
      "source": [
        "t = pd.DataFrame({'sample_mean':result})"
      ],
      "metadata": {
        "id": "mNPkvqLPByg_"
      },
      "execution_count": null,
      "outputs": []
    },
    {
      "cell_type": "code",
      "source": [
        "# распределение выборочных средних\n",
        "plt.figure()\n",
        "\n",
        "t['sample_mean'].hist(color='olivedrab', alpha=0.5)\n",
        "\n",
        "plt.grid(alpha=0.1)\n",
        "plt.show()"
      ],
      "metadata": {
        "colab": {
          "base_uri": "https://localhost:8080/",
          "height": 430
        },
        "id": "pjl8LxJTB7Cv",
        "outputId": "5dd64b73-ce9e-469a-f84b-0e4bfe75c774"
      },
      "execution_count": null,
      "outputs": [
        {
          "output_type": "display_data",
          "data": {
            "text/plain": [
              "<Figure size 640x480 with 1 Axes>"
            ],
            "image/png": "[encoded data removed]"
          },
          "metadata": {}
        }
      ]
    },
    {
      "cell_type": "code",
      "source": [
        "import pylab\n",
        "import scipy.stats as stats\n",
        "\n",
        "stats.probplot(t['sample_mean'], dist=\"norm\", plot=pylab)\n",
        "pylab.show()"
      ],
      "metadata": {
        "colab": {
          "base_uri": "https://localhost:8080/",
          "height": 472
        },
        "id": "Q7Jb_6wTB8px",
        "outputId": "8c3d5b44-28d2-432d-d4f5-abea317e8382"
      },
      "execution_count": null,
      "outputs": [
        {
          "output_type": "display_data",
          "data": {
            "text/plain": [
              "<Figure size 640x480 with 1 Axes>"
            ],
            "image/png": "[encoded data removed]"
          },
          "metadata": {}
        }
      ]
    },
    {
      "cell_type": "markdown",
      "source": [
        "<font color='teal'>Распределение выборочного среднего на гистограмме и qq-плоте выглядит адекватно для нормального распределения, что доказывает, что можно проводить т-тест. Нулевая гипотеза - средние значения суммы кредитов в двух подвыборках будут равны. Уровень значимость $alpha = 0.05$.</font>"
      ],
      "metadata": {
        "id": "tznBO8fzDbZ_"
      }
    },
    {
      "cell_type": "code",
      "source": [
        "from scipy.stats import ttest_ind"
      ],
      "metadata": {
        "id": "xGcZ_RXw_p52"
      },
      "execution_count": null,
      "outputs": []
    },
    {
      "cell_type": "code",
      "source": [
        "# генерация подвыборок из имеющегося датасета\n",
        "a = df_1['CREDIT'].sample(frac=1,replace=True,random_state=0)\n",
        "\n",
        "b = df_1['CREDIT'].sample(frac=1,replace=True,random_state=1)"
      ],
      "metadata": {
        "id": "JLS0FCvj_q7N"
      },
      "execution_count": null,
      "outputs": []
    },
    {
      "cell_type": "code",
      "source": [
        "# т-тест для двусторонней альтернативы\n",
        "ttest_ind(a,b,equal_var=False,alternative='two-sided')"
      ],
      "metadata": {
        "colab": {
          "base_uri": "https://localhost:8080/"
        },
        "id": "MVIc8PPA_1tC",
        "outputId": "8fd148a9-a040-4e02-ea4f-30a4966c2fac"
      },
      "execution_count": null,
      "outputs": [
        {
          "output_type": "execute_result",
          "data": {
            "text/plain": [
              "TtestResult(statistic=1.2862495148917379, pvalue=0.19844574647444838, df=3317.778036513752)"
            ]
          },
          "metadata": {},
          "execution_count": 26
        }
      ]
    },
    {
      "cell_type": "code",
      "source": [
        "# генерация подвыборок бутстрэпом для расчета среднего и p-value для каждой\n",
        "n = 1000\n",
        "result = []\n",
        "for i in range(n):\n",
        "    a = df_1['CREDIT'].sample(frac=1,replace=True,random_state=i)\n",
        "    b = df_1['CREDIT'].sample(frac=1,replace=True,random_state=n-i)\n",
        "    pvalue = ttest_ind(a,b,equal_var=False,alternative='two-sided')[1]\n",
        "    result.append((a.mean(),b.mean(),abs(a.mean() - b.mean()),pvalue))"
      ],
      "metadata": {
        "id": "4iBBgxO2_8yQ"
      },
      "execution_count": null,
      "outputs": []
    },
    {
      "cell_type": "code",
      "source": [
        "tt = pd.DataFrame(result,columns=['a_mean','b_mean','diff_abs','p-value'])\n",
        "\n",
        "tt"
      ],
      "metadata": {
        "colab": {
          "base_uri": "https://localhost:8080/",
          "height": 423
        },
        "id": "_IZUN9OlAERR",
        "outputId": "21b079c7-620f-4d6f-ff31-579995de46e6"
      },
      "execution_count": null,
      "outputs": [
        {
          "output_type": "execute_result",
          "data": {
            "text/plain": [
              "           a_mean        b_mean     diff_abs   p-value\n",
              "0    97710.843373  96159.638554  1551.204819  0.289263\n",
              "1    95843.373494  96159.638554   316.265060  0.826146\n",
              "2    96370.481928  96325.301205    45.180723  0.975320\n",
              "3    97620.481928  97816.265060   195.783133  0.892883\n",
              "4    97469.879518  99262.048193  1792.168675  0.223475\n",
              "..            ...           ...          ...       ...\n",
              "995  96370.481928  96129.518072   240.963855  0.871332\n",
              "996  99262.048193  97469.879518  1792.168675  0.223475\n",
              "997  97816.265060  97620.481928   195.783133  0.892883\n",
              "998  96325.301205  96370.481928    45.180723  0.975320\n",
              "999  96159.638554  95843.373494   316.265060  0.826146\n",
              "\n",
              "[1000 rows x 4 columns]"
            ],
            "text/html": [
              "\n",
              "  <div id=\"df-4f17f232-5c55-4418-bdcf-cf33643fa36b\" class=\"colab-df-container\">\n",
              "    <div>\n",
              "<style scoped>\n",
              "    .dataframe tbody tr th:only-of-type {\n",
              "        vertical-align: middle;\n",
              "    }\n",
              "\n",
              "    .dataframe tbody tr th {\n",
              "        vertical-align: top;\n",
              "    }\n",
              "\n",
              "    .dataframe thead th {\n",
              "        text-align: right;\n",
              "    }\n",
              "</style>\n",
              "<table border=\"1\" class=\"dataframe\">\n",
              "  <thead>\n",
              "    <tr style=\"text-align: right;\">\n",
              "      <th></th>\n",
              "      <th>a_mean</th>\n",
              "      <th>b_mean</th>\n",
              "      <th>diff_abs</th>\n",
              "      <th>p-value</th>\n",
              "    </tr>\n",
              "  </thead>\n",
              "  <tbody>\n",
              "    <tr>\n",
              "      <th>0</th>\n",
              "      <td>97710.843373</td>\n",
              "      <td>96159.638554</td>\n",
              "      <td>1551.204819</td>\n",
              "      <td>0.289263</td>\n",
              "    </tr>\n",
              "    <tr>\n",
              "      <th>1</th>\n",
              "      <td>95843.373494</td>\n",
              "      <td>96159.638554</td>\n",
              "      <td>316.265060</td>\n",
              "      <td>0.826146</td>\n",
              "    </tr>\n",
              "    <tr>\n",
              "      <th>2</th>\n",
              "      <td>96370.481928</td>\n",
              "      <td>96325.301205</td>\n",
              "      <td>45.180723</td>\n",
              "      <td>0.975320</td>\n",
              "    </tr>\n",
              "    <tr>\n",
              "      <th>3</th>\n",
              "      <td>97620.481928</td>\n",
              "      <td>97816.265060</td>\n",
              "      <td>195.783133</td>\n",
              "      <td>0.892883</td>\n",
              "    </tr>\n",
              "    <tr>\n",
              "      <th>4</th>\n",
              "      <td>97469.879518</td>\n",
              "      <td>99262.048193</td>\n",
              "      <td>1792.168675</td>\n",
              "      <td>0.223475</td>\n",
              "    </tr>\n",
              "    <tr>\n",
              "      <th>...</th>\n",
              "      <td>...</td>\n",
              "      <td>...</td>\n",
              "      <td>...</td>\n",
              "      <td>...</td>\n",
              "    </tr>\n",
              "    <tr>\n",
              "      <th>995</th>\n",
              "      <td>96370.481928</td>\n",
              "      <td>96129.518072</td>\n",
              "      <td>240.963855</td>\n",
              "      <td>0.871332</td>\n",
              "    </tr>\n",
              "    <tr>\n",
              "      <th>996</th>\n",
              "      <td>99262.048193</td>\n",
              "      <td>97469.879518</td>\n",
              "      <td>1792.168675</td>\n",
              "      <td>0.223475</td>\n",
              "    </tr>\n",
              "    <tr>\n",
              "      <th>997</th>\n",
              "      <td>97816.265060</td>\n",
              "      <td>97620.481928</td>\n",
              "      <td>195.783133</td>\n",
              "      <td>0.892883</td>\n",
              "    </tr>\n",
              "    <tr>\n",
              "      <th>998</th>\n",
              "      <td>96325.301205</td>\n",
              "      <td>96370.481928</td>\n",
              "      <td>45.180723</td>\n",
              "      <td>0.975320</td>\n",
              "    </tr>\n",
              "    <tr>\n",
              "      <th>999</th>\n",
              "      <td>96159.638554</td>\n",
              "      <td>95843.373494</td>\n",
              "      <td>316.265060</td>\n",
              "      <td>0.826146</td>\n",
              "    </tr>\n",
              "  </tbody>\n",
              "</table>\n",
              "<p>1000 rows × 4 columns</p>\n",
              "</div>\n",
              "    <div class=\"colab-df-buttons\">\n",
              "\n",
              "  <div class=\"colab-df-container\">\n",
              "    <button class=\"colab-df-convert\" onclick=\"convertToInteractive('df-4f17f232-5c55-4418-bdcf-cf33643fa36b')\"\n",
              "            title=\"Convert this dataframe to an interactive table.\"\n",
              "            style=\"display:none;\">\n",
              "\n",
              "  <svg xmlns=\"http://www.w3.org/2000/svg\" height=\"24px\" viewBox=\"0 -960 960 960\">\n",
              "    <path d=\"M120-120v-720h720v720H120Zm60-500h600v-160H180v160Zm220 220h160v-160H400v160Zm0 220h160v-160H400v160ZM180-400h160v-160H180v160Zm440 0h160v-160H620v160ZM180-180h160v-160H180v160Zm440 0h160v-160H620v160Z\"/>\n",
              "  </svg>\n",
              "    </button>\n",
              "\n",
              "  <style>\n",
              "    .colab-df-container {\n",
              "      display:flex;\n",
              "      gap: 12px;\n",
              "    }\n",
              "\n",
              "    .colab-df-convert {\n",
              "      background-color: #E8F0FE;\n",
              "      border: none;\n",
              "      border-radius: 50%;\n",
              "      cursor: pointer;\n",
              "      display: none;\n",
              "      fill: #1967D2;\n",
              "      height: 32px;\n",
              "      padding: 0 0 0 0;\n",
              "      width: 32px;\n",
              "    }\n",
              "\n",
              "    .colab-df-convert:hover {\n",
              "      background-color: #E2EBFA;\n",
              "      box-shadow: 0px 1px 2px rgba(60, 64, 67, 0.3), 0px 1px 3px 1px rgba(60, 64, 67, 0.15);\n",
              "      fill: #174EA6;\n",
              "    }\n",
              "\n",
              "    .colab-df-buttons div {\n",
              "      margin-bottom: 4px;\n",
              "    }\n",
              "\n",
              "    [theme=dark] .colab-df-convert {\n",
              "      background-color: #3B4455;\n",
              "      fill: #D2E3FC;\n",
              "    }\n",
              "\n",
              "    [theme=dark] .colab-df-convert:hover {\n",
              "      background-color: #434B5C;\n",
              "      box-shadow: 0px 1px 3px 1px rgba(0, 0, 0, 0.15);\n",
              "      filter: drop-shadow(0px 1px 2px rgba(0, 0, 0, 0.3));\n",
              "      fill: #FFFFFF;\n",
              "    }\n",
              "  </style>\n",
              "\n",
              "    <script>\n",
              "      const buttonEl =\n",
              "        document.querySelector('#df-4f17f232-5c55-4418-bdcf-cf33643fa36b button.colab-df-convert');\n",
              "      buttonEl.style.display =\n",
              "        google.colab.kernel.accessAllowed ? 'block' : 'none';\n",
              "\n",
              "      async function convertToInteractive(key) {\n",
              "        const element = document.querySelector('#df-4f17f232-5c55-4418-bdcf-cf33643fa36b');\n",
              "        const dataTable =\n",
              "          await google.colab.kernel.invokeFunction('convertToInteractive',\n",
              "                                                    [key], {});\n",
              "        if (!dataTable) return;\n",
              "\n",
              "        const docLinkHtml = 'Like what you see? Visit the ' +\n",
              "          '<a target=\"_blank\" href=https://colab.research.google.com/notebooks/data_table.ipynb>data table notebook</a>'\n",
              "          + ' to learn more about interactive tables.';\n",
              "        element.innerHTML = '';\n",
              "        dataTable['output_type'] = 'display_data';\n",
              "        await google.colab.output.renderOutput(dataTable, element);\n",
              "        const docLink = document.createElement('div');\n",
              "        docLink.innerHTML = docLinkHtml;\n",
              "        element.appendChild(docLink);\n",
              "      }\n",
              "    </script>\n",
              "  </div>\n",
              "\n",
              "\n",
              "<div id=\"df-0c43699b-bbed-4fde-aef3-02ac342cb66a\">\n",
              "  <button class=\"colab-df-quickchart\" onclick=\"quickchart('df-0c43699b-bbed-4fde-aef3-02ac342cb66a')\"\n",
              "            title=\"Suggest charts\"\n",
              "            style=\"display:none;\">\n",
              "\n",
              "<svg xmlns=\"http://www.w3.org/2000/svg\" height=\"24px\"viewBox=\"0 0 24 24\"\n",
              "     width=\"24px\">\n",
              "    <g>\n",
              "        <path d=\"M19 3H5c-1.1 0-2 .9-2 2v14c0 1.1.9 2 2 2h14c1.1 0 2-.9 2-2V5c0-1.1-.9-2-2-2zM9 17H7v-7h2v7zm4 0h-2V7h2v10zm4 0h-2v-4h2v4z\"/>\n",
              "    </g>\n",
              "</svg>\n",
              "  </button>\n",
              "\n",
              "<style>\n",
              "  .colab-df-quickchart {\n",
              "      --bg-color: #E8F0FE;\n",
              "      --fill-color: #1967D2;\n",
              "      --hover-bg-color: #E2EBFA;\n",
              "      --hover-fill-color: #174EA6;\n",
              "      --disabled-fill-color: #AAA;\n",
              "      --disabled-bg-color: #DDD;\n",
              "  }\n",
              "\n",
              "  [theme=dark] .colab-df-quickchart {\n",
              "      --bg-color: #3B4455;\n",
              "      --fill-color: #D2E3FC;\n",
              "      --hover-bg-color: #434B5C;\n",
              "      --hover-fill-color: #FFFFFF;\n",
              "      --disabled-bg-color: #3B4455;\n",
              "      --disabled-fill-color: #666;\n",
              "  }\n",
              "\n",
              "  .colab-df-quickchart {\n",
              "    background-color: var(--bg-color);\n",
              "    border: none;\n",
              "    border-radius: 50%;\n",
              "    cursor: pointer;\n",
              "    display: none;\n",
              "    fill: var(--fill-color);\n",
              "    height: 32px;\n",
              "    padding: 0;\n",
              "    width: 32px;\n",
              "  }\n",
              "\n",
              "  .colab-df-quickchart:hover {\n",
              "    background-color: var(--hover-bg-color);\n",
              "    box-shadow: 0 1px 2px rgba(60, 64, 67, 0.3), 0 1px 3px 1px rgba(60, 64, 67, 0.15);\n",
              "    fill: var(--button-hover-fill-color);\n",
              "  }\n",
              "\n",
              "  .colab-df-quickchart-complete:disabled,\n",
              "  .colab-df-quickchart-complete:disabled:hover {\n",
              "    background-color: var(--disabled-bg-color);\n",
              "    fill: var(--disabled-fill-color);\n",
              "    box-shadow: none;\n",
              "  }\n",
              "\n",
              "  .colab-df-spinner {\n",
              "    border: 2px solid var(--fill-color);\n",
              "    border-color: transparent;\n",
              "    border-bottom-color: var(--fill-color);\n",
              "    animation:\n",
              "      spin 1s steps(1) infinite;\n",
              "  }\n",
              "\n",
              "  @keyframes spin {\n",
              "    0% {\n",
              "      border-color: transparent;\n",
              "      border-bottom-color: var(--fill-color);\n",
              "      border-left-color: var(--fill-color);\n",
              "    }\n",
              "    20% {\n",
              "      border-color: transparent;\n",
              "      border-left-color: var(--fill-color);\n",
              "      border-top-color: var(--fill-color);\n",
              "    }\n",
              "    30% {\n",
              "      border-color: transparent;\n",
              "      border-left-color: var(--fill-color);\n",
              "      border-top-color: var(--fill-color);\n",
              "      border-right-color: var(--fill-color);\n",
              "    }\n",
              "    40% {\n",
              "      border-color: transparent;\n",
              "      border-right-color: var(--fill-color);\n",
              "      border-top-color: var(--fill-color);\n",
              "    }\n",
              "    60% {\n",
              "      border-color: transparent;\n",
              "      border-right-color: var(--fill-color);\n",
              "    }\n",
              "    80% {\n",
              "      border-color: transparent;\n",
              "      border-right-color: var(--fill-color);\n",
              "      border-bottom-color: var(--fill-color);\n",
              "    }\n",
              "    90% {\n",
              "      border-color: transparent;\n",
              "      border-bottom-color: var(--fill-color);\n",
              "    }\n",
              "  }\n",
              "</style>\n",
              "\n",
              "  <script>\n",
              "    async function quickchart(key) {\n",
              "      const quickchartButtonEl =\n",
              "        document.querySelector('#' + key + ' button');\n",
              "      quickchartButtonEl.disabled = true;  // To prevent multiple clicks.\n",
              "      quickchartButtonEl.classList.add('colab-df-spinner');\n",
              "      try {\n",
              "        const charts = await google.colab.kernel.invokeFunction(\n",
              "            'suggestCharts', [key], {});\n",
              "      } catch (error) {\n",
              "        console.error('Error during call to suggestCharts:', error);\n",
              "      }\n",
              "      quickchartButtonEl.classList.remove('colab-df-spinner');\n",
              "      quickchartButtonEl.classList.add('colab-df-quickchart-complete');\n",
              "    }\n",
              "    (() => {\n",
              "      let quickchartButtonEl =\n",
              "        document.querySelector('#df-0c43699b-bbed-4fde-aef3-02ac342cb66a button');\n",
              "      quickchartButtonEl.style.display =\n",
              "        google.colab.kernel.accessAllowed ? 'block' : 'none';\n",
              "    })();\n",
              "  </script>\n",
              "</div>\n",
              "    </div>\n",
              "  </div>\n"
            ],
            "application/vnd.google.colaboratory.intrinsic+json": {
              "type": "dataframe",
              "variable_name": "tt",
              "summary": "{\n  \"name\": \"tt\",\n  \"rows\": 1000,\n  \"fields\": [\n    {\n      \"column\": \"a_mean\",\n      \"properties\": {\n        \"dtype\": \"number\",\n        \"std\": 1020.3455386665499,\n        \"min\": 94051.2048192771,\n        \"max\": 100391.56626506025,\n        \"num_unique_values\": 286,\n        \"samples\": [\n          97304.21686746988,\n          98750.0,\n          96972.89156626505\n        ],\n        \"semantic_type\": \"\",\n        \"description\": \"\"\n      }\n    },\n    {\n      \"column\": \"b_mean\",\n      \"properties\": {\n        \"dtype\": \"number\",\n        \"std\": 1020.4028679633212,\n        \"min\": 94051.2048192771,\n        \"max\": 100391.56626506025,\n        \"num_unique_values\": 286,\n        \"samples\": [\n          98207.8313253012,\n          95210.84337349398,\n          94804.21686746988\n        ],\n        \"semantic_type\": \"\",\n        \"description\": \"\"\n      }\n    },\n    {\n      \"column\": \"diff_abs\",\n      \"properties\": {\n        \"dtype\": \"number\",\n        \"std\": 870.11021715382,\n        \"min\": 0.0,\n        \"max\": 5436.746987951818,\n        \"num_unique_values\": 242,\n        \"samples\": [\n          2289.1566265060246,\n          2771.084337349399,\n          2469.879518072281\n        ],\n        \"semantic_type\": \"\",\n        \"description\": \"\"\n      }\n    },\n    {\n      \"column\": \"p-value\",\n      \"properties\": {\n        \"dtype\": \"number\",\n        \"std\": 0.2910678970652332,\n        \"min\": 0.00017946393100785245,\n        \"max\": 1.0,\n        \"num_unique_values\": 499,\n        \"samples\": [\n          0.3456235801901042,\n          0.26658105491410505,\n          0.3521997256676902\n        ],\n        \"semantic_type\": \"\",\n        \"description\": \"\"\n      }\n    }\n  ]\n}"
            }
          },
          "metadata": {},
          "execution_count": 28
        }
      ]
    },
    {
      "cell_type": "code",
      "source": [
        "(tt['p-value'] < 0.05).mean()"
      ],
      "metadata": {
        "colab": {
          "base_uri": "https://localhost:8080/"
        },
        "id": "OqA0Or1YAN6H",
        "outputId": "ec0aa648-e575-4b57-b31d-641443ec1bad"
      },
      "execution_count": null,
      "outputs": [
        {
          "output_type": "execute_result",
          "data": {
            "text/plain": [
              "0.038"
            ]
          },
          "metadata": {},
          "execution_count": 29
        }
      ]
    },
    {
      "cell_type": "markdown",
      "source": [
        "<font color='teal'>Как я понимаю, это можно трактовать так, что в 3,8% случаев результат получился статистически значимым. Т.е. только в 3,8% полученных с помощью симуляции данных мы получаем статистически значимый результат. Полагаю, что в общем отвергнуть гипотезу мы не можем, т.к. существуют оставшиеся 96,2%. Более того, функция для т-теста без бутстрэпа также не дает оснований отвергнуть нулевую гипотезу, потому что:\n",
        "\n",
        "    pvalue=0.19844574647444838\n",
        "\n",
        "<font color='teal'>что больше уровня значимости 0.05.</font>"
      ],
      "metadata": {
        "id": "MTwQtc9yXHQ4"
      }
    },
    {
      "cell_type": "code",
      "source": [
        "stats.probplot(tt['p-value'], dist=\"uniform\", plot=pylab)\n",
        "pylab.show()"
      ],
      "metadata": {
        "colab": {
          "base_uri": "https://localhost:8080/",
          "height": 472
        },
        "id": "crMP5DcuAU2N",
        "outputId": "eef0a6a7-2a88-4dad-e2c0-af9d8ac6e460"
      },
      "execution_count": null,
      "outputs": [
        {
          "output_type": "display_data",
          "data": {
            "text/plain": [
              "<Figure size 640x480 with 1 Axes>"
            ],
            "image/png": "[encoded data removed]"
          },
          "metadata": {}
        }
      ]
    },
    {
      "cell_type": "markdown",
      "source": [
        "---\n",
        "\n",
        "<font color='teal'>Проверим возможность проведения т-теста для второго датасета. Данные распределены ненормально согласно гистограмме. Необходимо проверить, будет ли нормально распределено выборочное среднее."
      ],
      "metadata": {
        "id": "Vh0y7j4vAnvA"
      }
    },
    {
      "cell_type": "code",
      "source": [
        "# применяем bootstrap\n",
        "n = 1000\n",
        "result = []\n",
        "for i in range(n):\n",
        "    mean = df_2['amount'].sample(frac=1,replace=True,random_state=i).mean()\n",
        "    result.append(mean)"
      ],
      "metadata": {
        "id": "1SqFDdJmD2Cf"
      },
      "execution_count": null,
      "outputs": []
    },
    {
      "cell_type": "code",
      "source": [
        "t_2 = pd.DataFrame({'sample_mean':result})"
      ],
      "metadata": {
        "id": "KqYUuXq5D_KN"
      },
      "execution_count": null,
      "outputs": []
    },
    {
      "cell_type": "code",
      "source": [
        "# распределение выборочных средних\n",
        "plt.figure()\n",
        "\n",
        "t_2['sample_mean'].hist(color='olivedrab', alpha=0.5)\n",
        "\n",
        "plt.grid(alpha=0.1)\n",
        "plt.show()"
      ],
      "metadata": {
        "colab": {
          "base_uri": "https://localhost:8080/",
          "height": 430
        },
        "id": "4-ApiGeJEOlp",
        "outputId": "6eead1fa-ae5d-41ee-b135-4cb68974c598"
      },
      "execution_count": null,
      "outputs": [
        {
          "output_type": "display_data",
          "data": {
            "text/plain": [
              "<Figure size 640x480 with 1 Axes>"
            ],
            "image/png": "[encoded data removed]"
          },
          "metadata": {}
        }
      ]
    },
    {
      "cell_type": "code",
      "source": [
        "stats.probplot(t_2['sample_mean'], dist=\"norm\", plot=pylab)\n",
        "pylab.show()"
      ],
      "metadata": {
        "colab": {
          "base_uri": "https://localhost:8080/",
          "height": 472
        },
        "id": "eGhwj6HcEkjH",
        "outputId": "59d930d6-8745-420d-b5f5-524f9a7b51fb"
      },
      "execution_count": null,
      "outputs": [
        {
          "output_type": "display_data",
          "data": {
            "text/plain": [
              "<Figure size 640x480 with 1 Axes>"
            ],
            "image/png": "[encoded data removed]"
          },
          "metadata": {}
        }
      ]
    },
    {
      "cell_type": "markdown",
      "source": [
        "<font color='teal'>Гистограмма распределения выборочного среднего для второго датасета напоминает по форме график нормального распределения, но, тем не менее, график все-таки видимо сдвинут слево, чтобы утверждать о нормальном распределении и проводить т-тест. QQ-plot также говорит не в пользу нормального распределения выборочного среднего - данные искажены относительно прямой. Соответсвенно, принимаем решение против проведения т-теста в данному случае.</font>"
      ],
      "metadata": {
        "id": "7KK0nA5rEu0D"
      }
    },
    {
      "cell_type": "markdown",
      "source": [
        "---\n",
        "\n",
        "<font color='teal'>Третий датасет не содержит количественных данных (только категориальные и даты), поэтому кажется релевантным подобрать альтернативный вариант, т.к. т-тест не сможет дать адекватный результат.</font>"
      ],
      "metadata": {
        "id": "1v-ECOh6PDZd"
      }
    },
    {
      "cell_type": "markdown",
      "source": [
        "###<font color='purple'>*К какому дата сету вы бы могли применить z-тест?*</font>"
      ],
      "metadata": {
        "id": "Y2gZbRUwnsIJ"
      }
    },
    {
      "cell_type": "markdown",
      "source": [
        "<font color='teal'>Z-тест может применяться для бинарной классификации. Если преобразовать данные в третьем датасете, то, погалаю, может появиться возможность проведения z-теста для этого датасета.</font>\n",
        "\n",
        "<font color='teal'>Например, можно с помощью one-hot encoding преобразовать данные из столбца `time_come` в 0 для отсутствия повторного входа и 1 для наличия повторного входа и посмотреть retention rate. Новая фича может быть направлена на улучшение показателя сохраняемости пользователей. Также можно, наверное, разделить выборки на пользователей android и ios и сравнить показатель renetion rate между такими двумя выборками. Возможно, если в одной выборке метрика преобладает над показателями в другой, то это сигнализирует о том, что, например, приложение для устройств с худшим показателем метрики требуется в улучшении интерфейса и т.д.</font>\n",
        "\n",
        "<font color='grey'>(Но это не точно, но мне на данном этапе так видится)</font>"
      ],
      "metadata": {
        "id": "5czsEbGrLvhc"
      }
    },
    {
      "cell_type": "markdown",
      "source": [
        "###<font color='purple'>*К какому вы бы не стали применять t-test и z-test?*</font>"
      ],
      "metadata": {
        "id": "Sh8b2zjuntex"
      }
    },
    {
      "cell_type": "markdown",
      "source": [
        "<font color='teal'>Кажется, что ко второму датасету не следует применять t-тест или z-тест - для z-теста нет бинарной классификации, для t-теста \"провалена\" проверка на нормальное распределение выборочного среднего и заметны выбросы.</font>\n",
        "\n",
        "<font color='teal'>Также, возможно, для третьего датасета в том виде, в котором он существует, следует применить альтернативный тест, т.к. в нем не содержится количественных данных в принципе, и сделать выбор в пользу, например, теста Манна-Уитни.</font>\n",
        "\n",
        "<font color='grey'>(И это снова не точно, но мне на данном этапе так видится)</font>"
      ],
      "metadata": {
        "id": "sz-HI6jZLwjf"
      }
    }
  ]
}
